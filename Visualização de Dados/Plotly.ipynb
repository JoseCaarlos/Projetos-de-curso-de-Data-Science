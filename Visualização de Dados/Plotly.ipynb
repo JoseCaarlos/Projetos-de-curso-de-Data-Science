{
 "cells": [
  {
   "cell_type": "markdown",
   "metadata": {},
   "source": [
    "## Visualização de dados com Plot.ly##"
   ]
  },
  {
   "cell_type": "markdown",
   "metadata": {},
   "source": [
    "`Cufflinks conecta o pandas ao plot.ly`\n",
    "\n",
    "`Instalação do Plot.ly e Cufflinks`"
   ]
  },
  {
   "cell_type": "code",
   "execution_count": 9,
   "metadata": {},
   "outputs": [
    {
     "name": "stdout",
     "output_type": "stream",
     "text": [
      "Requirement already satisfied: cufflinks in d:\\desenvolvimento\\anaconda\\lib\\site-packages (0.17.0)\n",
      "Requirement already satisfied: pandas>=0.19.2 in d:\\desenvolvimento\\anaconda\\lib\\site-packages (from cufflinks) (0.25.1)\n",
      "Requirement already satisfied: chart-studio>=1.0.0 in d:\\desenvolvimento\\anaconda\\lib\\site-packages (from cufflinks) (1.0.0)\n",
      "Requirement already satisfied: ipywidgets>=7.0.0 in d:\\desenvolvimento\\anaconda\\lib\\site-packages (from cufflinks) (7.5.1)\n",
      "Requirement already satisfied: setuptools>=34.4.1 in d:\\desenvolvimento\\anaconda\\lib\\site-packages (from cufflinks) (41.4.0)\n",
      "Requirement already satisfied: numpy>=1.9.2 in d:\\desenvolvimento\\anaconda\\lib\\site-packages (from cufflinks) (1.18.2)\n",
      "Requirement already satisfied: colorlover>=0.2.1 in d:\\desenvolvimento\\anaconda\\lib\\site-packages (from cufflinks) (0.3.0)\n",
      "Requirement already satisfied: ipython>=5.3.0 in d:\\desenvolvimento\\anaconda\\lib\\site-packages (from cufflinks) (7.8.0)\n",
      "Requirement already satisfied: plotly>=4.1.1 in d:\\desenvolvimento\\anaconda\\lib\\site-packages (from cufflinks) (4.4.1)\n",
      "Requirement already satisfied: six>=1.9.0 in d:\\desenvolvimento\\anaconda\\lib\\site-packages (from cufflinks) (1.12.0)\n",
      "Requirement already satisfied: python-dateutil>=2.6.1 in d:\\desenvolvimento\\anaconda\\lib\\site-packages (from pandas>=0.19.2->cufflinks) (2.8.0)\n",
      "Requirement already satisfied: pytz>=2017.2 in d:\\desenvolvimento\\anaconda\\lib\\site-packages (from pandas>=0.19.2->cufflinks) (2019.3)\n",
      "Requirement already satisfied: retrying>=1.3.3 in d:\\desenvolvimento\\anaconda\\lib\\site-packages (from chart-studio>=1.0.0->cufflinks) (1.3.3)\n",
      "Requirement already satisfied: requests in d:\\desenvolvimento\\anaconda\\lib\\site-packages (from chart-studio>=1.0.0->cufflinks) (2.22.0)\n",
      "Requirement already satisfied: nbformat>=4.2.0 in d:\\desenvolvimento\\anaconda\\lib\\site-packages (from ipywidgets>=7.0.0->cufflinks) (4.4.0)\n",
      "Requirement already satisfied: traitlets>=4.3.1 in d:\\desenvolvimento\\anaconda\\lib\\site-packages (from ipywidgets>=7.0.0->cufflinks) (4.3.3)\n",
      "Requirement already satisfied: ipykernel>=4.5.1 in d:\\desenvolvimento\\anaconda\\lib\\site-packages (from ipywidgets>=7.0.0->cufflinks) (5.1.2)\n",
      "Requirement already satisfied: widgetsnbextension~=3.5.0 in d:\\desenvolvimento\\anaconda\\lib\\site-packages (from ipywidgets>=7.0.0->cufflinks) (3.5.1)\n",
      "Requirement already satisfied: pygments in d:\\desenvolvimento\\anaconda\\lib\\site-packages (from ipython>=5.3.0->cufflinks) (2.4.2)\n",
      "Requirement already satisfied: decorator in d:\\desenvolvimento\\anaconda\\lib\\site-packages (from ipython>=5.3.0->cufflinks) (4.4.0)\n",
      "Requirement already satisfied: colorama; sys_platform == \"win32\" in c:\\users\\jose\\appdata\\roaming\\python\\python37\\site-packages (from ipython>=5.3.0->cufflinks) (0.4.3)\n",
      "Requirement already satisfied: jedi>=0.10 in d:\\desenvolvimento\\anaconda\\lib\\site-packages (from ipython>=5.3.0->cufflinks) (0.15.1)\n",
      "Requirement already satisfied: backcall in d:\\desenvolvimento\\anaconda\\lib\\site-packages (from ipython>=5.3.0->cufflinks) (0.1.0)\n",
      "Requirement already satisfied: prompt-toolkit<2.1.0,>=2.0.0 in d:\\desenvolvimento\\anaconda\\lib\\site-packages (from ipython>=5.3.0->cufflinks) (2.0.10)\n",
      "Requirement already satisfied: pickleshare in d:\\desenvolvimento\\anaconda\\lib\\site-packages (from ipython>=5.3.0->cufflinks) (0.7.5)\n",
      "Requirement already satisfied: certifi>=2017.4.17 in d:\\desenvolvimento\\anaconda\\lib\\site-packages (from requests->chart-studio>=1.0.0->cufflinks) (2019.9.11)\n",
      "Requirement already satisfied: urllib3!=1.25.0,!=1.25.1,<1.26,>=1.21.1 in d:\\desenvolvimento\\anaconda\\lib\\site-packages (from requests->chart-studio>=1.0.0->cufflinks) (1.24.2)\n",
      "Requirement already satisfied: chardet<3.1.0,>=3.0.2 in d:\\desenvolvimento\\anaconda\\lib\\site-packages (from requests->chart-studio>=1.0.0->cufflinks) (3.0.4)\n",
      "Requirement already satisfied: idna<2.9,>=2.5 in d:\\desenvolvimento\\anaconda\\lib\\site-packages (from requests->chart-studio>=1.0.0->cufflinks) (2.8)\n",
      "Requirement already satisfied: ipython-genutils in d:\\desenvolvimento\\anaconda\\lib\\site-packages (from nbformat>=4.2.0->ipywidgets>=7.0.0->cufflinks) (0.2.0)\n",
      "Requirement already satisfied: jsonschema!=2.5.0,>=2.4 in d:\\desenvolvimento\\anaconda\\lib\\site-packages (from nbformat>=4.2.0->ipywidgets>=7.0.0->cufflinks) (3.0.2)\n",
      "Requirement already satisfied: jupyter-core in d:\\desenvolvimento\\anaconda\\lib\\site-packages (from nbformat>=4.2.0->ipywidgets>=7.0.0->cufflinks) (4.5.0)\n",
      "Requirement already satisfied: jupyter-client in d:\\desenvolvimento\\anaconda\\lib\\site-packages (from ipykernel>=4.5.1->ipywidgets>=7.0.0->cufflinks) (5.3.3)\n",
      "Requirement already satisfied: tornado>=4.2 in d:\\desenvolvimento\\anaconda\\lib\\site-packages (from ipykernel>=4.5.1->ipywidgets>=7.0.0->cufflinks) (6.0.3)\n",
      "Requirement already satisfied: notebook>=4.4.1 in d:\\desenvolvimento\\anaconda\\lib\\site-packages (from widgetsnbextension~=3.5.0->ipywidgets>=7.0.0->cufflinks) (6.0.1)\n",
      "Requirement already satisfied: parso>=0.5.0 in d:\\desenvolvimento\\anaconda\\lib\\site-packages (from jedi>=0.10->ipython>=5.3.0->cufflinks) (0.5.1)\n",
      "Requirement already satisfied: wcwidth in d:\\desenvolvimento\\anaconda\\lib\\site-packages (from prompt-toolkit<2.1.0,>=2.0.0->ipython>=5.3.0->cufflinks) (0.1.7)\n",
      "Requirement already satisfied: pyrsistent>=0.14.0 in d:\\desenvolvimento\\anaconda\\lib\\site-packages (from jsonschema!=2.5.0,>=2.4->nbformat>=4.2.0->ipywidgets>=7.0.0->cufflinks) (0.15.4)\n",
      "Requirement already satisfied: attrs>=17.4.0 in d:\\desenvolvimento\\anaconda\\lib\\site-packages (from jsonschema!=2.5.0,>=2.4->nbformat>=4.2.0->ipywidgets>=7.0.0->cufflinks) (19.2.0)\n",
      "Requirement already satisfied: pyzmq>=13 in d:\\desenvolvimento\\anaconda\\lib\\site-packages (from jupyter-client->ipykernel>=4.5.1->ipywidgets>=7.0.0->cufflinks) (18.1.0)\n",
      "Requirement already satisfied: pywin32>=1.0; sys_platform == \"win32\" in d:\\desenvolvimento\\anaconda\\lib\\site-packages (from jupyter-client->ipykernel>=4.5.1->ipywidgets>=7.0.0->cufflinks) (223)\n",
      "Requirement already satisfied: jinja2 in d:\\desenvolvimento\\anaconda\\lib\\site-packages (from notebook>=4.4.1->widgetsnbextension~=3.5.0->ipywidgets>=7.0.0->cufflinks) (2.10.3)\n",
      "Requirement already satisfied: prometheus-client in d:\\desenvolvimento\\anaconda\\lib\\site-packages (from notebook>=4.4.1->widgetsnbextension~=3.5.0->ipywidgets>=7.0.0->cufflinks) (0.7.1)\n",
      "Requirement already satisfied: nbconvert in d:\\desenvolvimento\\anaconda\\lib\\site-packages (from notebook>=4.4.1->widgetsnbextension~=3.5.0->ipywidgets>=7.0.0->cufflinks) (5.6.0)\n",
      "Requirement already satisfied: terminado>=0.8.1 in d:\\desenvolvimento\\anaconda\\lib\\site-packages (from notebook>=4.4.1->widgetsnbextension~=3.5.0->ipywidgets>=7.0.0->cufflinks) (0.8.2)\n",
      "Requirement already satisfied: Send2Trash in d:\\desenvolvimento\\anaconda\\lib\\site-packages (from notebook>=4.4.1->widgetsnbextension~=3.5.0->ipywidgets>=7.0.0->cufflinks) (1.5.0)\n",
      "Requirement already satisfied: MarkupSafe>=0.23 in d:\\desenvolvimento\\anaconda\\lib\\site-packages (from jinja2->notebook>=4.4.1->widgetsnbextension~=3.5.0->ipywidgets>=7.0.0->cufflinks) (1.1.1)\n",
      "Requirement already satisfied: defusedxml in d:\\desenvolvimento\\anaconda\\lib\\site-packages (from nbconvert->notebook>=4.4.1->widgetsnbextension~=3.5.0->ipywidgets>=7.0.0->cufflinks) (0.6.0)\n",
      "Requirement already satisfied: bleach in d:\\desenvolvimento\\anaconda\\lib\\site-packages (from nbconvert->notebook>=4.4.1->widgetsnbextension~=3.5.0->ipywidgets>=7.0.0->cufflinks) (3.1.0)\n",
      "Requirement already satisfied: entrypoints>=0.2.2 in d:\\desenvolvimento\\anaconda\\lib\\site-packages (from nbconvert->notebook>=4.4.1->widgetsnbextension~=3.5.0->ipywidgets>=7.0.0->cufflinks) (0.3)\n",
      "Requirement already satisfied: testpath in d:\\desenvolvimento\\anaconda\\lib\\site-packages (from nbconvert->notebook>=4.4.1->widgetsnbextension~=3.5.0->ipywidgets>=7.0.0->cufflinks) (0.4.2)\n",
      "Requirement already satisfied: mistune<2,>=0.8.1 in d:\\desenvolvimento\\anaconda\\lib\\site-packages (from nbconvert->notebook>=4.4.1->widgetsnbextension~=3.5.0->ipywidgets>=7.0.0->cufflinks) (0.8.4)\n",
      "Requirement already satisfied: pandocfilters>=1.4.1 in d:\\desenvolvimento\\anaconda\\lib\\site-packages (from nbconvert->notebook>=4.4.1->widgetsnbextension~=3.5.0->ipywidgets>=7.0.0->cufflinks) (1.4.2)\n",
      "Requirement already satisfied: webencodings in d:\\desenvolvimento\\anaconda\\lib\\site-packages (from bleach->nbconvert->notebook>=4.4.1->widgetsnbextension~=3.5.0->ipywidgets>=7.0.0->cufflinks) (0.5.1)\n"
     ]
    },
    {
     "name": "stdout",
     "output_type": "stream",
     "text": [
      "Requirement already satisfied: plotly in d:\\desenvolvimento\\anaconda\\lib\\site-packages (4.4.1)\n",
      "Requirement already satisfied: six in d:\\desenvolvimento\\anaconda\\lib\\site-packages (from plotly) (1.12.0)\n",
      "Requirement already satisfied: retrying>=1.3.3 in d:\\desenvolvimento\\anaconda\\lib\\site-packages (from plotly) (1.3.3)\n"
     ]
    }
   ],
   "source": [
    "!pip install cufflinks\n",
    "!pip install plotly"
   ]
  },
  {
   "cell_type": "markdown",
   "metadata": {},
   "source": [
    "`Importando o cufflinks e o plot.ly`"
   ]
  },
  {
   "cell_type": "code",
   "execution_count": 1,
   "metadata": {},
   "outputs": [],
   "source": [
    "import cufflinks as cf\n",
    "from plotly.offline import plot, iplot\n",
    "import pandas as pd\n",
    "import numpy as np"
   ]
  },
  {
   "cell_type": "markdown",
   "metadata": {},
   "source": [
    "**Cria um dataframe com dados aleatórios divididos por 4 colunas**"
   ]
  },
  {
   "cell_type": "code",
   "execution_count": 2,
   "metadata": {},
   "outputs": [],
   "source": [
    "df = pd.DataFrame(np.random.randn(100,4), columns=['A','B','C','D'])"
   ]
  },
  {
   "cell_type": "code",
   "execution_count": 3,
   "metadata": {},
   "outputs": [
    {
     "data": {
      "text/html": [
       "<div>\n",
       "<style scoped>\n",
       "    .dataframe tbody tr th:only-of-type {\n",
       "        vertical-align: middle;\n",
       "    }\n",
       "\n",
       "    .dataframe tbody tr th {\n",
       "        vertical-align: top;\n",
       "    }\n",
       "\n",
       "    .dataframe thead th {\n",
       "        text-align: right;\n",
       "    }\n",
       "</style>\n",
       "<table border=\"1\" class=\"dataframe\">\n",
       "  <thead>\n",
       "    <tr style=\"text-align: right;\">\n",
       "      <th></th>\n",
       "      <th>A</th>\n",
       "      <th>B</th>\n",
       "      <th>C</th>\n",
       "      <th>D</th>\n",
       "    </tr>\n",
       "  </thead>\n",
       "  <tbody>\n",
       "    <tr>\n",
       "      <td>0</td>\n",
       "      <td>0.780272</td>\n",
       "      <td>0.152236</td>\n",
       "      <td>0.320002</td>\n",
       "      <td>1.081457</td>\n",
       "    </tr>\n",
       "    <tr>\n",
       "      <td>1</td>\n",
       "      <td>-0.090327</td>\n",
       "      <td>0.152209</td>\n",
       "      <td>0.284963</td>\n",
       "      <td>1.850857</td>\n",
       "    </tr>\n",
       "    <tr>\n",
       "      <td>2</td>\n",
       "      <td>-0.674573</td>\n",
       "      <td>1.848285</td>\n",
       "      <td>0.570968</td>\n",
       "      <td>-0.369201</td>\n",
       "    </tr>\n",
       "    <tr>\n",
       "      <td>3</td>\n",
       "      <td>-0.233034</td>\n",
       "      <td>0.727078</td>\n",
       "      <td>0.156248</td>\n",
       "      <td>0.954416</td>\n",
       "    </tr>\n",
       "    <tr>\n",
       "      <td>4</td>\n",
       "      <td>0.468613</td>\n",
       "      <td>-0.323476</td>\n",
       "      <td>-1.025888</td>\n",
       "      <td>-0.061055</td>\n",
       "    </tr>\n",
       "  </tbody>\n",
       "</table>\n",
       "</div>"
      ],
      "text/plain": [
       "          A         B         C         D\n",
       "0  0.780272  0.152236  0.320002  1.081457\n",
       "1 -0.090327  0.152209  0.284963  1.850857\n",
       "2 -0.674573  1.848285  0.570968 -0.369201\n",
       "3 -0.233034  0.727078  0.156248  0.954416\n",
       "4  0.468613 -0.323476 -1.025888 -0.061055"
      ]
     },
     "execution_count": 3,
     "metadata": {},
     "output_type": "execute_result"
    }
   ],
   "source": [
    "df.head()"
   ]
  },
  {
   "cell_type": "markdown",
   "metadata": {},
   "source": [
    "**Ao tentar usar o Cufflinks veja o resultado**"
   ]
  },
  {
   "cell_type": "code",
   "execution_count": 5,
   "metadata": {},
   "outputs": [
    {
     "ename": "PlotlyError",
     "evalue": "Because you didn't supply a 'file_id' in the call, we're assuming you're trying to snag a figure from a url. You supplied the url, 'https://plotly.com/~josecarlos10967/14/', we expected it to start with 'https://plot.ly'.\nRun help on this function for more information.",
     "output_type": "error",
     "traceback": [
      "\u001b[1;31m---------------------------------------------------------------------------\u001b[0m",
      "\u001b[1;31mPlotlyError\u001b[0m                               Traceback (most recent call last)",
      "\u001b[1;32m<ipython-input-5-781b4f29bfe2>\u001b[0m in \u001b[0;36m<module>\u001b[1;34m\u001b[0m\n\u001b[0;32m      1\u001b[0m \u001b[1;31m# tenta realizar contato com uma conta no Plotly por isso tem que usar o mod offline\u001b[0m\u001b[1;33m\u001b[0m\u001b[1;33m\u001b[0m\u001b[1;33m\u001b[0m\u001b[0m\n\u001b[1;32m----> 2\u001b[1;33m \u001b[0mdf\u001b[0m\u001b[1;33m.\u001b[0m\u001b[0miplot\u001b[0m\u001b[1;33m(\u001b[0m\u001b[1;33m)\u001b[0m\u001b[1;33m\u001b[0m\u001b[1;33m\u001b[0m\u001b[0m\n\u001b[0m",
      "\u001b[1;32mD:\\Desenvolvimento\\Anaconda\\lib\\site-packages\\cufflinks\\plotlytools.py\u001b[0m in \u001b[0;36m_iplot\u001b[1;34m(self, kind, data, layout, filename, sharing, title, xTitle, yTitle, zTitle, theme, colors, colorscale, fill, width, dash, mode, interpolation, symbol, size, barmode, sortbars, bargap, bargroupgap, bins, histnorm, histfunc, orientation, boxpoints, annotations, keys, bestfit, bestfit_colors, mean, mean_colors, categories, x, y, z, text, gridcolor, zerolinecolor, margin, labels, values, secondary_y, secondary_y_title, subplots, shape, error_x, error_y, error_type, locations, lon, lat, asFrame, asDates, asFigure, asImage, dimensions, asPlot, asUrl, online, **kwargs)\u001b[0m\n\u001b[0;32m   1217\u001b[0m \t\treturn iplot(figure,validate=validate,sharing=sharing,filename=filename,\n\u001b[0;32m   1218\u001b[0m                          \u001b[0monline\u001b[0m\u001b[1;33m=\u001b[0m\u001b[0monline\u001b[0m\u001b[1;33m,\u001b[0m\u001b[0masImage\u001b[0m\u001b[1;33m=\u001b[0m\u001b[0masImage\u001b[0m\u001b[1;33m,\u001b[0m\u001b[0masUrl\u001b[0m\u001b[1;33m=\u001b[0m\u001b[0masUrl\u001b[0m\u001b[1;33m,\u001b[0m\u001b[0masPlot\u001b[0m\u001b[1;33m=\u001b[0m\u001b[0masPlot\u001b[0m\u001b[1;33m,\u001b[0m\u001b[1;33m\u001b[0m\u001b[1;33m\u001b[0m\u001b[0m\n\u001b[1;32m-> 1219\u001b[1;33m \t\t\t dimensions=dimensions,display_image=kwargs.get('display_image',True))\n\u001b[0m\u001b[0;32m   1220\u001b[0m \u001b[1;33m\u001b[0m\u001b[0m\n\u001b[0;32m   1221\u001b[0m \u001b[1;33m\u001b[0m\u001b[0m\n",
      "\u001b[1;32mD:\\Desenvolvimento\\Anaconda\\lib\\site-packages\\cufflinks\\plotlytools.py\u001b[0m in \u001b[0;36miplot\u001b[1;34m(figure, validate, sharing, filename, online, asImage, asUrl, asPlot, dimensions, display_image, **kwargs)\u001b[0m\n\u001b[0;32m   1462\u001b[0m         \u001b[1;32melse\u001b[0m\u001b[1;33m:\u001b[0m\u001b[1;33m\u001b[0m\u001b[1;33m\u001b[0m\u001b[0m\n\u001b[0;32m   1463\u001b[0m \t\treturn py.iplot(figure,validate=validate,sharing=sharing,\n\u001b[1;32m-> 1464\u001b[1;33m \t\t\t\t\t\tfilename=filename)\n\u001b[0m\u001b[0;32m   1465\u001b[0m \u001b[1;33m\u001b[0m\u001b[0m\n\u001b[0;32m   1466\u001b[0m \u001b[1;33m\u001b[0m\u001b[0m\n",
      "\u001b[1;32mD:\\Desenvolvimento\\Anaconda\\lib\\site-packages\\chart_studio\\plotly\\plotly.py\u001b[0m in \u001b[0;36miplot\u001b[1;34m(figure_or_data, **plot_options)\u001b[0m\n\u001b[0;32m    161\u001b[0m         \u001b[0membed_options\u001b[0m\u001b[1;33m[\u001b[0m\u001b[1;34m\"height\"\u001b[0m\u001b[1;33m]\u001b[0m \u001b[1;33m=\u001b[0m \u001b[0mstr\u001b[0m\u001b[1;33m(\u001b[0m\u001b[0membed_options\u001b[0m\u001b[1;33m[\u001b[0m\u001b[1;34m\"height\"\u001b[0m\u001b[1;33m]\u001b[0m\u001b[1;33m)\u001b[0m \u001b[1;33m+\u001b[0m \u001b[1;34m\"px\"\u001b[0m\u001b[1;33m\u001b[0m\u001b[1;33m\u001b[0m\u001b[0m\n\u001b[0;32m    162\u001b[0m \u001b[1;33m\u001b[0m\u001b[0m\n\u001b[1;32m--> 163\u001b[1;33m     \u001b[1;32mreturn\u001b[0m \u001b[0mtools\u001b[0m\u001b[1;33m.\u001b[0m\u001b[0membed\u001b[0m\u001b[1;33m(\u001b[0m\u001b[0murl\u001b[0m\u001b[1;33m,\u001b[0m \u001b[1;33m**\u001b[0m\u001b[0membed_options\u001b[0m\u001b[1;33m)\u001b[0m\u001b[1;33m\u001b[0m\u001b[1;33m\u001b[0m\u001b[0m\n\u001b[0m\u001b[0;32m    164\u001b[0m \u001b[1;33m\u001b[0m\u001b[0m\n\u001b[0;32m    165\u001b[0m \u001b[1;33m\u001b[0m\u001b[0m\n",
      "\u001b[1;32mD:\\Desenvolvimento\\Anaconda\\lib\\site-packages\\chart_studio\\tools.py\u001b[0m in \u001b[0;36membed\u001b[1;34m(file_owner_or_url, file_id, width, height)\u001b[0m\n\u001b[0;32m    380\u001b[0m             \u001b[0murl\u001b[0m \u001b[1;33m=\u001b[0m \u001b[0mfile_owner_or_url\u001b[0m\u001b[1;33m\u001b[0m\u001b[1;33m\u001b[0m\u001b[0m\n\u001b[0;32m    381\u001b[0m \u001b[1;33m\u001b[0m\u001b[0m\n\u001b[1;32m--> 382\u001b[1;33m         \u001b[0membed_url\u001b[0m \u001b[1;33m=\u001b[0m \u001b[0m_get_embed_url\u001b[0m\u001b[1;33m(\u001b[0m\u001b[0murl\u001b[0m\u001b[1;33m,\u001b[0m \u001b[0mfile_id\u001b[0m\u001b[1;33m)\u001b[0m\u001b[1;33m\u001b[0m\u001b[1;33m\u001b[0m\u001b[0m\n\u001b[0m\u001b[0;32m    383\u001b[0m         \u001b[1;32mreturn\u001b[0m \u001b[0mipython_display\u001b[0m\u001b[1;33m.\u001b[0m\u001b[0mIFrame\u001b[0m\u001b[1;33m(\u001b[0m\u001b[0membed_url\u001b[0m\u001b[1;33m,\u001b[0m \u001b[0mwidth\u001b[0m\u001b[1;33m,\u001b[0m \u001b[0mheight\u001b[0m\u001b[1;33m)\u001b[0m\u001b[1;33m\u001b[0m\u001b[1;33m\u001b[0m\u001b[0m\n\u001b[0;32m    384\u001b[0m     \u001b[1;32melse\u001b[0m\u001b[1;33m:\u001b[0m\u001b[1;33m\u001b[0m\u001b[1;33m\u001b[0m\u001b[0m\n",
      "\u001b[1;32mD:\\Desenvolvimento\\Anaconda\\lib\\site-packages\\chart_studio\\tools.py\u001b[0m in \u001b[0;36m_get_embed_url\u001b[1;34m(file_owner_or_url, file_id)\u001b[0m\n\u001b[0;32m    259\u001b[0m                 \u001b[1;34m\"'{1}'.\"\u001b[0m\u001b[1;33m\u001b[0m\u001b[1;33m\u001b[0m\u001b[0m\n\u001b[0;32m    260\u001b[0m                 \u001b[1;34m\"\\nRun help on this function for more information.\"\u001b[0m\u001b[1;33m\u001b[0m\u001b[1;33m\u001b[0m\u001b[0m\n\u001b[1;32m--> 261\u001b[1;33m                 \u001b[1;34m\"\"\u001b[0m\u001b[1;33m.\u001b[0m\u001b[0mformat\u001b[0m\u001b[1;33m(\u001b[0m\u001b[0murl\u001b[0m\u001b[1;33m,\u001b[0m \u001b[0mplotly_rest_url\u001b[0m\u001b[1;33m)\u001b[0m\u001b[1;33m\u001b[0m\u001b[1;33m\u001b[0m\u001b[0m\n\u001b[0m\u001b[0;32m    262\u001b[0m             )\n\u001b[0;32m    263\u001b[0m         \u001b[0murlsplit\u001b[0m \u001b[1;33m=\u001b[0m \u001b[0msix\u001b[0m\u001b[1;33m.\u001b[0m\u001b[0mmoves\u001b[0m\u001b[1;33m.\u001b[0m\u001b[0murllib\u001b[0m\u001b[1;33m.\u001b[0m\u001b[0mparse\u001b[0m\u001b[1;33m.\u001b[0m\u001b[0murlparse\u001b[0m\u001b[1;33m(\u001b[0m\u001b[0murl\u001b[0m\u001b[1;33m)\u001b[0m\u001b[1;33m\u001b[0m\u001b[1;33m\u001b[0m\u001b[0m\n",
      "\u001b[1;31mPlotlyError\u001b[0m: Because you didn't supply a 'file_id' in the call, we're assuming you're trying to snag a figure from a url. You supplied the url, 'https://plotly.com/~josecarlos10967/14/', we expected it to start with 'https://plot.ly'.\nRun help on this function for more information."
     ]
    }
   ],
   "source": [
    "# tenta realizar contato com uma conta no Plotly por isso tem que usar o mod offline\n",
    "df.iplot()"
   ]
  },
  {
   "cell_type": "markdown",
   "metadata": {},
   "source": [
    "**É preciso habilitar o modo offiline primeiramente**"
   ]
  },
  {
   "cell_type": "code",
   "execution_count": null,
   "metadata": {},
   "outputs": [],
   "source": [
    "cf.go_offline()"
   ]
  },
  {
   "cell_type": "markdown",
   "metadata": {},
   "source": [
    "**Executando o iplot() novamente**\n",
    "`Clique no link \"Export to plot.ly\"`"
   ]
  },
  {
   "cell_type": "code",
   "execution_count": 7,
   "metadata": {},
   "outputs": [
    {
     "data": {
      "text/html": [
       "<div>\n",
       "<style scoped>\n",
       "    .dataframe tbody tr th:only-of-type {\n",
       "        vertical-align: middle;\n",
       "    }\n",
       "\n",
       "    .dataframe tbody tr th {\n",
       "        vertical-align: top;\n",
       "    }\n",
       "\n",
       "    .dataframe thead th {\n",
       "        text-align: right;\n",
       "    }\n",
       "</style>\n",
       "<table border=\"1\" class=\"dataframe\">\n",
       "  <thead>\n",
       "    <tr style=\"text-align: right;\">\n",
       "      <th></th>\n",
       "      <th>A</th>\n",
       "      <th>B</th>\n",
       "      <th>C</th>\n",
       "      <th>D</th>\n",
       "    </tr>\n",
       "  </thead>\n",
       "  <tbody>\n",
       "    <tr>\n",
       "      <td>0</td>\n",
       "      <td>0.780272</td>\n",
       "      <td>0.152236</td>\n",
       "      <td>0.320002</td>\n",
       "      <td>1.081457</td>\n",
       "    </tr>\n",
       "    <tr>\n",
       "      <td>1</td>\n",
       "      <td>-0.090327</td>\n",
       "      <td>0.152209</td>\n",
       "      <td>0.284963</td>\n",
       "      <td>1.850857</td>\n",
       "    </tr>\n",
       "    <tr>\n",
       "      <td>2</td>\n",
       "      <td>-0.674573</td>\n",
       "      <td>1.848285</td>\n",
       "      <td>0.570968</td>\n",
       "      <td>-0.369201</td>\n",
       "    </tr>\n",
       "    <tr>\n",
       "      <td>3</td>\n",
       "      <td>-0.233034</td>\n",
       "      <td>0.727078</td>\n",
       "      <td>0.156248</td>\n",
       "      <td>0.954416</td>\n",
       "    </tr>\n",
       "    <tr>\n",
       "      <td>4</td>\n",
       "      <td>0.468613</td>\n",
       "      <td>-0.323476</td>\n",
       "      <td>-1.025888</td>\n",
       "      <td>-0.061055</td>\n",
       "    </tr>\n",
       "  </tbody>\n",
       "</table>\n",
       "</div>"
      ],
      "text/plain": [
       "          A         B         C         D\n",
       "0  0.780272  0.152236  0.320002  1.081457\n",
       "1 -0.090327  0.152209  0.284963  1.850857\n",
       "2 -0.674573  1.848285  0.570968 -0.369201\n",
       "3 -0.233034  0.727078  0.156248  0.954416\n",
       "4  0.468613 -0.323476 -1.025888 -0.061055"
      ]
     },
     "execution_count": 7,
     "metadata": {},
     "output_type": "execute_result"
    }
   ],
   "source": [
    "df.head()"
   ]
  },
  {
   "cell_type": "code",
   "execution_count": 8,
   "metadata": {},
   "outputs": [
    {
     "ename": "PlotlyError",
     "evalue": "Because you didn't supply a 'file_id' in the call, we're assuming you're trying to snag a figure from a url. You supplied the url, 'https://plotly.com/~josecarlos10967/18/', we expected it to start with 'https://plot.ly'.\nRun help on this function for more information.",
     "output_type": "error",
     "traceback": [
      "\u001b[1;31m---------------------------------------------------------------------------\u001b[0m",
      "\u001b[1;31mPlotlyError\u001b[0m                               Traceback (most recent call last)",
      "\u001b[1;32m<ipython-input-8-69813823c9f3>\u001b[0m in \u001b[0;36m<module>\u001b[1;34m\u001b[0m\n\u001b[1;32m----> 1\u001b[1;33m \u001b[0mdf\u001b[0m\u001b[1;33m.\u001b[0m\u001b[0miplot\u001b[0m\u001b[1;33m(\u001b[0m\u001b[1;33m)\u001b[0m\u001b[1;33m\u001b[0m\u001b[1;33m\u001b[0m\u001b[0m\n\u001b[0m",
      "\u001b[1;32mD:\\Desenvolvimento\\Anaconda\\lib\\site-packages\\cufflinks\\plotlytools.py\u001b[0m in \u001b[0;36m_iplot\u001b[1;34m(self, kind, data, layout, filename, sharing, title, xTitle, yTitle, zTitle, theme, colors, colorscale, fill, width, dash, mode, interpolation, symbol, size, barmode, sortbars, bargap, bargroupgap, bins, histnorm, histfunc, orientation, boxpoints, annotations, keys, bestfit, bestfit_colors, mean, mean_colors, categories, x, y, z, text, gridcolor, zerolinecolor, margin, labels, values, secondary_y, secondary_y_title, subplots, shape, error_x, error_y, error_type, locations, lon, lat, asFrame, asDates, asFigure, asImage, dimensions, asPlot, asUrl, online, **kwargs)\u001b[0m\n\u001b[0;32m   1217\u001b[0m \t\treturn iplot(figure,validate=validate,sharing=sharing,filename=filename,\n\u001b[0;32m   1218\u001b[0m                          \u001b[0monline\u001b[0m\u001b[1;33m=\u001b[0m\u001b[0monline\u001b[0m\u001b[1;33m,\u001b[0m\u001b[0masImage\u001b[0m\u001b[1;33m=\u001b[0m\u001b[0masImage\u001b[0m\u001b[1;33m,\u001b[0m\u001b[0masUrl\u001b[0m\u001b[1;33m=\u001b[0m\u001b[0masUrl\u001b[0m\u001b[1;33m,\u001b[0m\u001b[0masPlot\u001b[0m\u001b[1;33m=\u001b[0m\u001b[0masPlot\u001b[0m\u001b[1;33m,\u001b[0m\u001b[1;33m\u001b[0m\u001b[1;33m\u001b[0m\u001b[0m\n\u001b[1;32m-> 1219\u001b[1;33m \t\t\t dimensions=dimensions,display_image=kwargs.get('display_image',True))\n\u001b[0m\u001b[0;32m   1220\u001b[0m \u001b[1;33m\u001b[0m\u001b[0m\n\u001b[0;32m   1221\u001b[0m \u001b[1;33m\u001b[0m\u001b[0m\n",
      "\u001b[1;32mD:\\Desenvolvimento\\Anaconda\\lib\\site-packages\\cufflinks\\plotlytools.py\u001b[0m in \u001b[0;36miplot\u001b[1;34m(figure, validate, sharing, filename, online, asImage, asUrl, asPlot, dimensions, display_image, **kwargs)\u001b[0m\n\u001b[0;32m   1462\u001b[0m         \u001b[1;32melse\u001b[0m\u001b[1;33m:\u001b[0m\u001b[1;33m\u001b[0m\u001b[1;33m\u001b[0m\u001b[0m\n\u001b[0;32m   1463\u001b[0m \t\treturn py.iplot(figure,validate=validate,sharing=sharing,\n\u001b[1;32m-> 1464\u001b[1;33m \t\t\t\t\t\tfilename=filename)\n\u001b[0m\u001b[0;32m   1465\u001b[0m \u001b[1;33m\u001b[0m\u001b[0m\n\u001b[0;32m   1466\u001b[0m \u001b[1;33m\u001b[0m\u001b[0m\n",
      "\u001b[1;32mD:\\Desenvolvimento\\Anaconda\\lib\\site-packages\\chart_studio\\plotly\\plotly.py\u001b[0m in \u001b[0;36miplot\u001b[1;34m(figure_or_data, **plot_options)\u001b[0m\n\u001b[0;32m    161\u001b[0m         \u001b[0membed_options\u001b[0m\u001b[1;33m[\u001b[0m\u001b[1;34m\"height\"\u001b[0m\u001b[1;33m]\u001b[0m \u001b[1;33m=\u001b[0m \u001b[0mstr\u001b[0m\u001b[1;33m(\u001b[0m\u001b[0membed_options\u001b[0m\u001b[1;33m[\u001b[0m\u001b[1;34m\"height\"\u001b[0m\u001b[1;33m]\u001b[0m\u001b[1;33m)\u001b[0m \u001b[1;33m+\u001b[0m \u001b[1;34m\"px\"\u001b[0m\u001b[1;33m\u001b[0m\u001b[1;33m\u001b[0m\u001b[0m\n\u001b[0;32m    162\u001b[0m \u001b[1;33m\u001b[0m\u001b[0m\n\u001b[1;32m--> 163\u001b[1;33m     \u001b[1;32mreturn\u001b[0m \u001b[0mtools\u001b[0m\u001b[1;33m.\u001b[0m\u001b[0membed\u001b[0m\u001b[1;33m(\u001b[0m\u001b[0murl\u001b[0m\u001b[1;33m,\u001b[0m \u001b[1;33m**\u001b[0m\u001b[0membed_options\u001b[0m\u001b[1;33m)\u001b[0m\u001b[1;33m\u001b[0m\u001b[1;33m\u001b[0m\u001b[0m\n\u001b[0m\u001b[0;32m    164\u001b[0m \u001b[1;33m\u001b[0m\u001b[0m\n\u001b[0;32m    165\u001b[0m \u001b[1;33m\u001b[0m\u001b[0m\n",
      "\u001b[1;32mD:\\Desenvolvimento\\Anaconda\\lib\\site-packages\\chart_studio\\tools.py\u001b[0m in \u001b[0;36membed\u001b[1;34m(file_owner_or_url, file_id, width, height)\u001b[0m\n\u001b[0;32m    380\u001b[0m             \u001b[0murl\u001b[0m \u001b[1;33m=\u001b[0m \u001b[0mfile_owner_or_url\u001b[0m\u001b[1;33m\u001b[0m\u001b[1;33m\u001b[0m\u001b[0m\n\u001b[0;32m    381\u001b[0m \u001b[1;33m\u001b[0m\u001b[0m\n\u001b[1;32m--> 382\u001b[1;33m         \u001b[0membed_url\u001b[0m \u001b[1;33m=\u001b[0m \u001b[0m_get_embed_url\u001b[0m\u001b[1;33m(\u001b[0m\u001b[0murl\u001b[0m\u001b[1;33m,\u001b[0m \u001b[0mfile_id\u001b[0m\u001b[1;33m)\u001b[0m\u001b[1;33m\u001b[0m\u001b[1;33m\u001b[0m\u001b[0m\n\u001b[0m\u001b[0;32m    383\u001b[0m         \u001b[1;32mreturn\u001b[0m \u001b[0mipython_display\u001b[0m\u001b[1;33m.\u001b[0m\u001b[0mIFrame\u001b[0m\u001b[1;33m(\u001b[0m\u001b[0membed_url\u001b[0m\u001b[1;33m,\u001b[0m \u001b[0mwidth\u001b[0m\u001b[1;33m,\u001b[0m \u001b[0mheight\u001b[0m\u001b[1;33m)\u001b[0m\u001b[1;33m\u001b[0m\u001b[1;33m\u001b[0m\u001b[0m\n\u001b[0;32m    384\u001b[0m     \u001b[1;32melse\u001b[0m\u001b[1;33m:\u001b[0m\u001b[1;33m\u001b[0m\u001b[1;33m\u001b[0m\u001b[0m\n",
      "\u001b[1;32mD:\\Desenvolvimento\\Anaconda\\lib\\site-packages\\chart_studio\\tools.py\u001b[0m in \u001b[0;36m_get_embed_url\u001b[1;34m(file_owner_or_url, file_id)\u001b[0m\n\u001b[0;32m    259\u001b[0m                 \u001b[1;34m\"'{1}'.\"\u001b[0m\u001b[1;33m\u001b[0m\u001b[1;33m\u001b[0m\u001b[0m\n\u001b[0;32m    260\u001b[0m                 \u001b[1;34m\"\\nRun help on this function for more information.\"\u001b[0m\u001b[1;33m\u001b[0m\u001b[1;33m\u001b[0m\u001b[0m\n\u001b[1;32m--> 261\u001b[1;33m                 \u001b[1;34m\"\"\u001b[0m\u001b[1;33m.\u001b[0m\u001b[0mformat\u001b[0m\u001b[1;33m(\u001b[0m\u001b[0murl\u001b[0m\u001b[1;33m,\u001b[0m \u001b[0mplotly_rest_url\u001b[0m\u001b[1;33m)\u001b[0m\u001b[1;33m\u001b[0m\u001b[1;33m\u001b[0m\u001b[0m\n\u001b[0m\u001b[0;32m    262\u001b[0m             )\n\u001b[0;32m    263\u001b[0m         \u001b[0murlsplit\u001b[0m \u001b[1;33m=\u001b[0m \u001b[0msix\u001b[0m\u001b[1;33m.\u001b[0m\u001b[0mmoves\u001b[0m\u001b[1;33m.\u001b[0m\u001b[0murllib\u001b[0m\u001b[1;33m.\u001b[0m\u001b[0mparse\u001b[0m\u001b[1;33m.\u001b[0m\u001b[0murlparse\u001b[0m\u001b[1;33m(\u001b[0m\u001b[0murl\u001b[0m\u001b[1;33m)\u001b[0m\u001b[1;33m\u001b[0m\u001b[1;33m\u001b[0m\u001b[0m\n",
      "\u001b[1;31mPlotlyError\u001b[0m: Because you didn't supply a 'file_id' in the call, we're assuming you're trying to snag a figure from a url. You supplied the url, 'https://plotly.com/~josecarlos10967/18/', we expected it to start with 'https://plot.ly'.\nRun help on this function for more information."
     ]
    }
   ],
   "source": [
    "df.iplot()"
   ]
  },
  {
   "cell_type": "markdown",
   "metadata": {},
   "source": [
    "**Gráficos do tipo Scatter**"
   ]
  },
  {
   "cell_type": "code",
   "execution_count": 6,
   "metadata": {},
   "outputs": [
    {
     "ename": "PlotlyError",
     "evalue": "Because you didn't supply a 'file_id' in the call, we're assuming you're trying to snag a figure from a url. You supplied the url, 'https://plotly.com/~josecarlos10967/16/', we expected it to start with 'https://plot.ly'.\nRun help on this function for more information.",
     "output_type": "error",
     "traceback": [
      "\u001b[1;31m---------------------------------------------------------------------------\u001b[0m",
      "\u001b[1;31mPlotlyError\u001b[0m                               Traceback (most recent call last)",
      "\u001b[1;32m<ipython-input-6-273e71d2a84c>\u001b[0m in \u001b[0;36m<module>\u001b[1;34m\u001b[0m\n\u001b[1;32m----> 1\u001b[1;33m \u001b[0mdf\u001b[0m\u001b[1;33m.\u001b[0m\u001b[0miplot\u001b[0m\u001b[1;33m(\u001b[0m\u001b[0mx\u001b[0m\u001b[1;33m=\u001b[0m\u001b[1;34m'A'\u001b[0m\u001b[1;33m,\u001b[0m \u001b[0my\u001b[0m\u001b[1;33m=\u001b[0m\u001b[1;34m'B'\u001b[0m\u001b[1;33m,\u001b[0m \u001b[0mkind\u001b[0m\u001b[1;33m=\u001b[0m\u001b[1;34m'scatter'\u001b[0m\u001b[1;33m,\u001b[0m \u001b[0mmode\u001b[0m\u001b[1;33m=\u001b[0m\u001b[1;34m'markers'\u001b[0m\u001b[1;33m)\u001b[0m\u001b[1;33m\u001b[0m\u001b[1;33m\u001b[0m\u001b[0m\n\u001b[0m",
      "\u001b[1;32mD:\\Desenvolvimento\\Anaconda\\lib\\site-packages\\cufflinks\\plotlytools.py\u001b[0m in \u001b[0;36m_iplot\u001b[1;34m(self, kind, data, layout, filename, sharing, title, xTitle, yTitle, zTitle, theme, colors, colorscale, fill, width, dash, mode, interpolation, symbol, size, barmode, sortbars, bargap, bargroupgap, bins, histnorm, histfunc, orientation, boxpoints, annotations, keys, bestfit, bestfit_colors, mean, mean_colors, categories, x, y, z, text, gridcolor, zerolinecolor, margin, labels, values, secondary_y, secondary_y_title, subplots, shape, error_x, error_y, error_type, locations, lon, lat, asFrame, asDates, asFigure, asImage, dimensions, asPlot, asUrl, online, **kwargs)\u001b[0m\n\u001b[0;32m   1217\u001b[0m \t\treturn iplot(figure,validate=validate,sharing=sharing,filename=filename,\n\u001b[0;32m   1218\u001b[0m                          \u001b[0monline\u001b[0m\u001b[1;33m=\u001b[0m\u001b[0monline\u001b[0m\u001b[1;33m,\u001b[0m\u001b[0masImage\u001b[0m\u001b[1;33m=\u001b[0m\u001b[0masImage\u001b[0m\u001b[1;33m,\u001b[0m\u001b[0masUrl\u001b[0m\u001b[1;33m=\u001b[0m\u001b[0masUrl\u001b[0m\u001b[1;33m,\u001b[0m\u001b[0masPlot\u001b[0m\u001b[1;33m=\u001b[0m\u001b[0masPlot\u001b[0m\u001b[1;33m,\u001b[0m\u001b[1;33m\u001b[0m\u001b[1;33m\u001b[0m\u001b[0m\n\u001b[1;32m-> 1219\u001b[1;33m \t\t\t dimensions=dimensions,display_image=kwargs.get('display_image',True))\n\u001b[0m\u001b[0;32m   1220\u001b[0m \u001b[1;33m\u001b[0m\u001b[0m\n\u001b[0;32m   1221\u001b[0m \u001b[1;33m\u001b[0m\u001b[0m\n",
      "\u001b[1;32mD:\\Desenvolvimento\\Anaconda\\lib\\site-packages\\cufflinks\\plotlytools.py\u001b[0m in \u001b[0;36miplot\u001b[1;34m(figure, validate, sharing, filename, online, asImage, asUrl, asPlot, dimensions, display_image, **kwargs)\u001b[0m\n\u001b[0;32m   1462\u001b[0m         \u001b[1;32melse\u001b[0m\u001b[1;33m:\u001b[0m\u001b[1;33m\u001b[0m\u001b[1;33m\u001b[0m\u001b[0m\n\u001b[0;32m   1463\u001b[0m \t\treturn py.iplot(figure,validate=validate,sharing=sharing,\n\u001b[1;32m-> 1464\u001b[1;33m \t\t\t\t\t\tfilename=filename)\n\u001b[0m\u001b[0;32m   1465\u001b[0m \u001b[1;33m\u001b[0m\u001b[0m\n\u001b[0;32m   1466\u001b[0m \u001b[1;33m\u001b[0m\u001b[0m\n",
      "\u001b[1;32mD:\\Desenvolvimento\\Anaconda\\lib\\site-packages\\chart_studio\\plotly\\plotly.py\u001b[0m in \u001b[0;36miplot\u001b[1;34m(figure_or_data, **plot_options)\u001b[0m\n\u001b[0;32m    161\u001b[0m         \u001b[0membed_options\u001b[0m\u001b[1;33m[\u001b[0m\u001b[1;34m\"height\"\u001b[0m\u001b[1;33m]\u001b[0m \u001b[1;33m=\u001b[0m \u001b[0mstr\u001b[0m\u001b[1;33m(\u001b[0m\u001b[0membed_options\u001b[0m\u001b[1;33m[\u001b[0m\u001b[1;34m\"height\"\u001b[0m\u001b[1;33m]\u001b[0m\u001b[1;33m)\u001b[0m \u001b[1;33m+\u001b[0m \u001b[1;34m\"px\"\u001b[0m\u001b[1;33m\u001b[0m\u001b[1;33m\u001b[0m\u001b[0m\n\u001b[0;32m    162\u001b[0m \u001b[1;33m\u001b[0m\u001b[0m\n\u001b[1;32m--> 163\u001b[1;33m     \u001b[1;32mreturn\u001b[0m \u001b[0mtools\u001b[0m\u001b[1;33m.\u001b[0m\u001b[0membed\u001b[0m\u001b[1;33m(\u001b[0m\u001b[0murl\u001b[0m\u001b[1;33m,\u001b[0m \u001b[1;33m**\u001b[0m\u001b[0membed_options\u001b[0m\u001b[1;33m)\u001b[0m\u001b[1;33m\u001b[0m\u001b[1;33m\u001b[0m\u001b[0m\n\u001b[0m\u001b[0;32m    164\u001b[0m \u001b[1;33m\u001b[0m\u001b[0m\n\u001b[0;32m    165\u001b[0m \u001b[1;33m\u001b[0m\u001b[0m\n",
      "\u001b[1;32mD:\\Desenvolvimento\\Anaconda\\lib\\site-packages\\chart_studio\\tools.py\u001b[0m in \u001b[0;36membed\u001b[1;34m(file_owner_or_url, file_id, width, height)\u001b[0m\n\u001b[0;32m    380\u001b[0m             \u001b[0murl\u001b[0m \u001b[1;33m=\u001b[0m \u001b[0mfile_owner_or_url\u001b[0m\u001b[1;33m\u001b[0m\u001b[1;33m\u001b[0m\u001b[0m\n\u001b[0;32m    381\u001b[0m \u001b[1;33m\u001b[0m\u001b[0m\n\u001b[1;32m--> 382\u001b[1;33m         \u001b[0membed_url\u001b[0m \u001b[1;33m=\u001b[0m \u001b[0m_get_embed_url\u001b[0m\u001b[1;33m(\u001b[0m\u001b[0murl\u001b[0m\u001b[1;33m,\u001b[0m \u001b[0mfile_id\u001b[0m\u001b[1;33m)\u001b[0m\u001b[1;33m\u001b[0m\u001b[1;33m\u001b[0m\u001b[0m\n\u001b[0m\u001b[0;32m    383\u001b[0m         \u001b[1;32mreturn\u001b[0m \u001b[0mipython_display\u001b[0m\u001b[1;33m.\u001b[0m\u001b[0mIFrame\u001b[0m\u001b[1;33m(\u001b[0m\u001b[0membed_url\u001b[0m\u001b[1;33m,\u001b[0m \u001b[0mwidth\u001b[0m\u001b[1;33m,\u001b[0m \u001b[0mheight\u001b[0m\u001b[1;33m)\u001b[0m\u001b[1;33m\u001b[0m\u001b[1;33m\u001b[0m\u001b[0m\n\u001b[0;32m    384\u001b[0m     \u001b[1;32melse\u001b[0m\u001b[1;33m:\u001b[0m\u001b[1;33m\u001b[0m\u001b[1;33m\u001b[0m\u001b[0m\n",
      "\u001b[1;32mD:\\Desenvolvimento\\Anaconda\\lib\\site-packages\\chart_studio\\tools.py\u001b[0m in \u001b[0;36m_get_embed_url\u001b[1;34m(file_owner_or_url, file_id)\u001b[0m\n\u001b[0;32m    259\u001b[0m                 \u001b[1;34m\"'{1}'.\"\u001b[0m\u001b[1;33m\u001b[0m\u001b[1;33m\u001b[0m\u001b[0m\n\u001b[0;32m    260\u001b[0m                 \u001b[1;34m\"\\nRun help on this function for more information.\"\u001b[0m\u001b[1;33m\u001b[0m\u001b[1;33m\u001b[0m\u001b[0m\n\u001b[1;32m--> 261\u001b[1;33m                 \u001b[1;34m\"\"\u001b[0m\u001b[1;33m.\u001b[0m\u001b[0mformat\u001b[0m\u001b[1;33m(\u001b[0m\u001b[0murl\u001b[0m\u001b[1;33m,\u001b[0m \u001b[0mplotly_rest_url\u001b[0m\u001b[1;33m)\u001b[0m\u001b[1;33m\u001b[0m\u001b[1;33m\u001b[0m\u001b[0m\n\u001b[0m\u001b[0;32m    262\u001b[0m             )\n\u001b[0;32m    263\u001b[0m         \u001b[0murlsplit\u001b[0m \u001b[1;33m=\u001b[0m \u001b[0msix\u001b[0m\u001b[1;33m.\u001b[0m\u001b[0mmoves\u001b[0m\u001b[1;33m.\u001b[0m\u001b[0murllib\u001b[0m\u001b[1;33m.\u001b[0m\u001b[0mparse\u001b[0m\u001b[1;33m.\u001b[0m\u001b[0murlparse\u001b[0m\u001b[1;33m(\u001b[0m\u001b[0murl\u001b[0m\u001b[1;33m)\u001b[0m\u001b[1;33m\u001b[0m\u001b[1;33m\u001b[0m\u001b[0m\n",
      "\u001b[1;31mPlotlyError\u001b[0m: Because you didn't supply a 'file_id' in the call, we're assuming you're trying to snag a figure from a url. You supplied the url, 'https://plotly.com/~josecarlos10967/16/', we expected it to start with 'https://plot.ly'.\nRun help on this function for more information."
     ]
    }
   ],
   "source": [
    "df.iplot(x='A', y='B', kind='scatter', mode='markers')"
   ]
  },
  {
   "cell_type": "markdown",
   "metadata": {},
   "source": [
    "**Gráficos de Barras**"
   ]
  },
  {
   "cell_type": "code",
   "execution_count": null,
   "metadata": {},
   "outputs": [],
   "source": [
    "df.sum().iplot(kind='bar')"
   ]
  },
  {
   "cell_type": "markdown",
   "metadata": {},
   "source": [
    "**Gráficos de Boxplots**"
   ]
  },
  {
   "cell_type": "code",
   "execution_count": null,
   "metadata": {},
   "outputs": [],
   "source": [
    "df.iplot(kind='box')"
   ]
  },
  {
   "cell_type": "markdown",
   "metadata": {},
   "source": [
    "**Histogramas**<br>\n",
    "`Compare com os histograsm padrões do matplotlib e seaborn`"
   ]
  },
  {
   "cell_type": "code",
   "execution_count": null,
   "metadata": {},
   "outputs": [],
   "source": [
    "df['A'].iplot(kind='hist')"
   ]
  },
  {
   "cell_type": "markdown",
   "metadata": {},
   "source": [
    "`Histogramas de todas as colunas (mesmo tipo de dados)`"
   ]
  },
  {
   "cell_type": "code",
   "execution_count": null,
   "metadata": {},
   "outputs": [],
   "source": [
    "df.iplot(kind='hist')"
   ]
  },
  {
   "cell_type": "markdown",
   "metadata": {},
   "source": [
    "**Spread Plots**"
   ]
  },
  {
   "cell_type": "code",
   "execution_count": null,
   "metadata": {},
   "outputs": [],
   "source": [
    "df.iplot(kind='spread')"
   ]
  },
  {
   "cell_type": "markdown",
   "metadata": {},
   "source": [
    "**Bubble Plots**"
   ]
  },
  {
   "cell_type": "code",
   "execution_count": null,
   "metadata": {},
   "outputs": [],
   "source": [
    "df.iplot(kind='bubble', x='A', y='B', size='C', colors='antiquewhite')"
   ]
  },
  {
   "cell_type": "markdown",
   "metadata": {},
   "source": [
    "**Scatter Matrix**"
   ]
  },
  {
   "cell_type": "markdown",
   "metadata": {},
   "source": [
    "- `Similar ao pairplot do Seaborn`\n",
    "-  `Se o dataframe for muito grande pode travar o seu notebook`"
   ]
  },
  {
   "cell_type": "code",
   "execution_count": null,
   "metadata": {},
   "outputs": [],
   "source": [
    "df.scatter_matrix()"
   ]
  },
  {
   "cell_type": "markdown",
   "metadata": {},
   "source": [
    "## Visualização de dados reais ##"
   ]
  },
  {
   "cell_type": "markdown",
   "metadata": {},
   "source": [
    "**Lembre-se de habilitar o modo offline do plotly**"
   ]
  },
  {
   "cell_type": "code",
   "execution_count": null,
   "metadata": {},
   "outputs": [],
   "source": [
    "import cufflinks as cf\n",
    "cf.go_offline()"
   ]
  },
  {
   "cell_type": "markdown",
   "metadata": {},
   "source": [
    "**Importe o Pandas**"
   ]
  },
  {
   "cell_type": "code",
   "execution_count": null,
   "metadata": {},
   "outputs": [],
   "source": [
    "import pandas as pd"
   ]
  },
  {
   "cell_type": "code",
   "execution_count": null,
   "metadata": {},
   "outputs": [],
   "source": [
    "df = pd.read_csv('Plotly-Materiais-de-Apoio/plotly/datasets/olist_classified_public_dataset.csv')"
   ]
  },
  {
   "cell_type": "markdown",
   "metadata": {},
   "source": [
    "**Visualizando a base de dados**"
   ]
  },
  {
   "cell_type": "code",
   "execution_count": null,
   "metadata": {},
   "outputs": [],
   "source": [
    "df.head()"
   ]
  },
  {
   "cell_type": "code",
   "execution_count": null,
   "metadata": {},
   "outputs": [],
   "source": [
    "df.info()"
   ]
  },
  {
   "cell_type": "markdown",
   "metadata": {},
   "source": [
    "**Informações do Dataset**"
   ]
  },
  {
   "cell_type": "markdown",
   "metadata": {},
   "source": [
    "## Perguntas aos dados"
   ]
  },
  {
   "cell_type": "markdown",
   "metadata": {},
   "source": [
    "- Quais a distribuicao dos status dos pedidos?\n",
    "- Quais os meses do ano houve mais vendas?\n",
    "- Qual a quantidade de items de um pedido? (medio)\n",
    "- Qual a quantidade de vendedores em um pedido ? (medio)\n",
    "- O valor do frete tende aumentar com o preco do produto?\n",
    "- Qual o tempo medio de entrega?\n",
    "- Como foi as vendas por mês?\n",
    "- Quais meses superaram a meta de vendas?\n",
    "- Como foi a venda por mês se comparado ao ano de 2016?"
   ]
  },
  {
   "cell_type": "code",
   "execution_count": null,
   "metadata": {},
   "outputs": [],
   "source": [
    "df.order_status.value_counts().iplot(kind='bar')"
   ]
  },
  {
   "cell_type": "markdown",
   "metadata": {},
   "source": [
    "**Transformando as colunas do DF em datetime**"
   ]
  },
  {
   "cell_type": "code",
   "execution_count": null,
   "metadata": {},
   "outputs": [],
   "source": [
    "df.order_purchase_timestamp = pd.to_datetime(df.order_purchase_timestamp)"
   ]
  },
  {
   "cell_type": "markdown",
   "metadata": {},
   "source": [
    "**Visualizando as colunas em datetime**"
   ]
  },
  {
   "cell_type": "code",
   "execution_count": null,
   "metadata": {},
   "outputs": [],
   "source": [
    "df.info()"
   ]
  },
  {
   "cell_type": "markdown",
   "metadata": {},
   "source": [
    "- Use o metodo to_periodo() com o ´M´ para obter informações no formato de meses\n",
    "- Criando a coluna order_purchase_month"
   ]
  },
  {
   "cell_type": "code",
   "execution_count": null,
   "metadata": {},
   "outputs": [],
   "source": [
    "df['order_purchase_month'] = df.order_purchase_timestamp.dt.to_period('M').astype(str)"
   ]
  },
  {
   "cell_type": "code",
   "execution_count": null,
   "metadata": {},
   "outputs": [],
   "source": [
    "df.order_purchase_month.head()"
   ]
  },
  {
   "cell_type": "markdown",
   "metadata": {},
   "source": [
    "**Visualizando o Dataframe com a nova coluna**"
   ]
  },
  {
   "cell_type": "code",
   "execution_count": null,
   "metadata": {},
   "outputs": [],
   "source": [
    "df.head()"
   ]
  },
  {
   "cell_type": "code",
   "execution_count": null,
   "metadata": {},
   "outputs": [],
   "source": [
    "vendas_por_mes = df.groupby('order_purchase_month').order_products_value.sum()"
   ]
  },
  {
   "cell_type": "code",
   "execution_count": null,
   "metadata": {},
   "outputs": [],
   "source": [
    "type(vendas_por_mes)"
   ]
  },
  {
   "cell_type": "code",
   "execution_count": null,
   "metadata": {},
   "outputs": [],
   "source": [
    "vendas_por_mes.head()"
   ]
  },
  {
   "cell_type": "code",
   "execution_count": null,
   "metadata": {},
   "outputs": [],
   "source": [
    "vendas_por_mes.index.item"
   ]
  },
  {
   "cell_type": "code",
   "execution_count": null,
   "metadata": {},
   "outputs": [],
   "source": [
    "vendas_por_mes.values"
   ]
  },
  {
   "cell_type": "markdown",
   "metadata": {},
   "source": [
    "**Pontos importantes a lembrar**"
   ]
  },
  {
   "cell_type": "markdown",
   "metadata": {},
   "source": [
    "* init_notebook_mode()\n",
    "* plotly.offline.iplot()"
   ]
  },
  {
   "cell_type": "markdown",
   "metadata": {},
   "source": [
    "**Importando o Plotly**"
   ]
  },
  {
   "cell_type": "code",
   "execution_count": null,
   "metadata": {},
   "outputs": [],
   "source": [
    "import plotly \n",
    "import plotly.graph_objs as go\n",
    "import plotly.offline as py"
   ]
  },
  {
   "cell_type": "code",
   "execution_count": null,
   "metadata": {},
   "outputs": [],
   "source": [
    "# Habilite o modo offiline\n",
    "plotly.offline.init_notebook_mode(connected=True)"
   ]
  },
  {
   "cell_type": "markdown",
   "metadata": {},
   "source": [
    "**Vendas por Mês**"
   ]
  },
  {
   "cell_type": "markdown",
   "metadata": {},
   "source": [
    "* **Por Padrão o iplot() plota um gráfico de linha, da sentido de valor acumulado**"
   ]
  },
  {
   "cell_type": "code",
   "execution_count": null,
   "metadata": {},
   "outputs": [],
   "source": [
    "data = [go.Scatter(x=vendas_por_mes.index,\n",
    "                   y=vendas_por_mes.values)]\n",
    "py.iplot(data)"
   ]
  },
  {
   "cell_type": "markdown",
   "metadata": {},
   "source": [
    "**Gráfico de Barras**"
   ]
  },
  {
   "cell_type": "markdown",
   "metadata": {},
   "source": [
    "* **Customizando gráficos de barras: titulos e labels dos eixos**"
   ]
  },
  {
   "cell_type": "code",
   "execution_count": null,
   "metadata": {},
   "outputs": [],
   "source": [
    "import plotly.offline as py\n",
    "import plotly.graph_objs as go\n",
    "\n",
    "data = [go.Bar(x=vendas_por_mes.index,\n",
    "               y=vendas_por_mes.values,\n",
    "               marker={'color':'lightblue'}\n",
    "              )]\n",
    "# Criando Layout\n",
    "configuracoes_layout = go.Layout(title='Vendas no Período',\n",
    "                                 xaxis={'title': 'Período'},\n",
    "                                 yaxis={'title': 'Valores de Vendas'})\n",
    "# Objeto Figura\n",
    "fig = go.Figure(data=data, layout=configuracoes_layout)\n",
    "\n",
    "py.iplot(fig)"
   ]
  },
  {
   "cell_type": "markdown",
   "metadata": {},
   "source": [
    "**Definindo ajustes em linhas e cores**"
   ]
  },
  {
   "cell_type": "markdown",
   "metadata": {},
   "source": [
    "* **Parâmetros opacity e width**"
   ]
  },
  {
   "cell_type": "code",
   "execution_count": null,
   "metadata": {},
   "outputs": [],
   "source": [
    "import plotly.offline as py\n",
    "import plotly.graph_objs as go\n",
    "\n",
    "data = [go.Bar(x=vendas_por_mes.index,\n",
    "              y=vendas_por_mes.values,\n",
    "              marker={'color':'lightblue',\n",
    "                      'line':{'color': '#333',\n",
    "                              'width': 2}\n",
    "                     },\n",
    "              opacity=0.7)]\n",
    "\n",
    "configuracoes_layout = go.Layout(title=\"Vendas por Período\",\n",
    "                                 xaxis={'title': 'Período'},\n",
    "                                 yaxis={'title': 'Valores de Vendas'})\n",
    "\n",
    "fig = go.Figure(data=data, layout=configuracoes_layout)\n",
    "\n",
    "py.iplot(fig)"
   ]
  },
  {
   "cell_type": "markdown",
   "metadata": {},
   "source": [
    "**Destacando uma Barra**"
   ]
  },
  {
   "cell_type": "code",
   "execution_count": null,
   "metadata": {},
   "outputs": [],
   "source": [
    "cores = []"
   ]
  },
  {
   "cell_type": "code",
   "execution_count": null,
   "metadata": {},
   "outputs": [],
   "source": [
    "vendas_por_mes.index"
   ]
  },
  {
   "cell_type": "code",
   "execution_count": null,
   "metadata": {},
   "outputs": [],
   "source": [
    "vendas_por_mes.values"
   ]
  },
  {
   "cell_type": "markdown",
   "metadata": {},
   "source": [
    "**Variável Média**"
   ]
  },
  {
   "cell_type": "code",
   "execution_count": null,
   "metadata": {},
   "outputs": [],
   "source": [
    "media = vendas_por_mes.values.mean()"
   ]
  },
  {
   "cell_type": "code",
   "execution_count": null,
   "metadata": {},
   "outputs": [],
   "source": [
    "media"
   ]
  },
  {
   "cell_type": "markdown",
   "metadata": {},
   "source": [
    "**Se o valor da barra for acima da média recebe a cor Azul se não recebe a cor vermelha**"
   ]
  },
  {
   "cell_type": "code",
   "execution_count": null,
   "metadata": {},
   "outputs": [],
   "source": [
    "cores = ['lightblue' if x > media  else 'red' for x in vendas_por_mes.values ]"
   ]
  },
  {
   "cell_type": "markdown",
   "metadata": {},
   "source": [
    "**Visualizando a lista de cores**"
   ]
  },
  {
   "cell_type": "code",
   "execution_count": null,
   "metadata": {},
   "outputs": [],
   "source": [
    "cores"
   ]
  },
  {
   "cell_type": "markdown",
   "metadata": {},
   "source": [
    "**Plotando o Gráfico**"
   ]
  },
  {
   "cell_type": "code",
   "execution_count": null,
   "metadata": {},
   "outputs": [],
   "source": [
    "import plotly.offline as py\n",
    "import plotly.graph_objs as go\n",
    "\n",
    "data = [go.Bar(x=vendas_por_mes.index,\n",
    "               y=vendas_por_mes.values,\n",
    "               marker={'color': cores,\n",
    "                       'line':{'color': '#333',\n",
    "                               'width': 2}\n",
    "                      },\n",
    "              opacity=0.7)]\n",
    "\n",
    "layout = go.Layout(title='Vendas por Período',\n",
    "                   xaxis={'title': 'Período'},\n",
    "                   yaxis={'title': 'Valores de Vendas'})\n",
    "\n",
    "fig = go.Figure(data=data, layout=layout)\n",
    "\n",
    "py.iplot(fig)"
   ]
  },
  {
   "cell_type": "markdown",
   "metadata": {},
   "source": [
    "**Destaca a barra com maior valor e minimiza a visão de todas as outras**"
   ]
  },
  {
   "cell_type": "code",
   "execution_count": null,
   "metadata": {},
   "outputs": [],
   "source": [
    "maximo_vendas = vendas_por_mes.max()\n",
    "media = media = vendas_por_mes.values.mean()"
   ]
  },
  {
   "cell_type": "code",
   "execution_count": null,
   "metadata": {},
   "outputs": [],
   "source": [
    "maximo_vendas"
   ]
  },
  {
   "cell_type": "markdown",
   "metadata": {},
   "source": [
    "**Criando a lista de cores para passar para o gráfico**"
   ]
  },
  {
   "cell_type": "code",
   "execution_count": null,
   "metadata": {},
   "outputs": [],
   "source": [
    "cores = []\n",
    "mes_maximo_vendas = ''\n",
    "for x,y in zip(vendas_por_mes.values, vendas_por_mes.index):\n",
    "    if x == maximo_vendas:\n",
    "        mes_maximo_vendas = y\n",
    "        cores.append('blue')\n",
    "    elif x < media:\n",
    "        cores.append('red')\n",
    "    else:\n",
    "        cores.append('lightgray')"
   ]
  },
  {
   "cell_type": "code",
   "execution_count": null,
   "metadata": {},
   "outputs": [],
   "source": [
    "cores"
   ]
  },
  {
   "cell_type": "code",
   "execution_count": null,
   "metadata": {},
   "outputs": [],
   "source": [
    "import plotly.offline as py\n",
    "import plotly.graph_objs as go\n",
    "\n",
    "data = [ go.Bar(x=vendas_por_mes.index,\n",
    "                    y=vendas_por_mes.values,\n",
    "                    marker={'color':cores,\n",
    "                            'line': {'color': '#333',\n",
    "                                     'width': 2}\n",
    "                           },\n",
    "                    opacity=0.7\n",
    "                   )\n",
    "       ]\n",
    "\n",
    "layout = go.Layout(title='Vendas por Período',\n",
    "                   xaxis={'title': 'Período'},\n",
    "                   yaxis={'title': 'Valores de Vendas'},\n",
    "                   \n",
    "                  # Anotação do Gráfico na Barra de Máximo Valoe\n",
    "                  annotations=[{'text': 'Máximo de vendas',\n",
    "                                'x':mes_maximo_vendas,\n",
    "                                'y':maximo_vendas\n",
    "                               }]\n",
    "                  )\n",
    "\n",
    "fig = go.Figure(data=data, layout= layout)\n",
    "\n",
    "py.iplot(fig)"
   ]
  },
  {
   "cell_type": "markdown",
   "metadata": {},
   "source": [
    "**Visualizando duas informações no mesmo gráfico**"
   ]
  },
  {
   "cell_type": "markdown",
   "metadata": {},
   "source": [
    "* `Vamos definir alguns fictions para vendas do ano anterior`"
   ]
  },
  {
   "cell_type": "code",
   "execution_count": null,
   "metadata": {},
   "outputs": [],
   "source": [
    "vendas_ano_anterior = vendas_por_mes - 10000"
   ]
  },
  {
   "cell_type": "markdown",
   "metadata": {},
   "source": [
    "**Gráfico de barrar aninhados**"
   ]
  },
  {
   "cell_type": "code",
   "execution_count": null,
   "metadata": {},
   "outputs": [],
   "source": [
    "import plotly.offline as py\n",
    "import plotly.graph_objs as go\n",
    "\n",
    "data = [ go.Bar(x=vendas_por_mes.index,\n",
    "                y=vendas_por_mes.values,\n",
    "                marker={'color':cores,\n",
    "                         'line':{'color':'#333',\n",
    "                                 'width': 2}\n",
    "                       },\n",
    "                opacity=0.7,\n",
    "                name='2017'\n",
    "               ),\n",
    "        \n",
    "        # Definindo o outro plot do gráfico do ano passado.\n",
    "         go.Bar(x=vendas_ano_anterior.index,\n",
    "                y=vendas_ano_anterior.values,\n",
    "                name='2016',\n",
    "                marker={'color':'lightgreen',\n",
    "                         'line':{'color':'#333',\n",
    "                                 'width': 2}\n",
    "                       },\n",
    "                opacity=0.7\n",
    "               )\n",
    "       ]\n",
    "\n",
    "layout = go.Layout(title='Vendas por Período',\n",
    "                   xaxis={'title': 'Período'},\n",
    "                   yaxis={'title': 'Valores de Vendas'},\n",
    "                   \n",
    "                  # Anotação do Gráfico na Barra de Máximo Valoe\n",
    "                  annotations=[{'text': 'Máximo de vendas',\n",
    "                                'x':mes_maximo_vendas,\n",
    "                                'y':maximo_vendas\n",
    "                               }]\n",
    "                  )\n",
    "\n",
    "fig = go.Figure(data=data, layout= layout)\n",
    "\n",
    "py.iplot(fig)\n"
   ]
  },
  {
   "cell_type": "markdown",
   "metadata": {},
   "source": [
    "**Vendas por Categorias de produtos**"
   ]
  },
  {
   "cell_type": "markdown",
   "metadata": {},
   "source": [
    "- **Conta quantos produtos por categoria e coloca dentro da variável vendas_produto_por_categoria**"
   ]
  },
  {
   "cell_type": "code",
   "execution_count": null,
   "metadata": {},
   "outputs": [],
   "source": [
    "venda_produto_por_categoria = df.groupby(by='product_category_name').id.count()"
   ]
  },
  {
   "cell_type": "code",
   "execution_count": null,
   "metadata": {
    "scrolled": true
   },
   "outputs": [],
   "source": [
    "venda_produto_por_categoria"
   ]
  },
  {
   "cell_type": "markdown",
   "metadata": {},
   "source": [
    "**Filtrar as categorias que tem vendas maiores que 1**"
   ]
  },
  {
   "cell_type": "code",
   "execution_count": null,
   "metadata": {},
   "outputs": [],
   "source": [
    "venda_produto_por_categoria = venda_produto_por_categoria.loc[venda_produto_por_categoria.values > 10]"
   ]
  },
  {
   "cell_type": "code",
   "execution_count": null,
   "metadata": {},
   "outputs": [],
   "source": [
    "venda_produto_por_categoria"
   ]
  },
  {
   "cell_type": "markdown",
   "metadata": {},
   "source": [
    "**Ordena valores do maior para o menor**"
   ]
  },
  {
   "cell_type": "code",
   "execution_count": null,
   "metadata": {},
   "outputs": [],
   "source": [
    "venda_produto_por_categoria.sort_values(ascending=False,inplace=True)"
   ]
  },
  {
   "cell_type": "markdown",
   "metadata": {},
   "source": [
    "**Plota Gráfico de Barras verticais**"
   ]
  },
  {
   "cell_type": "code",
   "execution_count": null,
   "metadata": {},
   "outputs": [],
   "source": [
    "import plotly.offline as py\n",
    "import plotly.graph_objs as go\n",
    "\n",
    "\n",
    "trace0 = go.Bar(y=venda_produto_por_categoria.values,\n",
    "                x=venda_produto_por_categoria.index,\n",
    "                marker= {'color': '#00FF2a'},\n",
    "                orientation='v' # Gráfico de Barra verticais.\n",
    "               )\n",
    "\n",
    "data = [trace0]\n",
    "\n",
    "# Criando o Layout\n",
    "configuracoes_layout = go.Layout(title='Vendas por Categoria',\n",
    "                                 xaxis=dict(\n",
    "                                     titlefont=dict(\n",
    "                                         size=40,\n",
    "                                         color='lightgrey'),\n",
    "                                     tickangle=75),\n",
    "                                 yaxis={'title':'Quantidade de Vendas'})\n",
    "\n",
    "# Objeto de Figura\n",
    "fig = go.Figure(data=data, layout=configuracoes_layout)\n",
    "\n",
    "py.iplot(fig)"
   ]
  },
  {
   "cell_type": "markdown",
   "metadata": {},
   "source": [
    "**Alterando a faixa de valores do eixo Y em 10%**"
   ]
  },
  {
   "cell_type": "code",
   "execution_count": null,
   "metadata": {},
   "outputs": [],
   "source": [
    "import plotly.offline as py\n",
    "import plotly.graph_objs as go\n",
    "\n",
    "trace0 = go.Bar(x=venda_produto_por_categoria.index,\n",
    "                y=venda_produto_por_categoria.values,\n",
    "                marker=dict(\n",
    "                            color='#00FF2a'\n",
    "                            ),\n",
    "                orientation='v'\n",
    "               )\n",
    "data = [trace0]\n",
    "\n",
    "configuracoes_layout = go.Layout(title='Venda por Categoria',\n",
    "                                  xaxis= dict(\n",
    "                                                titlefont=dict(\n",
    "                                                                size=40,\n",
    "                                                                color='lightgrey'\n",
    "                                                                ),\n",
    "                                              tickangle=75\n",
    "                                              ),\n",
    "                                  yaxis= {'title':'Quantidade Vendida',\n",
    "                                          'range': [0, max(venda_produto_por_categoria) * 1.10]}\n",
    "                                 )\n",
    "fig = go.Figure(data=data, layout=configuracoes_layout)\n",
    "\n",
    "py.iplot(fig,filename=\"Vendas por Categoria de Produto\")"
   ]
  },
  {
   "cell_type": "markdown",
   "metadata": {},
   "source": [
    "**Existe tendência entre: Valor de Frete x Valor de Produto ?**"
   ]
  },
  {
   "cell_type": "code",
   "execution_count": null,
   "metadata": {},
   "outputs": [],
   "source": [
    "import plotly.offline as py\n",
    "import plotly.graph_objs as go\n",
    "\n",
    "data = [go.Scatter(x=df.order_freight_value,\n",
    "                   y=df.order_products_value,\n",
    "                   mode='markers',\n",
    "                   marker={'color':'green'},\n",
    "                   )\n",
    "       ]\n",
    "\n",
    "layout = go.Layout(title='Valor de Frete x Valor de Produto',\n",
    "                   xaxis={'title':'Valor de Produto'},\n",
    "                   yaxis={'title':'Valor do Frete'})\n",
    "\n",
    "# Exibição\n",
    "fig = go.Figure(data=data, layout=layout)\n",
    "\n",
    "py.iplot(fig)"
   ]
  },
  {
   "cell_type": "markdown",
   "metadata": {},
   "source": [
    "**Usando o parâmetro text na visualização (Parâmetro hover)**"
   ]
  },
  {
   "cell_type": "code",
   "execution_count": null,
   "metadata": {},
   "outputs": [],
   "source": [
    "import plotly.offline as py\n",
    "import plotly.graph_objs as go\n",
    "\n",
    "%matplotlib inline\n",
    "\n",
    "# Criand\n",
    "trace = go.Scatter(x=df.order_freight_value,\n",
    "                  y=df.order_products_value,\n",
    "                  mode='markers',\n",
    "                  # Customização do texto a ser exibido no hover\n",
    "                  text = 'Status do Pedido:' + df['order_status'] +\n",
    "                         '<br>' + 'Classe: ' + df['most_voted_class'],\n",
    "                  # Exibição do Hover\n",
    "                  hoverinfo='text+x+y', # Texto concatenado com o valor de x e y\n",
    "                  \n",
    "                  # Cor do gráfico\n",
    "                  marker = {'color':'#941229'}\n",
    "          )\n",
    "data = [trace]\n",
    "\n",
    "layout = go.Layout(title='Valor de Frete x Valor de Produto',\n",
    "                xaxis={'title':'Valor do Frete'},\n",
    "                yaxis={'title':'Valor de Produto'})\n",
    "\n",
    "\n",
    "fig = go.Figure(data=data, layout=layout)\n",
    "\n",
    "py.iplot(fig)\n",
    "\n",
    "    \n"
   ]
  },
  {
   "cell_type": "markdown",
   "metadata": {},
   "source": [
    "**Customização dos eixos com o formato em reais R$**"
   ]
  },
  {
   "cell_type": "code",
   "execution_count": null,
   "metadata": {},
   "outputs": [],
   "source": [
    "trace = go.Scatter(x=df.order_freight_value,\n",
    "                   y=df.order_products_value,\n",
    "                   mode='markers',\n",
    "                   text = 'Status do Pedido:' + df['order_status'] +\n",
    "                         '<br>' + 'Classe: ' + df['most_voted_class'],\n",
    "                   hoverinfo='text+x+y',\n",
    "                   marker={'color':'green'}\n",
    "                  )\n",
    "data = [trace]\n",
    "\n",
    "layout = go.Layout(title='Valor de Frete x Valor de Produto',\n",
    "                  \n",
    "                   # Definindo Exibição do eixo X\n",
    "                  yaxis={'title':'Valor de Produto',\n",
    "                         'tickformat':'.',\n",
    "                         'tickprefix':'R$'},\n",
    "                  xaxis={'title':'Valor de Frete',\n",
    "                         'tickformat':'.',\n",
    "                         'tickprefix':'R$'})\n",
    "\n",
    "fig = go.Figure(data=data, layout=layout)\n",
    "\n",
    "py.iplot(fig)"
   ]
  },
  {
   "cell_type": "markdown",
   "metadata": {},
   "source": [
    "**Gráfico de Bolhas: Valor de Frete x Valor do Produto por numero de vendedores**"
   ]
  },
  {
   "cell_type": "code",
   "execution_count": null,
   "metadata": {},
   "outputs": [],
   "source": [
    "import plotly.offline as py\n",
    "import plotly.graph_objs as go\n",
    "\n",
    "%matplotlib inline\n",
    "\n",
    "# Criand\n",
    "trace = go.Scatter(x=df.order_freight_value,\n",
    "                  y=df.order_products_value,\n",
    "                  mode='markers',\n",
    "                  # Customização do texto a ser exibido no hover\n",
    "                  text = 'Status do Pedido:' + df['order_status'] +\n",
    "                         '<br>' + 'Classe: ' + df['most_voted_class'],\n",
    "                  # Exibição do Hover\n",
    "                  hoverinfo='text+x+y', # Texto concatenado com o valor de x e y\n",
    "                  \n",
    "                  # Cor do gráfico\n",
    "                  marker = {'color':'green',\n",
    "                            'size':df['order_sellers_qty'] * 10, # Tamanho dos pontos do gráfico.\n",
    "                            'sizemode': 'area'} # Tipo do tamanho\n",
    "          )\n",
    "data = [trace]\n",
    "\n",
    "layout = go.Layout(title='Valor de Frete x Valor de Produto',\n",
    "                   \n",
    "                # Definindo Exibição do eixo X\n",
    "                  yaxis={'title':'Valor de Produto',\n",
    "                         'tickformat':'.',\n",
    "                         'tickprefix':'R$'},\n",
    "                  xaxis={'title':'Valor de Frete',\n",
    "                         'tickformat':'.',\n",
    "                         'tickprefix':'R$'})\n",
    "\n",
    "\n",
    "fig = go.Figure(data=data, layout=layout)\n",
    "\n",
    "py.iplot(fig)\n",
    "\n"
   ]
  },
  {
   "cell_type": "markdown",
   "metadata": {},
   "source": [
    "**Valor de Frete x Valor de Produto por Status de Entrega**"
   ]
  },
  {
   "cell_type": "code",
   "execution_count": null,
   "metadata": {},
   "outputs": [],
   "source": [
    "df.iplot(x='order_freight_value',\n",
    "         y='order_products_value',\n",
    "         categories='most_voted_subclass',\n",
    "         title='Valor de Frete x Valor de Produto',\n",
    "         xTitle='Valor de Frete',\n",
    "         yTitle='Valor de Produto')"
   ]
  },
  {
   "cell_type": "markdown",
   "metadata": {},
   "source": [
    "**Quantidade em média de Item de um pedido**"
   ]
  },
  {
   "cell_type": "code",
   "execution_count": null,
   "metadata": {},
   "outputs": [],
   "source": [
    "data = [go.Histogram(x=df.order_items_qty)]\n",
    "\n",
    "layout = go.Layout(title='Quantidade em média de Item de um pedido')\n",
    "\n",
    "fig = go.Figure(data=data, layout=layout)\n",
    "\n",
    "py.iplot(fig)"
   ]
  },
  {
   "cell_type": "markdown",
   "metadata": {},
   "source": [
    "**Quantidade média de Vendedores de um pedido**"
   ]
  },
  {
   "cell_type": "code",
   "execution_count": null,
   "metadata": {},
   "outputs": [],
   "source": [
    "trace1 = go.Histogram(x=df.order_items_qty,\n",
    "                     name='Itens',\n",
    "                     opacity=0.75)\n",
    "\n",
    "trace2 = go.Histogram(x=df.order_sellers_qty,\n",
    "                     name='Vendedores',\n",
    "                     opacity=0.75)\n",
    "\n",
    "layout = go.Layout(title='Quande de itens e Vendedore por pedido',\n",
    "                  barmode='overlay')\n",
    "dados = [trace1, trace2]\n",
    "\n",
    "fig = go.Figure(data=dados, layout=layout)\n",
    "\n",
    "py.iplot(fig)"
   ]
  },
  {
   "cell_type": "markdown",
   "metadata": {},
   "source": [
    "**Plotando um gráfico de pizza**"
   ]
  },
  {
   "cell_type": "markdown",
   "metadata": {},
   "source": [
    "* **Qual a distribuição da classificação dos pedidos pelos clientes**"
   ]
  },
  {
   "cell_type": "code",
   "execution_count": null,
   "metadata": {},
   "outputs": [],
   "source": [
    "df.order_status.value_counts"
   ]
  },
  {
   "cell_type": "code",
   "execution_count": null,
   "metadata": {},
   "outputs": [],
   "source": [
    "classes_mais_votadas = df.groupby(by='most_voted_class').id.count()"
   ]
  },
  {
   "cell_type": "code",
   "execution_count": null,
   "metadata": {},
   "outputs": [],
   "source": [
    "# Mesmo resultado do codigo acima\n",
    "classes_mais_votadas = df.most_voted_class.value_counts()"
   ]
  },
  {
   "cell_type": "code",
   "execution_count": null,
   "metadata": {},
   "outputs": [],
   "source": [
    "# Criando o gráfico\n",
    "trace = go.Pie(labels=classes_mais_votadas.index,\n",
    "               values=classes_mais_votadas.values)\n",
    "\n",
    "# Armazanando o gráfico na lista\n",
    "dados = [trace]\n",
    "\n",
    "# Criando o Layout\n",
    "layout =  go.Layout(title='Classificação de Clientes sobre Pedidos')\n",
    "\n",
    "fig = go.Figure(data=dados, layout=layout)\n",
    "\n",
    "py.iplot(fig)"
   ]
  },
  {
   "cell_type": "markdown",
   "metadata": {},
   "source": [
    "**Parâmetro direction**"
   ]
  },
  {
   "cell_type": "code",
   "execution_count": null,
   "metadata": {},
   "outputs": [],
   "source": [
    "# Criando o gráfico\n",
    "trace = go.Pie(labels=classes_mais_votadas.index,\n",
    "               values=classes_mais_votadas.values,\n",
    "              direction='clockwise') # Organiza as informações no formato de relógio\n",
    "\n",
    "# Armazanando o gráfico na lista\n",
    "dados = [trace]\n",
    "\n",
    "# Criando o Layout\n",
    "layout =  go.Layout(title='Classificação de Clientes sobre Pedidos')\n",
    "\n",
    "fig = go.Figure(data=dados, layout=layout)\n",
    "\n",
    "py.iplot(fig)"
   ]
  },
  {
   "cell_type": "markdown",
   "metadata": {},
   "source": [
    "**Customizando gráficos de pizza**"
   ]
  },
  {
   "cell_type": "code",
   "execution_count": null,
   "metadata": {},
   "outputs": [],
   "source": [
    "# Criando o gráfico\n",
    "\n",
    "cores = ['#96D38C', '#FEBFB3', '#E1396C']\n",
    "\n",
    "trace = go.Pie(labels=classes_mais_votadas.index,\n",
    "               values=classes_mais_votadas.values,\n",
    "               marker={'colors':cores}, # Passa como parâmetro as cores que desejo para o Gráfico\n",
    "               direction='clockwise') # Organiza as informações no formato de relógio\n",
    "\n",
    "# Armazanando o gráfico na lista\n",
    "dados = [trace]\n",
    "\n",
    "# Criando o Layout\n",
    "layout =  go.Layout(title='Classificação de Clientes sobre Pedidos')\n",
    "\n",
    "fig = go.Figure(data=dados, layout=layout)\n",
    "\n",
    "py.iplot(fig)"
   ]
  },
  {
   "cell_type": "code",
   "execution_count": null,
   "metadata": {},
   "outputs": [],
   "source": [
    "# Criando o gráfico\n",
    "\n",
    "cores = ['#96D38C', '#FEBFB3', '#E1396C']\n",
    "\n",
    "trace = go.Pie(labels=classes_mais_votadas.index,\n",
    "               values=classes_mais_votadas.values,\n",
    "               marker={'colors':cores,  # Passa como parâmetro as cores que desejo para o Gráfico\n",
    "                       'line': {'color':'#000000', 'width':2}},\n",
    "               hoverinfo='label+percent+value',\n",
    "               direction='clockwise') # Organiza as informações no formato de relógio\n",
    "\n",
    "# Armazanando o gráfico na lista\n",
    "dados = [trace]\n",
    "\n",
    "# Criando o Layout\n",
    "layout =  go.Layout(title='Classificação de Clientes sobre Pedidos')\n",
    "\n",
    "fig = go.Figure(data=dados, layout=layout)\n",
    "\n",
    "py.iplot(fig)"
   ]
  },
  {
   "cell_type": "markdown",
   "metadata": {},
   "source": [
    "**Destacando porções do gráfico**"
   ]
  },
  {
   "cell_type": "code",
   "execution_count": null,
   "metadata": {},
   "outputs": [],
   "source": [
    "# Criando o gráfico\n",
    "\n",
    "cores = ['#96D38C', '#FEBFB3', '#E1396C']\n",
    "\n",
    "trace = go.Pie(labels=classes_mais_votadas.index,\n",
    "               values=classes_mais_votadas.values,\n",
    "               marker={'colors':cores,  # Passa como parâmetro as cores que desejo para o Gráfico\n",
    "                       'line': {'color':'#000000', 'width':2}},\n",
    "               hoverinfo='label+percent+value',\n",
    "               pull=[0,0,0.1], # Destacando uma parte do gráfico\n",
    "               direction='clockwise') # Organiza as informações no formato de relógio\n",
    "\n",
    "# Armazanando o gráfico na lista\n",
    "dados = [trace]\n",
    "\n",
    "# Criando o Layout\n",
    "layout =  go.Layout(title='Classificação de Clientes sobre Pedidos')\n",
    "\n",
    "fig = go.Figure(data=dados, layout=layout)\n",
    "\n",
    "py.iplot(fig)"
   ]
  },
  {
   "cell_type": "markdown",
   "metadata": {},
   "source": [
    "**Exportando nosso gráfico para conta do Plotly na nuvem**"
   ]
  },
  {
   "cell_type": "markdown",
   "metadata": {},
   "source": [
    "**Importando método para plot online**"
   ]
  },
  {
   "cell_type": "code",
   "execution_count": null,
   "metadata": {},
   "outputs": [],
   "source": [
    "!pip install chart-studio"
   ]
  },
  {
   "cell_type": "code",
   "execution_count": null,
   "metadata": {},
   "outputs": [],
   "source": [
    "import chart_studio as cs"
   ]
  },
  {
   "cell_type": "code",
   "execution_count": null,
   "metadata": {},
   "outputs": [],
   "source": [
    "cs.tools.set_credentials_file(username='josecarlos10967', api_key='51Bb4cHJkmKPUiD2rIKU')"
   ]
  },
  {
   "cell_type": "markdown",
   "metadata": {},
   "source": [
    "## Exercício ##"
   ]
  },
  {
   "cell_type": "markdown",
   "metadata": {},
   "source": [
    "- Usando os conhecimentos adquiridos aqui, crie um dashboard na nuvem do Plot e compartilhe comigo :)\n",
    "- Envie para o e-mail contato@minerandodados.com.br\n",
    "- Lembre-se: Seu Dashboard deve ser usado como seu **portfólio profissional**."
   ]
  },
  {
   "cell_type": "code",
   "execution_count": null,
   "metadata": {},
   "outputs": [],
   "source": [
    "# Criando o gráfico\n",
    "import plotly.graph_objs as go\n",
    "\n",
    "cores = ['#96D38C', '#FEBFB3', '#E1396C']\n",
    "\n",
    "trace = go.Pie(labels=classes_mais_votadas.index,\n",
    "               values=classes_mais_votadas.values,\n",
    "               marker={'colors':cores,  # Passa como parâmetro as cores que desejo para o Gráfico\n",
    "                       'line': {'color':'#000000', 'width':2}},\n",
    "               hoverinfo='label+percent+value',\n",
    "               pull=[0,0,0.1], # Destacando uma parte do gráfico\n",
    "               direction='clockwise') # Organiza as informações no formato de relógio\n",
    "\n",
    "# Armazanando o gráfico na lista\n",
    "dados = [trace]\n",
    "\n",
    "# Criando o Layout\n",
    "layout =  go.Layout(title='Classificação de Clientes sobre Pedidos')\n",
    "\n",
    "fig = go.Figure(data=dados, layout=layout)\n",
    "\n",
    "cs.plotly.plot(fig)"
   ]
  },
  {
   "cell_type": "code",
   "execution_count": null,
   "metadata": {},
   "outputs": [],
   "source": [
    "import plotly.graph_objs as go\n",
    "\n",
    "data = [go.Bar(x=vendas_por_mes.index,\n",
    "               y=vendas_por_mes.values,\n",
    "               marker={'color': cores,\n",
    "                       'line':{'color': '#333',\n",
    "                               'width': 2}\n",
    "                      },\n",
    "              opacity=0.7)]\n",
    "\n",
    "layout = go.Layout(title='Vendas por Período',\n",
    "                   xaxis={'title': 'Período'},\n",
    "                   yaxis={'title': 'Valores de Vendas'})\n",
    "\n",
    "fig = go.Figure(data=data, layout=layout)\n",
    "\n",
    "cs.plotly.plot(fig)"
   ]
  },
  {
   "cell_type": "code",
   "execution_count": null,
   "metadata": {},
   "outputs": [],
   "source": [
    "\n",
    "data = [ go.Bar(x=vendas_por_mes.index,\n",
    "                y=vendas_por_mes.values,\n",
    "                marker={'color':cores,\n",
    "                         'line':{'color':'#333',\n",
    "                                 'width': 2}\n",
    "                       },\n",
    "                opacity=0.7,\n",
    "                name='2017'\n",
    "               ),\n",
    "        \n",
    "        # Definindo o outro plot do gráfico do ano passado.\n",
    "         go.Bar(x=vendas_ano_anterior.index,\n",
    "                y=vendas_ano_anterior.values,\n",
    "                name='2016',\n",
    "                marker={'color':'lightgreen',\n",
    "                         'line':{'color':'#333',\n",
    "                                 'width': 2}\n",
    "                       },\n",
    "                opacity=0.7\n",
    "               )\n",
    "       ]\n",
    "\n",
    "layout = go.Layout(title='Vendas por Período',\n",
    "                   xaxis={'title': 'Período'},\n",
    "                   yaxis={'title': 'Valores de Vendas'},\n",
    "                   \n",
    "                  # Anotação do Gráfico na Barra de Máximo Valoe\n",
    "                  annotations=[{'text': 'Máximo de vendas',\n",
    "                                'x':mes_maximo_vendas,\n",
    "                                'y':maximo_vendas\n",
    "                               }]\n",
    "                  )\n",
    "\n",
    "fig = go.Figure(data=data, layout= layout)\n",
    "\n",
    "cs.plotly.plot(fig)\n"
   ]
  },
  {
   "cell_type": "code",
   "execution_count": null,
   "metadata": {},
   "outputs": [],
   "source": [
    "import plotly.offline as py\n",
    "import plotly.graph_objs as go\n",
    "\n",
    "\n",
    "trace0 = go.Bar(y=venda_produto_por_categoria.values,\n",
    "                x=venda_produto_por_categoria.index,\n",
    "                marker= {'color': '#00FF2a'},\n",
    "                orientation='v' # Gráfico de Barra verticais.\n",
    "               )\n",
    "\n",
    "data = [trace0]\n",
    "\n",
    "# Criando o Layout\n",
    "configuracoes_layout = go.Layout(title='Vendas por Categoria',\n",
    "                                 xaxis=dict(\n",
    "                                     titlefont=dict(\n",
    "                                         size=40,\n",
    "                                         color='lightgrey'),\n",
    "                                     tickangle=75),\n",
    "                                 yaxis={'title':'Quantidade de Vendas'})\n",
    "\n",
    "# Objeto de Figura\n",
    "fig = go.Figure(data=data, layout=configuracoes_layout)\n",
    "\n",
    "cs.plotly.plot(fig)"
   ]
  },
  {
   "cell_type": "code",
   "execution_count": null,
   "metadata": {},
   "outputs": [],
   "source": []
  }
 ],
 "metadata": {
  "kernelspec": {
   "display_name": "Python 3",
   "language": "python",
   "name": "python3"
  },
  "language_info": {
   "codemirror_mode": {
    "name": "ipython",
    "version": 3
   },
   "file_extension": ".py",
   "mimetype": "text/x-python",
   "name": "python",
   "nbconvert_exporter": "python",
   "pygments_lexer": "ipython3",
   "version": "3.7.4"
  }
 },
 "nbformat": 4,
 "nbformat_minor": 2
}
