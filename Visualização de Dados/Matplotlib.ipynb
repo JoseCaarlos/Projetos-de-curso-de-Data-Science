{
 "cells": [
  {
   "cell_type": "markdown",
   "metadata": {},
   "source": [
    "# Minerando Dados - Visualização de Dados"
   ]
  },
  {
   "cell_type": "markdown",
   "metadata": {},
   "source": [
    "**Trabalhando com Matplotlib**"
   ]
  },
  {
   "cell_type": "markdown",
   "metadata": {},
   "source": [
    "* Ideal para plotagem de gráficos **Simples.**\n",
    "* Aumenta a produtividade do cientista de dados.\n",
    "* Fornece uma interface próxima do Matlab, o que é interessante para gráficos com expressões matemáticas.\n",
    "* A maior desvantagem é o **layout**."
   ]
  },
  {
   "cell_type": "markdown",
   "metadata": {},
   "source": [
    "**Quando utilizar ?**"
   ]
  },
  {
   "cell_type": "markdown",
   "metadata": {},
   "source": [
    "* Útil para análise e exploração de dados."
   ]
  },
  {
   "cell_type": "markdown",
   "metadata": {},
   "source": [
    "**Instalação da biblioteca**"
   ]
  },
  {
   "cell_type": "markdown",
   "metadata": {},
   "source": [
    "* Caso não esteja usando anaconda instale o matplotlib com o gerenciador de pacotes pip ou usando o conda: Exemplo"
   ]
  },
  {
   "cell_type": "code",
   "execution_count": 1,
   "metadata": {
    "collapsed": true
   },
   "outputs": [
    {
     "name": "stdout",
     "output_type": "stream",
     "text": [
      "Requirement already satisfied: matplotlib in d:\\desenvolvimento\\anaconda\\lib\\site-packages (3.1.1)\n",
      "Requirement already satisfied: cycler>=0.10 in d:\\desenvolvimento\\anaconda\\lib\\site-packages (from matplotlib) (0.10.0)\n",
      "Requirement already satisfied: kiwisolver>=1.0.1 in d:\\desenvolvimento\\anaconda\\lib\\site-packages (from matplotlib) (1.1.0)\n",
      "Requirement already satisfied: pyparsing!=2.0.4,!=2.1.2,!=2.1.6,>=2.0.1 in d:\\desenvolvimento\\anaconda\\lib\\site-packages (from matplotlib) (2.4.2)\n",
      "Requirement already satisfied: python-dateutil>=2.1 in d:\\desenvolvimento\\anaconda\\lib\\site-packages (from matplotlib) (2.8.0)\n",
      "Requirement already satisfied: numpy>=1.11 in d:\\desenvolvimento\\anaconda\\lib\\site-packages (from matplotlib) (1.16.5)\n",
      "Requirement already satisfied: six in d:\\desenvolvimento\\anaconda\\lib\\site-packages (from cycler>=0.10->matplotlib) (1.12.0)\n",
      "Requirement already satisfied: setuptools in d:\\desenvolvimento\\anaconda\\lib\\site-packages (from kiwisolver>=1.0.1->matplotlib) (41.4.0)\n"
     ]
    }
   ],
   "source": [
    "!pip install matplotlib"
   ]
  },
  {
   "cell_type": "code",
   "execution_count": null,
   "metadata": {},
   "outputs": [],
   "source": [
    "!conda install matplotlib"
   ]
  },
  {
   "cell_type": "markdown",
   "metadata": {},
   "source": [
    "**Se estiver usando o Anaconda, o matplotlib já disponível por padrão**"
   ]
  },
  {
   "cell_type": "code",
   "execution_count": 2,
   "metadata": {},
   "outputs": [],
   "source": [
    "# Importando o pyplot\n",
    "from matplotlib import pyplot as plt"
   ]
  },
  {
   "cell_type": "markdown",
   "metadata": {},
   "source": [
    "**Define que os gráficos a serem plotados na célula e podem ser ajustados**"
   ]
  },
  {
   "cell_type": "code",
   "execution_count": 2,
   "metadata": {},
   "outputs": [],
   "source": [
    "%matplotlib notebook"
   ]
  },
  {
   "cell_type": "markdown",
   "metadata": {},
   "source": [
    "**Define que os gráficos ficaram fixos na célula do jupyter notebook**"
   ]
  },
  {
   "cell_type": "code",
   "execution_count": 3,
   "metadata": {},
   "outputs": [],
   "source": [
    "%matplotlib inline"
   ]
  },
  {
   "cell_type": "markdown",
   "metadata": {},
   "source": [
    "**Plotando gráfico de linhas simples**"
   ]
  },
  {
   "cell_type": "code",
   "execution_count": 5,
   "metadata": {},
   "outputs": [
    {
     "data": {
      "image/png": "[encoded data removed]",
      "text/plain": [
       "<IPython.core.display.Image object>"
      ]
     },
     "execution_count": 5,
     "metadata": {},
     "output_type": "execute_result"
    }
   ],
   "source": [
    "from IPython.display import Image\n",
    "Image('anatomia.png')"
   ]
  },
  {
   "cell_type": "markdown",
   "metadata": {},
   "source": [
    "## Gráficos de Linhas"
   ]
  },
  {
   "cell_type": "markdown",
   "metadata": {},
   "source": [
    "* Gráfico normalmente utilazado para visualização de dados em uma linha do tempo.\n",
    "* Normalmente utilizado com Eixo X relacionado a dados temporais e eixo Y a dados quantitativos.\n",
    "* Cuidado ao plotar várias linhas, a leitura pode ficar prejudicada."
   ]
  },
  {
   "cell_type": "code",
   "execution_count": 11,
   "metadata": {},
   "outputs": [
    {
     "data": {
      "application/javascript": [
       "/* Put everything inside the global mpl namespace */\n",
       "window.mpl = {};\n",
       "\n",
       "\n",
       "mpl.get_websocket_type = function() {\n",
       "    if (typeof(WebSocket) !== 'undefined') {\n",
       "        return WebSocket;\n",
       "    } else if (typeof(MozWebSocket) !== 'undefined') {\n",
       "        return MozWebSocket;\n",
       "    } else {\n",
       "        alert('Your browser does not have WebSocket support. ' +\n",
       "              'Please try Chrome, Safari or Firefox ≥ 6. ' +\n",
       "              'Firefox 4 and 5 are also supported but you ' +\n",
       "              'have to enable WebSockets in about:config.');\n",
       "    };\n",
       "}\n",
       "\n",
       "mpl.figure = function(figure_id, websocket, ondownload, parent_element) {\n",
       "    this.id = figure_id;\n",
       "\n",
       "    this.ws = websocket;\n",
       "\n",
       "    this.supports_binary = (this.ws.binaryType != undefined);\n",
       "\n",
       "    if (!this.supports_binary) {\n",
       "        var warnings = document.getElementById(\"mpl-warnings\");\n",
       "        if (warnings) {\n",
       "            warnings.style.display = 'block';\n",
       "            warnings.textContent = (\n",
       "                \"This browser does not support binary websocket messages. \" +\n",
       "                    \"Performance may be slow.\");\n",
       "        }\n",
       "    }\n",
       "\n",
       "    this.imageObj = new Image();\n",
       "\n",
       "    this.context = undefined;\n",
       "    this.message = undefined;\n",
       "    this.canvas = undefined;\n",
       "    this.rubberband_canvas = undefined;\n",
       "    this.rubberband_context = undefined;\n",
       "    this.format_dropdown = undefined;\n",
       "\n",
       "    this.image_mode = 'full';\n",
       "\n",
       "    this.root = $('<div/>');\n",
       "    this._root_extra_style(this.root)\n",
       "    this.root.attr('style', 'display: inline-block');\n",
       "\n",
       "    $(parent_element).append(this.root);\n",
       "\n",
       "    this._init_header(this);\n",
       "    this._init_canvas(this);\n",
       "    this._init_toolbar(this);\n",
       "\n",
       "    var fig = this;\n",
       "\n",
       "    this.waiting = false;\n",
       "\n",
       "    this.ws.onopen =  function () {\n",
       "            fig.send_message(\"supports_binary\", {value: fig.supports_binary});\n",
       "            fig.send_message(\"send_image_mode\", {});\n",
       "            if (mpl.ratio != 1) {\n",
       "                fig.send_message(\"set_dpi_ratio\", {'dpi_ratio': mpl.ratio});\n",
       "            }\n",
       "            fig.send_message(\"refresh\", {});\n",
       "        }\n",
       "\n",
       "    this.imageObj.onload = function() {\n",
       "            if (fig.image_mode == 'full') {\n",
       "                // Full images could contain transparency (where diff images\n",
       "                // almost always do), so we need to clear the canvas so that\n",
       "                // there is no ghosting.\n",
       "                fig.context.clearRect(0, 0, fig.canvas.width, fig.canvas.height);\n",
       "            }\n",
       "            fig.context.drawImage(fig.imageObj, 0, 0);\n",
       "        };\n",
       "\n",
       "    this.imageObj.onunload = function() {\n",
       "        fig.ws.close();\n",
       "    }\n",
       "\n",
       "    this.ws.onmessage = this._make_on_message_function(this);\n",
       "\n",
       "    this.ondownload = ondownload;\n",
       "}\n",
       "\n",
       "mpl.figure.prototype._init_header = function() {\n",
       "    var titlebar = $(\n",
       "        '<div class=\"ui-dialog-titlebar ui-widget-header ui-corner-all ' +\n",
       "        'ui-helper-clearfix\"/>');\n",
       "    var titletext = $(\n",
       "        '<div class=\"ui-dialog-title\" style=\"width: 100%; ' +\n",
       "        'text-align: center; padding: 3px;\"/>');\n",
       "    titlebar.append(titletext)\n",
       "    this.root.append(titlebar);\n",
       "    this.header = titletext[0];\n",
       "}\n",
       "\n",
       "\n",
       "\n",
       "mpl.figure.prototype._canvas_extra_style = function(canvas_div) {\n",
       "\n",
       "}\n",
       "\n",
       "\n",
       "mpl.figure.prototype._root_extra_style = function(canvas_div) {\n",
       "\n",
       "}\n",
       "\n",
       "mpl.figure.prototype._init_canvas = function() {\n",
       "    var fig = this;\n",
       "\n",
       "    var canvas_div = $('<div/>');\n",
       "\n",
       "    canvas_div.attr('style', 'position: relative; clear: both; outline: 0');\n",
       "\n",
       "    function canvas_keyboard_event(event) {\n",
       "        return fig.key_event(event, event['data']);\n",
       "    }\n",
       "\n",
       "    canvas_div.keydown('key_press', canvas_keyboard_event);\n",
       "    canvas_div.keyup('key_release', canvas_keyboard_event);\n",
       "    this.canvas_div = canvas_div\n",
       "    this._canvas_extra_style(canvas_div)\n",
       "    this.root.append(canvas_div);\n",
       "\n",
       "    var canvas = $('<canvas/>');\n",
       "    canvas.addClass('mpl-canvas');\n",
       "    canvas.attr('style', \"left: 0; top: 0; z-index: 0; outline: 0\")\n",
       "\n",
       "    this.canvas = canvas[0];\n",
       "    this.context = canvas[0].getContext(\"2d\");\n",
       "\n",
       "    var backingStore = this.context.backingStorePixelRatio ||\n",
       "\tthis.context.webkitBackingStorePixelRatio ||\n",
       "\tthis.context.mozBackingStorePixelRatio ||\n",
       "\tthis.context.msBackingStorePixelRatio ||\n",
       "\tthis.context.oBackingStorePixelRatio ||\n",
       "\tthis.context.backingStorePixelRatio || 1;\n",
       "\n",
       "    mpl.ratio = (window.devicePixelRatio || 1) / backingStore;\n",
       "\n",
       "    var rubberband = $('<canvas/>');\n",
       "    rubberband.attr('style', \"position: absolute; left: 0; top: 0; z-index: 1;\")\n",
       "\n",
       "    var pass_mouse_events = true;\n",
       "\n",
       "    canvas_div.resizable({\n",
       "        start: function(event, ui) {\n",
       "            pass_mouse_events = false;\n",
       "        },\n",
       "        resize: function(event, ui) {\n",
       "            fig.request_resize(ui.size.width, ui.size.height);\n",
       "        },\n",
       "        stop: function(event, ui) {\n",
       "            pass_mouse_events = true;\n",
       "            fig.request_resize(ui.size.width, ui.size.height);\n",
       "        },\n",
       "    });\n",
       "\n",
       "    function mouse_event_fn(event) {\n",
       "        if (pass_mouse_events)\n",
       "            return fig.mouse_event(event, event['data']);\n",
       "    }\n",
       "\n",
       "    rubberband.mousedown('button_press', mouse_event_fn);\n",
       "    rubberband.mouseup('button_release', mouse_event_fn);\n",
       "    // Throttle sequential mouse events to 1 every 20ms.\n",
       "    rubberband.mousemove('motion_notify', mouse_event_fn);\n",
       "\n",
       "    rubberband.mouseenter('figure_enter', mouse_event_fn);\n",
       "    rubberband.mouseleave('figure_leave', mouse_event_fn);\n",
       "\n",
       "    canvas_div.on(\"wheel\", function (event) {\n",
       "        event = event.originalEvent;\n",
       "        event['data'] = 'scroll'\n",
       "        if (event.deltaY < 0) {\n",
       "            event.step = 1;\n",
       "        } else {\n",
       "            event.step = -1;\n",
       "        }\n",
       "        mouse_event_fn(event);\n",
       "    });\n",
       "\n",
       "    canvas_div.append(canvas);\n",
       "    canvas_div.append(rubberband);\n",
       "\n",
       "    this.rubberband = rubberband;\n",
       "    this.rubberband_canvas = rubberband[0];\n",
       "    this.rubberband_context = rubberband[0].getContext(\"2d\");\n",
       "    this.rubberband_context.strokeStyle = \"#000000\";\n",
       "\n",
       "    this._resize_canvas = function(width, height) {\n",
       "        // Keep the size of the canvas, canvas container, and rubber band\n",
       "        // canvas in synch.\n",
       "        canvas_div.css('width', width)\n",
       "        canvas_div.css('height', height)\n",
       "\n",
       "        canvas.attr('width', width * mpl.ratio);\n",
       "        canvas.attr('height', height * mpl.ratio);\n",
       "        canvas.attr('style', 'width: ' + width + 'px; height: ' + height + 'px;');\n",
       "\n",
       "        rubberband.attr('width', width);\n",
       "        rubberband.attr('height', height);\n",
       "    }\n",
       "\n",
       "    // Set the figure to an initial 600x600px, this will subsequently be updated\n",
       "    // upon first draw.\n",
       "    this._resize_canvas(600, 600);\n",
       "\n",
       "    // Disable right mouse context menu.\n",
       "    $(this.rubberband_canvas).bind(\"contextmenu\",function(e){\n",
       "        return false;\n",
       "    });\n",
       "\n",
       "    function set_focus () {\n",
       "        canvas.focus();\n",
       "        canvas_div.focus();\n",
       "    }\n",
       "\n",
       "    window.setTimeout(set_focus, 100);\n",
       "}\n",
       "\n",
       "mpl.figure.prototype._init_toolbar = function() {\n",
       "    var fig = this;\n",
       "\n",
       "    var nav_element = $('<div/>');\n",
       "    nav_element.attr('style', 'width: 100%');\n",
       "    this.root.append(nav_element);\n",
       "\n",
       "    // Define a callback function for later on.\n",
       "    function toolbar_event(event) {\n",
       "        return fig.toolbar_button_onclick(event['data']);\n",
       "    }\n",
       "    function toolbar_mouse_event(event) {\n",
       "        return fig.toolbar_button_onmouseover(event['data']);\n",
       "    }\n",
       "\n",
       "    for(var toolbar_ind in mpl.toolbar_items) {\n",
       "        var name = mpl.toolbar_items[toolbar_ind][0];\n",
       "        var tooltip = mpl.toolbar_items[toolbar_ind][1];\n",
       "        var image = mpl.toolbar_items[toolbar_ind][2];\n",
       "        var method_name = mpl.toolbar_items[toolbar_ind][3];\n",
       "\n",
       "        if (!name) {\n",
       "            // put a spacer in here.\n",
       "            continue;\n",
       "        }\n",
       "        var button = $('<button/>');\n",
       "        button.addClass('ui-button ui-widget ui-state-default ui-corner-all ' +\n",
       "                        'ui-button-icon-only');\n",
       "        button.attr('role', 'button');\n",
       "        button.attr('aria-disabled', 'false');\n",
       "        button.click(method_name, toolbar_event);\n",
       "        button.mouseover(tooltip, toolbar_mouse_event);\n",
       "\n",
       "        var icon_img = $('<span/>');\n",
       "        icon_img.addClass('ui-button-icon-primary ui-icon');\n",
       "        icon_img.addClass(image);\n",
       "        icon_img.addClass('ui-corner-all');\n",
       "\n",
       "        var tooltip_span = $('<span/>');\n",
       "        tooltip_span.addClass('ui-button-text');\n",
       "        tooltip_span.html(tooltip);\n",
       "\n",
       "        button.append(icon_img);\n",
       "        button.append(tooltip_span);\n",
       "\n",
       "        nav_element.append(button);\n",
       "    }\n",
       "\n",
       "    var fmt_picker_span = $('<span/>');\n",
       "\n",
       "    var fmt_picker = $('<select/>');\n",
       "    fmt_picker.addClass('mpl-toolbar-option ui-widget ui-widget-content');\n",
       "    fmt_picker_span.append(fmt_picker);\n",
       "    nav_element.append(fmt_picker_span);\n",
       "    this.format_dropdown = fmt_picker[0];\n",
       "\n",
       "    for (var ind in mpl.extensions) {\n",
       "        var fmt = mpl.extensions[ind];\n",
       "        var option = $(\n",
       "            '<option/>', {selected: fmt === mpl.default_extension}).html(fmt);\n",
       "        fmt_picker.append(option);\n",
       "    }\n",
       "\n",
       "    // Add hover states to the ui-buttons\n",
       "    $( \".ui-button\" ).hover(\n",
       "        function() { $(this).addClass(\"ui-state-hover\");},\n",
       "        function() { $(this).removeClass(\"ui-state-hover\");}\n",
       "    );\n",
       "\n",
       "    var status_bar = $('<span class=\"mpl-message\"/>');\n",
       "    nav_element.append(status_bar);\n",
       "    this.message = status_bar[0];\n",
       "}\n",
       "\n",
       "mpl.figure.prototype.request_resize = function(x_pixels, y_pixels) {\n",
       "    // Request matplotlib to resize the figure. Matplotlib will then trigger a resize in the client,\n",
       "    // which will in turn request a refresh of the image.\n",
       "    this.send_message('resize', {'width': x_pixels, 'height': y_pixels});\n",
       "}\n",
       "\n",
       "mpl.figure.prototype.send_message = function(type, properties) {\n",
       "    properties['type'] = type;\n",
       "    properties['figure_id'] = this.id;\n",
       "    this.ws.send(JSON.stringify(properties));\n",
       "}\n",
       "\n",
       "mpl.figure.prototype.send_draw_message = function() {\n",
       "    if (!this.waiting) {\n",
       "        this.waiting = true;\n",
       "        this.ws.send(JSON.stringify({type: \"draw\", figure_id: this.id}));\n",
       "    }\n",
       "}\n",
       "\n",
       "\n",
       "mpl.figure.prototype.handle_save = function(fig, msg) {\n",
       "    var format_dropdown = fig.format_dropdown;\n",
       "    var format = format_dropdown.options[format_dropdown.selectedIndex].value;\n",
       "    fig.ondownload(fig, format);\n",
       "}\n",
       "\n",
       "\n",
       "mpl.figure.prototype.handle_resize = function(fig, msg) {\n",
       "    var size = msg['size'];\n",
       "    if (size[0] != fig.canvas.width || size[1] != fig.canvas.height) {\n",
       "        fig._resize_canvas(size[0], size[1]);\n",
       "        fig.send_message(\"refresh\", {});\n",
       "    };\n",
       "}\n",
       "\n",
       "mpl.figure.prototype.handle_rubberband = function(fig, msg) {\n",
       "    var x0 = msg['x0'] / mpl.ratio;\n",
       "    var y0 = (fig.canvas.height - msg['y0']) / mpl.ratio;\n",
       "    var x1 = msg['x1'] / mpl.ratio;\n",
       "    var y1 = (fig.canvas.height - msg['y1']) / mpl.ratio;\n",
       "    x0 = Math.floor(x0) + 0.5;\n",
       "    y0 = Math.floor(y0) + 0.5;\n",
       "    x1 = Math.floor(x1) + 0.5;\n",
       "    y1 = Math.floor(y1) + 0.5;\n",
       "    var min_x = Math.min(x0, x1);\n",
       "    var min_y = Math.min(y0, y1);\n",
       "    var width = Math.abs(x1 - x0);\n",
       "    var height = Math.abs(y1 - y0);\n",
       "\n",
       "    fig.rubberband_context.clearRect(\n",
       "        0, 0, fig.canvas.width / mpl.ratio, fig.canvas.height / mpl.ratio);\n",
       "\n",
       "    fig.rubberband_context.strokeRect(min_x, min_y, width, height);\n",
       "}\n",
       "\n",
       "mpl.figure.prototype.handle_figure_label = function(fig, msg) {\n",
       "    // Updates the figure title.\n",
       "    fig.header.textContent = msg['label'];\n",
       "}\n",
       "\n",
       "mpl.figure.prototype.handle_cursor = function(fig, msg) {\n",
       "    var cursor = msg['cursor'];\n",
       "    switch(cursor)\n",
       "    {\n",
       "    case 0:\n",
       "        cursor = 'pointer';\n",
       "        break;\n",
       "    case 1:\n",
       "        cursor = 'default';\n",
       "        break;\n",
       "    case 2:\n",
       "        cursor = 'crosshair';\n",
       "        break;\n",
       "    case 3:\n",
       "        cursor = 'move';\n",
       "        break;\n",
       "    }\n",
       "    fig.rubberband_canvas.style.cursor = cursor;\n",
       "}\n",
       "\n",
       "mpl.figure.prototype.handle_message = function(fig, msg) {\n",
       "    fig.message.textContent = msg['message'];\n",
       "}\n",
       "\n",
       "mpl.figure.prototype.handle_draw = function(fig, msg) {\n",
       "    // Request the server to send over a new figure.\n",
       "    fig.send_draw_message();\n",
       "}\n",
       "\n",
       "mpl.figure.prototype.handle_image_mode = function(fig, msg) {\n",
       "    fig.image_mode = msg['mode'];\n",
       "}\n",
       "\n",
       "mpl.figure.prototype.updated_canvas_event = function() {\n",
       "    // Called whenever the canvas gets updated.\n",
       "    this.send_message(\"ack\", {});\n",
       "}\n",
       "\n",
       "// A function to construct a web socket function for onmessage handling.\n",
       "// Called in the figure constructor.\n",
       "mpl.figure.prototype._make_on_message_function = function(fig) {\n",
       "    return function socket_on_message(evt) {\n",
       "        if (evt.data instanceof Blob) {\n",
       "            /* FIXME: We get \"Resource interpreted as Image but\n",
       "             * transferred with MIME type text/plain:\" errors on\n",
       "             * Chrome.  But how to set the MIME type?  It doesn't seem\n",
       "             * to be part of the websocket stream */\n",
       "            evt.data.type = \"image/png\";\n",
       "\n",
       "            /* Free the memory for the previous frames */\n",
       "            if (fig.imageObj.src) {\n",
       "                (window.URL || window.webkitURL).revokeObjectURL(\n",
       "                    fig.imageObj.src);\n",
       "            }\n",
       "\n",
       "            fig.imageObj.src = (window.URL || window.webkitURL).createObjectURL(\n",
       "                evt.data);\n",
       "            fig.updated_canvas_event();\n",
       "            fig.waiting = false;\n",
       "            return;\n",
       "        }\n",
       "        else if (typeof evt.data === 'string' && evt.data.slice(0, 21) == \"data:image/png;base64\") {\n",
       "            fig.imageObj.src = evt.data;\n",
       "            fig.updated_canvas_event();\n",
       "            fig.waiting = false;\n",
       "            return;\n",
       "        }\n",
       "\n",
       "        var msg = JSON.parse(evt.data);\n",
       "        var msg_type = msg['type'];\n",
       "\n",
       "        // Call the  \"handle_{type}\" callback, which takes\n",
       "        // the figure and JSON message as its only arguments.\n",
       "        try {\n",
       "            var callback = fig[\"handle_\" + msg_type];\n",
       "        } catch (e) {\n",
       "            console.log(\"No handler for the '\" + msg_type + \"' message type: \", msg);\n",
       "            return;\n",
       "        }\n",
       "\n",
       "        if (callback) {\n",
       "            try {\n",
       "                // console.log(\"Handling '\" + msg_type + \"' message: \", msg);\n",
       "                callback(fig, msg);\n",
       "            } catch (e) {\n",
       "                console.log(\"Exception inside the 'handler_\" + msg_type + \"' callback:\", e, e.stack, msg);\n",
       "            }\n",
       "        }\n",
       "    };\n",
       "}\n",
       "\n",
       "// from http://stackoverflow.com/questions/1114465/getting-mouse-location-in-canvas\n",
       "mpl.findpos = function(e) {\n",
       "    //this section is from http://www.quirksmode.org/js/events_properties.html\n",
       "    var targ;\n",
       "    if (!e)\n",
       "        e = window.event;\n",
       "    if (e.target)\n",
       "        targ = e.target;\n",
       "    else if (e.srcElement)\n",
       "        targ = e.srcElement;\n",
       "    if (targ.nodeType == 3) // defeat Safari bug\n",
       "        targ = targ.parentNode;\n",
       "\n",
       "    // jQuery normalizes the pageX and pageY\n",
       "    // pageX,Y are the mouse positions relative to the document\n",
       "    // offset() returns the position of the element relative to the document\n",
       "    var x = e.pageX - $(targ).offset().left;\n",
       "    var y = e.pageY - $(targ).offset().top;\n",
       "\n",
       "    return {\"x\": x, \"y\": y};\n",
       "};\n",
       "\n",
       "/*\n",
       " * return a copy of an object with only non-object keys\n",
       " * we need this to avoid circular references\n",
       " * http://stackoverflow.com/a/24161582/3208463\n",
       " */\n",
       "function simpleKeys (original) {\n",
       "  return Object.keys(original).reduce(function (obj, key) {\n",
       "    if (typeof original[key] !== 'object')\n",
       "        obj[key] = original[key]\n",
       "    return obj;\n",
       "  }, {});\n",
       "}\n",
       "\n",
       "mpl.figure.prototype.mouse_event = function(event, name) {\n",
       "    var canvas_pos = mpl.findpos(event)\n",
       "\n",
       "    if (name === 'button_press')\n",
       "    {\n",
       "        this.canvas.focus();\n",
       "        this.canvas_div.focus();\n",
       "    }\n",
       "\n",
       "    var x = canvas_pos.x * mpl.ratio;\n",
       "    var y = canvas_pos.y * mpl.ratio;\n",
       "\n",
       "    this.send_message(name, {x: x, y: y, button: event.button,\n",
       "                             step: event.step,\n",
       "                             guiEvent: simpleKeys(event)});\n",
       "\n",
       "    /* This prevents the web browser from automatically changing to\n",
       "     * the text insertion cursor when the button is pressed.  We want\n",
       "     * to control all of the cursor setting manually through the\n",
       "     * 'cursor' event from matplotlib */\n",
       "    event.preventDefault();\n",
       "    return false;\n",
       "}\n",
       "\n",
       "mpl.figure.prototype._key_event_extra = function(event, name) {\n",
       "    // Handle any extra behaviour associated with a key event\n",
       "}\n",
       "\n",
       "mpl.figure.prototype.key_event = function(event, name) {\n",
       "\n",
       "    // Prevent repeat events\n",
       "    if (name == 'key_press')\n",
       "    {\n",
       "        if (event.which === this._key)\n",
       "            return;\n",
       "        else\n",
       "            this._key = event.which;\n",
       "    }\n",
       "    if (name == 'key_release')\n",
       "        this._key = null;\n",
       "\n",
       "    var value = '';\n",
       "    if (event.ctrlKey && event.which != 17)\n",
       "        value += \"ctrl+\";\n",
       "    if (event.altKey && event.which != 18)\n",
       "        value += \"alt+\";\n",
       "    if (event.shiftKey && event.which != 16)\n",
       "        value += \"shift+\";\n",
       "\n",
       "    value += 'k';\n",
       "    value += event.which.toString();\n",
       "\n",
       "    this._key_event_extra(event, name);\n",
       "\n",
       "    this.send_message(name, {key: value,\n",
       "                             guiEvent: simpleKeys(event)});\n",
       "    return false;\n",
       "}\n",
       "\n",
       "mpl.figure.prototype.toolbar_button_onclick = function(name) {\n",
       "    if (name == 'download') {\n",
       "        this.handle_save(this, null);\n",
       "    } else {\n",
       "        this.send_message(\"toolbar_button\", {name: name});\n",
       "    }\n",
       "};\n",
       "\n",
       "mpl.figure.prototype.toolbar_button_onmouseover = function(tooltip) {\n",
       "    this.message.textContent = tooltip;\n",
       "};\n",
       "mpl.toolbar_items = [[\"Home\", \"Reset original view\", \"fa fa-home icon-home\", \"home\"], [\"Back\", \"Back to previous view\", \"fa fa-arrow-left icon-arrow-left\", \"back\"], [\"Forward\", \"Forward to next view\", \"fa fa-arrow-right icon-arrow-right\", \"forward\"], [\"\", \"\", \"\", \"\"], [\"Pan\", \"Pan axes with left mouse, zoom with right\", \"fa fa-arrows icon-move\", \"pan\"], [\"Zoom\", \"Zoom to rectangle\", \"fa fa-square-o icon-check-empty\", \"zoom\"], [\"\", \"\", \"\", \"\"], [\"Download\", \"Download plot\", \"fa fa-floppy-o icon-save\", \"download\"]];\n",
       "\n",
       "mpl.extensions = [\"eps\", \"jpeg\", \"pdf\", \"png\", \"ps\", \"raw\", \"svg\", \"tif\"];\n",
       "\n",
       "mpl.default_extension = \"png\";var comm_websocket_adapter = function(comm) {\n",
       "    // Create a \"websocket\"-like object which calls the given IPython comm\n",
       "    // object with the appropriate methods. Currently this is a non binary\n",
       "    // socket, so there is still some room for performance tuning.\n",
       "    var ws = {};\n",
       "\n",
       "    ws.close = function() {\n",
       "        comm.close()\n",
       "    };\n",
       "    ws.send = function(m) {\n",
       "        //console.log('sending', m);\n",
       "        comm.send(m);\n",
       "    };\n",
       "    // Register the callback with on_msg.\n",
       "    comm.on_msg(function(msg) {\n",
       "        //console.log('receiving', msg['content']['data'], msg);\n",
       "        // Pass the mpl event to the overridden (by mpl) onmessage function.\n",
       "        ws.onmessage(msg['content']['data'])\n",
       "    });\n",
       "    return ws;\n",
       "}\n",
       "\n",
       "mpl.mpl_figure_comm = function(comm, msg) {\n",
       "    // This is the function which gets called when the mpl process\n",
       "    // starts-up an IPython Comm through the \"matplotlib\" channel.\n",
       "\n",
       "    var id = msg.content.data.id;\n",
       "    // Get hold of the div created by the display call when the Comm\n",
       "    // socket was opened in Python.\n",
       "    var element = $(\"#\" + id);\n",
       "    var ws_proxy = comm_websocket_adapter(comm)\n",
       "\n",
       "    function ondownload(figure, format) {\n",
       "        window.open(figure.imageObj.src);\n",
       "    }\n",
       "\n",
       "    var fig = new mpl.figure(id, ws_proxy,\n",
       "                           ondownload,\n",
       "                           element.get(0));\n",
       "\n",
       "    // Call onopen now - mpl needs it, as it is assuming we've passed it a real\n",
       "    // web socket which is closed, not our websocket->open comm proxy.\n",
       "    ws_proxy.onopen();\n",
       "\n",
       "    fig.parent_element = element.get(0);\n",
       "    fig.cell_info = mpl.find_output_cell(\"<div id='\" + id + \"'></div>\");\n",
       "    if (!fig.cell_info) {\n",
       "        console.error(\"Failed to find cell for figure\", id, fig);\n",
       "        return;\n",
       "    }\n",
       "\n",
       "    var output_index = fig.cell_info[2]\n",
       "    var cell = fig.cell_info[0];\n",
       "\n",
       "};\n",
       "\n",
       "mpl.figure.prototype.handle_close = function(fig, msg) {\n",
       "    var width = fig.canvas.width/mpl.ratio\n",
       "    fig.root.unbind('remove')\n",
       "\n",
       "    // Update the output cell to use the data from the current canvas.\n",
       "    fig.push_to_output();\n",
       "    var dataURL = fig.canvas.toDataURL();\n",
       "    // Re-enable the keyboard manager in IPython - without this line, in FF,\n",
       "    // the notebook keyboard shortcuts fail.\n",
       "    IPython.keyboard_manager.enable()\n",
       "    $(fig.parent_element).html('<img src=\"' + dataURL + '\" width=\"' + width + '\">');\n",
       "    fig.close_ws(fig, msg);\n",
       "}\n",
       "\n",
       "mpl.figure.prototype.close_ws = function(fig, msg){\n",
       "    fig.send_message('closing', msg);\n",
       "    // fig.ws.close()\n",
       "}\n",
       "\n",
       "mpl.figure.prototype.push_to_output = function(remove_interactive) {\n",
       "    // Turn the data on the canvas into data in the output cell.\n",
       "    var width = this.canvas.width/mpl.ratio\n",
       "    var dataURL = this.canvas.toDataURL();\n",
       "    this.cell_info[1]['text/html'] = '<img src=\"' + dataURL + '\" width=\"' + width + '\">';\n",
       "}\n",
       "\n",
       "mpl.figure.prototype.updated_canvas_event = function() {\n",
       "    // Tell IPython that the notebook contents must change.\n",
       "    IPython.notebook.set_dirty(true);\n",
       "    this.send_message(\"ack\", {});\n",
       "    var fig = this;\n",
       "    // Wait a second, then push the new image to the DOM so\n",
       "    // that it is saved nicely (might be nice to debounce this).\n",
       "    setTimeout(function () { fig.push_to_output() }, 1000);\n",
       "}\n",
       "\n",
       "mpl.figure.prototype._init_toolbar = function() {\n",
       "    var fig = this;\n",
       "\n",
       "    var nav_element = $('<div/>');\n",
       "    nav_element.attr('style', 'width: 100%');\n",
       "    this.root.append(nav_element);\n",
       "\n",
       "    // Define a callback function for later on.\n",
       "    function toolbar_event(event) {\n",
       "        return fig.toolbar_button_onclick(event['data']);\n",
       "    }\n",
       "    function toolbar_mouse_event(event) {\n",
       "        return fig.toolbar_button_onmouseover(event['data']);\n",
       "    }\n",
       "\n",
       "    for(var toolbar_ind in mpl.toolbar_items){\n",
       "        var name = mpl.toolbar_items[toolbar_ind][0];\n",
       "        var tooltip = mpl.toolbar_items[toolbar_ind][1];\n",
       "        var image = mpl.toolbar_items[toolbar_ind][2];\n",
       "        var method_name = mpl.toolbar_items[toolbar_ind][3];\n",
       "\n",
       "        if (!name) { continue; };\n",
       "\n",
       "        var button = $('<button class=\"btn btn-default\" href=\"#\" title=\"' + name + '\"><i class=\"fa ' + image + ' fa-lg\"></i></button>');\n",
       "        button.click(method_name, toolbar_event);\n",
       "        button.mouseover(tooltip, toolbar_mouse_event);\n",
       "        nav_element.append(button);\n",
       "    }\n",
       "\n",
       "    // Add the status bar.\n",
       "    var status_bar = $('<span class=\"mpl-message\" style=\"text-align:right; float: right;\"/>');\n",
       "    nav_element.append(status_bar);\n",
       "    this.message = status_bar[0];\n",
       "\n",
       "    // Add the close button to the window.\n",
       "    var buttongrp = $('<div class=\"btn-group inline pull-right\"></div>');\n",
       "    var button = $('<button class=\"btn btn-mini btn-primary\" href=\"#\" title=\"Stop Interaction\"><i class=\"fa fa-power-off icon-remove icon-large\"></i></button>');\n",
       "    button.click(function (evt) { fig.handle_close(fig, {}); } );\n",
       "    button.mouseover('Stop Interaction', toolbar_mouse_event);\n",
       "    buttongrp.append(button);\n",
       "    var titlebar = this.root.find($('.ui-dialog-titlebar'));\n",
       "    titlebar.prepend(buttongrp);\n",
       "}\n",
       "\n",
       "mpl.figure.prototype._root_extra_style = function(el){\n",
       "    var fig = this\n",
       "    el.on(\"remove\", function(){\n",
       "\tfig.close_ws(fig, {});\n",
       "    });\n",
       "}\n",
       "\n",
       "mpl.figure.prototype._canvas_extra_style = function(el){\n",
       "    // this is important to make the div 'focusable\n",
       "    el.attr('tabindex', 0)\n",
       "    // reach out to IPython and tell the keyboard manager to turn it's self\n",
       "    // off when our div gets focus\n",
       "\n",
       "    // location in version 3\n",
       "    if (IPython.notebook.keyboard_manager) {\n",
       "        IPython.notebook.keyboard_manager.register_events(el);\n",
       "    }\n",
       "    else {\n",
       "        // location in version 2\n",
       "        IPython.keyboard_manager.register_events(el);\n",
       "    }\n",
       "\n",
       "}\n",
       "\n",
       "mpl.figure.prototype._key_event_extra = function(event, name) {\n",
       "    var manager = IPython.notebook.keyboard_manager;\n",
       "    if (!manager)\n",
       "        manager = IPython.keyboard_manager;\n",
       "\n",
       "    // Check for shift+enter\n",
       "    if (event.shiftKey && event.which == 13) {\n",
       "        this.canvas_div.blur();\n",
       "        event.shiftKey = false;\n",
       "        // Send a \"J\" for go to next cell\n",
       "        event.which = 74;\n",
       "        event.keyCode = 74;\n",
       "        manager.command_mode();\n",
       "        manager.handle_keydown(event);\n",
       "    }\n",
       "}\n",
       "\n",
       "mpl.figure.prototype.handle_save = function(fig, msg) {\n",
       "    fig.ondownload(fig, null);\n",
       "}\n",
       "\n",
       "\n",
       "mpl.find_output_cell = function(html_output) {\n",
       "    // Return the cell and output element which can be found *uniquely* in the notebook.\n",
       "    // Note - this is a bit hacky, but it is done because the \"notebook_saving.Notebook\"\n",
       "    // IPython event is triggered only after the cells have been serialised, which for\n",
       "    // our purposes (turning an active figure into a static one), is too late.\n",
       "    var cells = IPython.notebook.get_cells();\n",
       "    var ncells = cells.length;\n",
       "    for (var i=0; i<ncells; i++) {\n",
       "        var cell = cells[i];\n",
       "        if (cell.cell_type === 'code'){\n",
       "            for (var j=0; j<cell.output_area.outputs.length; j++) {\n",
       "                var data = cell.output_area.outputs[j];\n",
       "                if (data.data) {\n",
       "                    // IPython >= 3 moved mimebundle to data attribute of output\n",
       "                    data = data.data;\n",
       "                }\n",
       "                if (data['text/html'] == html_output) {\n",
       "                    return [cell, data, j];\n",
       "                }\n",
       "            }\n",
       "        }\n",
       "    }\n",
       "}\n",
       "\n",
       "// Register the function which deals with the matplotlib target/channel.\n",
       "// The kernel may be null if the page has been refreshed.\n",
       "if (IPython.notebook.kernel != null) {\n",
       "    IPython.notebook.kernel.comm_manager.register_target('matplotlib', mpl.mpl_figure_comm);\n",
       "}\n"
      ],
      "text/plain": [
       "<IPython.core.display.Javascript object>"
      ]
     },
     "metadata": {},
     "output_type": "display_data"
    },
    {
     "data": {
      "text/html": [
       "<img src=\"data:image/png;base64,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\" width=\"592\">"
      ],
      "text/plain": [
       "<IPython.core.display.HTML object>"
      ]
     },
     "metadata": {},
     "output_type": "display_data"
    }
   ],
   "source": [
    "%matplotlib notebook\n",
    "# Eixo_x, Eixo_y\n",
    "plt.plot([1, 2, 3, 4] , [1, 4, 9, 16])\n",
    "plt.show()"
   ]
  },
  {
   "cell_type": "markdown",
   "metadata": {},
   "source": [
    "**Definindo label aos eixos**"
   ]
  },
  {
   "cell_type": "code",
   "execution_count": 6,
   "metadata": {},
   "outputs": [
    {
     "data": {
      "application/javascript": [
       "/* Put everything inside the global mpl namespace */\n",
       "window.mpl = {};\n",
       "\n",
       "\n",
       "mpl.get_websocket_type = function() {\n",
       "    if (typeof(WebSocket) !== 'undefined') {\n",
       "        return WebSocket;\n",
       "    } else if (typeof(MozWebSocket) !== 'undefined') {\n",
       "        return MozWebSocket;\n",
       "    } else {\n",
       "        alert('Your browser does not have WebSocket support. ' +\n",
       "              'Please try Chrome, Safari or Firefox ≥ 6. ' +\n",
       "              'Firefox 4 and 5 are also supported but you ' +\n",
       "              'have to enable WebSockets in about:config.');\n",
       "    };\n",
       "}\n",
       "\n",
       "mpl.figure = function(figure_id, websocket, ondownload, parent_element) {\n",
       "    this.id = figure_id;\n",
       "\n",
       "    this.ws = websocket;\n",
       "\n",
       "    this.supports_binary = (this.ws.binaryType != undefined);\n",
       "\n",
       "    if (!this.supports_binary) {\n",
       "        var warnings = document.getElementById(\"mpl-warnings\");\n",
       "        if (warnings) {\n",
       "            warnings.style.display = 'block';\n",
       "            warnings.textContent = (\n",
       "                \"This browser does not support binary websocket messages. \" +\n",
       "                    \"Performance may be slow.\");\n",
       "        }\n",
       "    }\n",
       "\n",
       "    this.imageObj = new Image();\n",
       "\n",
       "    this.context = undefined;\n",
       "    this.message = undefined;\n",
       "    this.canvas = undefined;\n",
       "    this.rubberband_canvas = undefined;\n",
       "    this.rubberband_context = undefined;\n",
       "    this.format_dropdown = undefined;\n",
       "\n",
       "    this.image_mode = 'full';\n",
       "\n",
       "    this.root = $('<div/>');\n",
       "    this._root_extra_style(this.root)\n",
       "    this.root.attr('style', 'display: inline-block');\n",
       "\n",
       "    $(parent_element).append(this.root);\n",
       "\n",
       "    this._init_header(this);\n",
       "    this._init_canvas(this);\n",
       "    this._init_toolbar(this);\n",
       "\n",
       "    var fig = this;\n",
       "\n",
       "    this.waiting = false;\n",
       "\n",
       "    this.ws.onopen =  function () {\n",
       "            fig.send_message(\"supports_binary\", {value: fig.supports_binary});\n",
       "            fig.send_message(\"send_image_mode\", {});\n",
       "            if (mpl.ratio != 1) {\n",
       "                fig.send_message(\"set_dpi_ratio\", {'dpi_ratio': mpl.ratio});\n",
       "            }\n",
       "            fig.send_message(\"refresh\", {});\n",
       "        }\n",
       "\n",
       "    this.imageObj.onload = function() {\n",
       "            if (fig.image_mode == 'full') {\n",
       "                // Full images could contain transparency (where diff images\n",
       "                // almost always do), so we need to clear the canvas so that\n",
       "                // there is no ghosting.\n",
       "                fig.context.clearRect(0, 0, fig.canvas.width, fig.canvas.height);\n",
       "            }\n",
       "            fig.context.drawImage(fig.imageObj, 0, 0);\n",
       "        };\n",
       "\n",
       "    this.imageObj.onunload = function() {\n",
       "        fig.ws.close();\n",
       "    }\n",
       "\n",
       "    this.ws.onmessage = this._make_on_message_function(this);\n",
       "\n",
       "    this.ondownload = ondownload;\n",
       "}\n",
       "\n",
       "mpl.figure.prototype._init_header = function() {\n",
       "    var titlebar = $(\n",
       "        '<div class=\"ui-dialog-titlebar ui-widget-header ui-corner-all ' +\n",
       "        'ui-helper-clearfix\"/>');\n",
       "    var titletext = $(\n",
       "        '<div class=\"ui-dialog-title\" style=\"width: 100%; ' +\n",
       "        'text-align: center; padding: 3px;\"/>');\n",
       "    titlebar.append(titletext)\n",
       "    this.root.append(titlebar);\n",
       "    this.header = titletext[0];\n",
       "}\n",
       "\n",
       "\n",
       "\n",
       "mpl.figure.prototype._canvas_extra_style = function(canvas_div) {\n",
       "\n",
       "}\n",
       "\n",
       "\n",
       "mpl.figure.prototype._root_extra_style = function(canvas_div) {\n",
       "\n",
       "}\n",
       "\n",
       "mpl.figure.prototype._init_canvas = function() {\n",
       "    var fig = this;\n",
       "\n",
       "    var canvas_div = $('<div/>');\n",
       "\n",
       "    canvas_div.attr('style', 'position: relative; clear: both; outline: 0');\n",
       "\n",
       "    function canvas_keyboard_event(event) {\n",
       "        return fig.key_event(event, event['data']);\n",
       "    }\n",
       "\n",
       "    canvas_div.keydown('key_press', canvas_keyboard_event);\n",
       "    canvas_div.keyup('key_release', canvas_keyboard_event);\n",
       "    this.canvas_div = canvas_div\n",
       "    this._canvas_extra_style(canvas_div)\n",
       "    this.root.append(canvas_div);\n",
       "\n",
       "    var canvas = $('<canvas/>');\n",
       "    canvas.addClass('mpl-canvas');\n",
       "    canvas.attr('style', \"left: 0; top: 0; z-index: 0; outline: 0\")\n",
       "\n",
       "    this.canvas = canvas[0];\n",
       "    this.context = canvas[0].getContext(\"2d\");\n",
       "\n",
       "    var backingStore = this.context.backingStorePixelRatio ||\n",
       "\tthis.context.webkitBackingStorePixelRatio ||\n",
       "\tthis.context.mozBackingStorePixelRatio ||\n",
       "\tthis.context.msBackingStorePixelRatio ||\n",
       "\tthis.context.oBackingStorePixelRatio ||\n",
       "\tthis.context.backingStorePixelRatio || 1;\n",
       "\n",
       "    mpl.ratio = (window.devicePixelRatio || 1) / backingStore;\n",
       "\n",
       "    var rubberband = $('<canvas/>');\n",
       "    rubberband.attr('style', \"position: absolute; left: 0; top: 0; z-index: 1;\")\n",
       "\n",
       "    var pass_mouse_events = true;\n",
       "\n",
       "    canvas_div.resizable({\n",
       "        start: function(event, ui) {\n",
       "            pass_mouse_events = false;\n",
       "        },\n",
       "        resize: function(event, ui) {\n",
       "            fig.request_resize(ui.size.width, ui.size.height);\n",
       "        },\n",
       "        stop: function(event, ui) {\n",
       "            pass_mouse_events = true;\n",
       "            fig.request_resize(ui.size.width, ui.size.height);\n",
       "        },\n",
       "    });\n",
       "\n",
       "    function mouse_event_fn(event) {\n",
       "        if (pass_mouse_events)\n",
       "            return fig.mouse_event(event, event['data']);\n",
       "    }\n",
       "\n",
       "    rubberband.mousedown('button_press', mouse_event_fn);\n",
       "    rubberband.mouseup('button_release', mouse_event_fn);\n",
       "    // Throttle sequential mouse events to 1 every 20ms.\n",
       "    rubberband.mousemove('motion_notify', mouse_event_fn);\n",
       "\n",
       "    rubberband.mouseenter('figure_enter', mouse_event_fn);\n",
       "    rubberband.mouseleave('figure_leave', mouse_event_fn);\n",
       "\n",
       "    canvas_div.on(\"wheel\", function (event) {\n",
       "        event = event.originalEvent;\n",
       "        event['data'] = 'scroll'\n",
       "        if (event.deltaY < 0) {\n",
       "            event.step = 1;\n",
       "        } else {\n",
       "            event.step = -1;\n",
       "        }\n",
       "        mouse_event_fn(event);\n",
       "    });\n",
       "\n",
       "    canvas_div.append(canvas);\n",
       "    canvas_div.append(rubberband);\n",
       "\n",
       "    this.rubberband = rubberband;\n",
       "    this.rubberband_canvas = rubberband[0];\n",
       "    this.rubberband_context = rubberband[0].getContext(\"2d\");\n",
       "    this.rubberband_context.strokeStyle = \"#000000\";\n",
       "\n",
       "    this._resize_canvas = function(width, height) {\n",
       "        // Keep the size of the canvas, canvas container, and rubber band\n",
       "        // canvas in synch.\n",
       "        canvas_div.css('width', width)\n",
       "        canvas_div.css('height', height)\n",
       "\n",
       "        canvas.attr('width', width * mpl.ratio);\n",
       "        canvas.attr('height', height * mpl.ratio);\n",
       "        canvas.attr('style', 'width: ' + width + 'px; height: ' + height + 'px;');\n",
       "\n",
       "        rubberband.attr('width', width);\n",
       "        rubberband.attr('height', height);\n",
       "    }\n",
       "\n",
       "    // Set the figure to an initial 600x600px, this will subsequently be updated\n",
       "    // upon first draw.\n",
       "    this._resize_canvas(600, 600);\n",
       "\n",
       "    // Disable right mouse context menu.\n",
       "    $(this.rubberband_canvas).bind(\"contextmenu\",function(e){\n",
       "        return false;\n",
       "    });\n",
       "\n",
       "    function set_focus () {\n",
       "        canvas.focus();\n",
       "        canvas_div.focus();\n",
       "    }\n",
       "\n",
       "    window.setTimeout(set_focus, 100);\n",
       "}\n",
       "\n",
       "mpl.figure.prototype._init_toolbar = function() {\n",
       "    var fig = this;\n",
       "\n",
       "    var nav_element = $('<div/>');\n",
       "    nav_element.attr('style', 'width: 100%');\n",
       "    this.root.append(nav_element);\n",
       "\n",
       "    // Define a callback function for later on.\n",
       "    function toolbar_event(event) {\n",
       "        return fig.toolbar_button_onclick(event['data']);\n",
       "    }\n",
       "    function toolbar_mouse_event(event) {\n",
       "        return fig.toolbar_button_onmouseover(event['data']);\n",
       "    }\n",
       "\n",
       "    for(var toolbar_ind in mpl.toolbar_items) {\n",
       "        var name = mpl.toolbar_items[toolbar_ind][0];\n",
       "        var tooltip = mpl.toolbar_items[toolbar_ind][1];\n",
       "        var image = mpl.toolbar_items[toolbar_ind][2];\n",
       "        var method_name = mpl.toolbar_items[toolbar_ind][3];\n",
       "\n",
       "        if (!name) {\n",
       "            // put a spacer in here.\n",
       "            continue;\n",
       "        }\n",
       "        var button = $('<button/>');\n",
       "        button.addClass('ui-button ui-widget ui-state-default ui-corner-all ' +\n",
       "                        'ui-button-icon-only');\n",
       "        button.attr('role', 'button');\n",
       "        button.attr('aria-disabled', 'false');\n",
       "        button.click(method_name, toolbar_event);\n",
       "        button.mouseover(tooltip, toolbar_mouse_event);\n",
       "\n",
       "        var icon_img = $('<span/>');\n",
       "        icon_img.addClass('ui-button-icon-primary ui-icon');\n",
       "        icon_img.addClass(image);\n",
       "        icon_img.addClass('ui-corner-all');\n",
       "\n",
       "        var tooltip_span = $('<span/>');\n",
       "        tooltip_span.addClass('ui-button-text');\n",
       "        tooltip_span.html(tooltip);\n",
       "\n",
       "        button.append(icon_img);\n",
       "        button.append(tooltip_span);\n",
       "\n",
       "        nav_element.append(button);\n",
       "    }\n",
       "\n",
       "    var fmt_picker_span = $('<span/>');\n",
       "\n",
       "    var fmt_picker = $('<select/>');\n",
       "    fmt_picker.addClass('mpl-toolbar-option ui-widget ui-widget-content');\n",
       "    fmt_picker_span.append(fmt_picker);\n",
       "    nav_element.append(fmt_picker_span);\n",
       "    this.format_dropdown = fmt_picker[0];\n",
       "\n",
       "    for (var ind in mpl.extensions) {\n",
       "        var fmt = mpl.extensions[ind];\n",
       "        var option = $(\n",
       "            '<option/>', {selected: fmt === mpl.default_extension}).html(fmt);\n",
       "        fmt_picker.append(option);\n",
       "    }\n",
       "\n",
       "    // Add hover states to the ui-buttons\n",
       "    $( \".ui-button\" ).hover(\n",
       "        function() { $(this).addClass(\"ui-state-hover\");},\n",
       "        function() { $(this).removeClass(\"ui-state-hover\");}\n",
       "    );\n",
       "\n",
       "    var status_bar = $('<span class=\"mpl-message\"/>');\n",
       "    nav_element.append(status_bar);\n",
       "    this.message = status_bar[0];\n",
       "}\n",
       "\n",
       "mpl.figure.prototype.request_resize = function(x_pixels, y_pixels) {\n",
       "    // Request matplotlib to resize the figure. Matplotlib will then trigger a resize in the client,\n",
       "    // which will in turn request a refresh of the image.\n",
       "    this.send_message('resize', {'width': x_pixels, 'height': y_pixels});\n",
       "}\n",
       "\n",
       "mpl.figure.prototype.send_message = function(type, properties) {\n",
       "    properties['type'] = type;\n",
       "    properties['figure_id'] = this.id;\n",
       "    this.ws.send(JSON.stringify(properties));\n",
       "}\n",
       "\n",
       "mpl.figure.prototype.send_draw_message = function() {\n",
       "    if (!this.waiting) {\n",
       "        this.waiting = true;\n",
       "        this.ws.send(JSON.stringify({type: \"draw\", figure_id: this.id}));\n",
       "    }\n",
       "}\n",
       "\n",
       "\n",
       "mpl.figure.prototype.handle_save = function(fig, msg) {\n",
       "    var format_dropdown = fig.format_dropdown;\n",
       "    var format = format_dropdown.options[format_dropdown.selectedIndex].value;\n",
       "    fig.ondownload(fig, format);\n",
       "}\n",
       "\n",
       "\n",
       "mpl.figure.prototype.handle_resize = function(fig, msg) {\n",
       "    var size = msg['size'];\n",
       "    if (size[0] != fig.canvas.width || size[1] != fig.canvas.height) {\n",
       "        fig._resize_canvas(size[0], size[1]);\n",
       "        fig.send_message(\"refresh\", {});\n",
       "    };\n",
       "}\n",
       "\n",
       "mpl.figure.prototype.handle_rubberband = function(fig, msg) {\n",
       "    var x0 = msg['x0'] / mpl.ratio;\n",
       "    var y0 = (fig.canvas.height - msg['y0']) / mpl.ratio;\n",
       "    var x1 = msg['x1'] / mpl.ratio;\n",
       "    var y1 = (fig.canvas.height - msg['y1']) / mpl.ratio;\n",
       "    x0 = Math.floor(x0) + 0.5;\n",
       "    y0 = Math.floor(y0) + 0.5;\n",
       "    x1 = Math.floor(x1) + 0.5;\n",
       "    y1 = Math.floor(y1) + 0.5;\n",
       "    var min_x = Math.min(x0, x1);\n",
       "    var min_y = Math.min(y0, y1);\n",
       "    var width = Math.abs(x1 - x0);\n",
       "    var height = Math.abs(y1 - y0);\n",
       "\n",
       "    fig.rubberband_context.clearRect(\n",
       "        0, 0, fig.canvas.width / mpl.ratio, fig.canvas.height / mpl.ratio);\n",
       "\n",
       "    fig.rubberband_context.strokeRect(min_x, min_y, width, height);\n",
       "}\n",
       "\n",
       "mpl.figure.prototype.handle_figure_label = function(fig, msg) {\n",
       "    // Updates the figure title.\n",
       "    fig.header.textContent = msg['label'];\n",
       "}\n",
       "\n",
       "mpl.figure.prototype.handle_cursor = function(fig, msg) {\n",
       "    var cursor = msg['cursor'];\n",
       "    switch(cursor)\n",
       "    {\n",
       "    case 0:\n",
       "        cursor = 'pointer';\n",
       "        break;\n",
       "    case 1:\n",
       "        cursor = 'default';\n",
       "        break;\n",
       "    case 2:\n",
       "        cursor = 'crosshair';\n",
       "        break;\n",
       "    case 3:\n",
       "        cursor = 'move';\n",
       "        break;\n",
       "    }\n",
       "    fig.rubberband_canvas.style.cursor = cursor;\n",
       "}\n",
       "\n",
       "mpl.figure.prototype.handle_message = function(fig, msg) {\n",
       "    fig.message.textContent = msg['message'];\n",
       "}\n",
       "\n",
       "mpl.figure.prototype.handle_draw = function(fig, msg) {\n",
       "    // Request the server to send over a new figure.\n",
       "    fig.send_draw_message();\n",
       "}\n",
       "\n",
       "mpl.figure.prototype.handle_image_mode = function(fig, msg) {\n",
       "    fig.image_mode = msg['mode'];\n",
       "}\n",
       "\n",
       "mpl.figure.prototype.updated_canvas_event = function() {\n",
       "    // Called whenever the canvas gets updated.\n",
       "    this.send_message(\"ack\", {});\n",
       "}\n",
       "\n",
       "// A function to construct a web socket function for onmessage handling.\n",
       "// Called in the figure constructor.\n",
       "mpl.figure.prototype._make_on_message_function = function(fig) {\n",
       "    return function socket_on_message(evt) {\n",
       "        if (evt.data instanceof Blob) {\n",
       "            /* FIXME: We get \"Resource interpreted as Image but\n",
       "             * transferred with MIME type text/plain:\" errors on\n",
       "             * Chrome.  But how to set the MIME type?  It doesn't seem\n",
       "             * to be part of the websocket stream */\n",
       "            evt.data.type = \"image/png\";\n",
       "\n",
       "            /* Free the memory for the previous frames */\n",
       "            if (fig.imageObj.src) {\n",
       "                (window.URL || window.webkitURL).revokeObjectURL(\n",
       "                    fig.imageObj.src);\n",
       "            }\n",
       "\n",
       "            fig.imageObj.src = (window.URL || window.webkitURL).createObjectURL(\n",
       "                evt.data);\n",
       "            fig.updated_canvas_event();\n",
       "            fig.waiting = false;\n",
       "            return;\n",
       "        }\n",
       "        else if (typeof evt.data === 'string' && evt.data.slice(0, 21) == \"data:image/png;base64\") {\n",
       "            fig.imageObj.src = evt.data;\n",
       "            fig.updated_canvas_event();\n",
       "            fig.waiting = false;\n",
       "            return;\n",
       "        }\n",
       "\n",
       "        var msg = JSON.parse(evt.data);\n",
       "        var msg_type = msg['type'];\n",
       "\n",
       "        // Call the  \"handle_{type}\" callback, which takes\n",
       "        // the figure and JSON message as its only arguments.\n",
       "        try {\n",
       "            var callback = fig[\"handle_\" + msg_type];\n",
       "        } catch (e) {\n",
       "            console.log(\"No handler for the '\" + msg_type + \"' message type: \", msg);\n",
       "            return;\n",
       "        }\n",
       "\n",
       "        if (callback) {\n",
       "            try {\n",
       "                // console.log(\"Handling '\" + msg_type + \"' message: \", msg);\n",
       "                callback(fig, msg);\n",
       "            } catch (e) {\n",
       "                console.log(\"Exception inside the 'handler_\" + msg_type + \"' callback:\", e, e.stack, msg);\n",
       "            }\n",
       "        }\n",
       "    };\n",
       "}\n",
       "\n",
       "// from http://stackoverflow.com/questions/1114465/getting-mouse-location-in-canvas\n",
       "mpl.findpos = function(e) {\n",
       "    //this section is from http://www.quirksmode.org/js/events_properties.html\n",
       "    var targ;\n",
       "    if (!e)\n",
       "        e = window.event;\n",
       "    if (e.target)\n",
       "        targ = e.target;\n",
       "    else if (e.srcElement)\n",
       "        targ = e.srcElement;\n",
       "    if (targ.nodeType == 3) // defeat Safari bug\n",
       "        targ = targ.parentNode;\n",
       "\n",
       "    // jQuery normalizes the pageX and pageY\n",
       "    // pageX,Y are the mouse positions relative to the document\n",
       "    // offset() returns the position of the element relative to the document\n",
       "    var x = e.pageX - $(targ).offset().left;\n",
       "    var y = e.pageY - $(targ).offset().top;\n",
       "\n",
       "    return {\"x\": x, \"y\": y};\n",
       "};\n",
       "\n",
       "/*\n",
       " * return a copy of an object with only non-object keys\n",
       " * we need this to avoid circular references\n",
       " * http://stackoverflow.com/a/24161582/3208463\n",
       " */\n",
       "function simpleKeys (original) {\n",
       "  return Object.keys(original).reduce(function (obj, key) {\n",
       "    if (typeof original[key] !== 'object')\n",
       "        obj[key] = original[key]\n",
       "    return obj;\n",
       "  }, {});\n",
       "}\n",
       "\n",
       "mpl.figure.prototype.mouse_event = function(event, name) {\n",
       "    var canvas_pos = mpl.findpos(event)\n",
       "\n",
       "    if (name === 'button_press')\n",
       "    {\n",
       "        this.canvas.focus();\n",
       "        this.canvas_div.focus();\n",
       "    }\n",
       "\n",
       "    var x = canvas_pos.x * mpl.ratio;\n",
       "    var y = canvas_pos.y * mpl.ratio;\n",
       "\n",
       "    this.send_message(name, {x: x, y: y, button: event.button,\n",
       "                             step: event.step,\n",
       "                             guiEvent: simpleKeys(event)});\n",
       "\n",
       "    /* This prevents the web browser from automatically changing to\n",
       "     * the text insertion cursor when the button is pressed.  We want\n",
       "     * to control all of the cursor setting manually through the\n",
       "     * 'cursor' event from matplotlib */\n",
       "    event.preventDefault();\n",
       "    return false;\n",
       "}\n",
       "\n",
       "mpl.figure.prototype._key_event_extra = function(event, name) {\n",
       "    // Handle any extra behaviour associated with a key event\n",
       "}\n",
       "\n",
       "mpl.figure.prototype.key_event = function(event, name) {\n",
       "\n",
       "    // Prevent repeat events\n",
       "    if (name == 'key_press')\n",
       "    {\n",
       "        if (event.which === this._key)\n",
       "            return;\n",
       "        else\n",
       "            this._key = event.which;\n",
       "    }\n",
       "    if (name == 'key_release')\n",
       "        this._key = null;\n",
       "\n",
       "    var value = '';\n",
       "    if (event.ctrlKey && event.which != 17)\n",
       "        value += \"ctrl+\";\n",
       "    if (event.altKey && event.which != 18)\n",
       "        value += \"alt+\";\n",
       "    if (event.shiftKey && event.which != 16)\n",
       "        value += \"shift+\";\n",
       "\n",
       "    value += 'k';\n",
       "    value += event.which.toString();\n",
       "\n",
       "    this._key_event_extra(event, name);\n",
       "\n",
       "    this.send_message(name, {key: value,\n",
       "                             guiEvent: simpleKeys(event)});\n",
       "    return false;\n",
       "}\n",
       "\n",
       "mpl.figure.prototype.toolbar_button_onclick = function(name) {\n",
       "    if (name == 'download') {\n",
       "        this.handle_save(this, null);\n",
       "    } else {\n",
       "        this.send_message(\"toolbar_button\", {name: name});\n",
       "    }\n",
       "};\n",
       "\n",
       "mpl.figure.prototype.toolbar_button_onmouseover = function(tooltip) {\n",
       "    this.message.textContent = tooltip;\n",
       "};\n",
       "mpl.toolbar_items = [[\"Home\", \"Reset original view\", \"fa fa-home icon-home\", \"home\"], [\"Back\", \"Back to previous view\", \"fa fa-arrow-left icon-arrow-left\", \"back\"], [\"Forward\", \"Forward to next view\", \"fa fa-arrow-right icon-arrow-right\", \"forward\"], [\"\", \"\", \"\", \"\"], [\"Pan\", \"Pan axes with left mouse, zoom with right\", \"fa fa-arrows icon-move\", \"pan\"], [\"Zoom\", \"Zoom to rectangle\", \"fa fa-square-o icon-check-empty\", \"zoom\"], [\"\", \"\", \"\", \"\"], [\"Download\", \"Download plot\", \"fa fa-floppy-o icon-save\", \"download\"]];\n",
       "\n",
       "mpl.extensions = [\"eps\", \"jpeg\", \"pdf\", \"png\", \"ps\", \"raw\", \"svg\", \"tif\"];\n",
       "\n",
       "mpl.default_extension = \"png\";var comm_websocket_adapter = function(comm) {\n",
       "    // Create a \"websocket\"-like object which calls the given IPython comm\n",
       "    // object with the appropriate methods. Currently this is a non binary\n",
       "    // socket, so there is still some room for performance tuning.\n",
       "    var ws = {};\n",
       "\n",
       "    ws.close = function() {\n",
       "        comm.close()\n",
       "    };\n",
       "    ws.send = function(m) {\n",
       "        //console.log('sending', m);\n",
       "        comm.send(m);\n",
       "    };\n",
       "    // Register the callback with on_msg.\n",
       "    comm.on_msg(function(msg) {\n",
       "        //console.log('receiving', msg['content']['data'], msg);\n",
       "        // Pass the mpl event to the overridden (by mpl) onmessage function.\n",
       "        ws.onmessage(msg['content']['data'])\n",
       "    });\n",
       "    return ws;\n",
       "}\n",
       "\n",
       "mpl.mpl_figure_comm = function(comm, msg) {\n",
       "    // This is the function which gets called when the mpl process\n",
       "    // starts-up an IPython Comm through the \"matplotlib\" channel.\n",
       "\n",
       "    var id = msg.content.data.id;\n",
       "    // Get hold of the div created by the display call when the Comm\n",
       "    // socket was opened in Python.\n",
       "    var element = $(\"#\" + id);\n",
       "    var ws_proxy = comm_websocket_adapter(comm)\n",
       "\n",
       "    function ondownload(figure, format) {\n",
       "        window.open(figure.imageObj.src);\n",
       "    }\n",
       "\n",
       "    var fig = new mpl.figure(id, ws_proxy,\n",
       "                           ondownload,\n",
       "                           element.get(0));\n",
       "\n",
       "    // Call onopen now - mpl needs it, as it is assuming we've passed it a real\n",
       "    // web socket which is closed, not our websocket->open comm proxy.\n",
       "    ws_proxy.onopen();\n",
       "\n",
       "    fig.parent_element = element.get(0);\n",
       "    fig.cell_info = mpl.find_output_cell(\"<div id='\" + id + \"'></div>\");\n",
       "    if (!fig.cell_info) {\n",
       "        console.error(\"Failed to find cell for figure\", id, fig);\n",
       "        return;\n",
       "    }\n",
       "\n",
       "    var output_index = fig.cell_info[2]\n",
       "    var cell = fig.cell_info[0];\n",
       "\n",
       "};\n",
       "\n",
       "mpl.figure.prototype.handle_close = function(fig, msg) {\n",
       "    var width = fig.canvas.width/mpl.ratio\n",
       "    fig.root.unbind('remove')\n",
       "\n",
       "    // Update the output cell to use the data from the current canvas.\n",
       "    fig.push_to_output();\n",
       "    var dataURL = fig.canvas.toDataURL();\n",
       "    // Re-enable the keyboard manager in IPython - without this line, in FF,\n",
       "    // the notebook keyboard shortcuts fail.\n",
       "    IPython.keyboard_manager.enable()\n",
       "    $(fig.parent_element).html('<img src=\"' + dataURL + '\" width=\"' + width + '\">');\n",
       "    fig.close_ws(fig, msg);\n",
       "}\n",
       "\n",
       "mpl.figure.prototype.close_ws = function(fig, msg){\n",
       "    fig.send_message('closing', msg);\n",
       "    // fig.ws.close()\n",
       "}\n",
       "\n",
       "mpl.figure.prototype.push_to_output = function(remove_interactive) {\n",
       "    // Turn the data on the canvas into data in the output cell.\n",
       "    var width = this.canvas.width/mpl.ratio\n",
       "    var dataURL = this.canvas.toDataURL();\n",
       "    this.cell_info[1]['text/html'] = '<img src=\"' + dataURL + '\" width=\"' + width + '\">';\n",
       "}\n",
       "\n",
       "mpl.figure.prototype.updated_canvas_event = function() {\n",
       "    // Tell IPython that the notebook contents must change.\n",
       "    IPython.notebook.set_dirty(true);\n",
       "    this.send_message(\"ack\", {});\n",
       "    var fig = this;\n",
       "    // Wait a second, then push the new image to the DOM so\n",
       "    // that it is saved nicely (might be nice to debounce this).\n",
       "    setTimeout(function () { fig.push_to_output() }, 1000);\n",
       "}\n",
       "\n",
       "mpl.figure.prototype._init_toolbar = function() {\n",
       "    var fig = this;\n",
       "\n",
       "    var nav_element = $('<div/>');\n",
       "    nav_element.attr('style', 'width: 100%');\n",
       "    this.root.append(nav_element);\n",
       "\n",
       "    // Define a callback function for later on.\n",
       "    function toolbar_event(event) {\n",
       "        return fig.toolbar_button_onclick(event['data']);\n",
       "    }\n",
       "    function toolbar_mouse_event(event) {\n",
       "        return fig.toolbar_button_onmouseover(event['data']);\n",
       "    }\n",
       "\n",
       "    for(var toolbar_ind in mpl.toolbar_items){\n",
       "        var name = mpl.toolbar_items[toolbar_ind][0];\n",
       "        var tooltip = mpl.toolbar_items[toolbar_ind][1];\n",
       "        var image = mpl.toolbar_items[toolbar_ind][2];\n",
       "        var method_name = mpl.toolbar_items[toolbar_ind][3];\n",
       "\n",
       "        if (!name) { continue; };\n",
       "\n",
       "        var button = $('<button class=\"btn btn-default\" href=\"#\" title=\"' + name + '\"><i class=\"fa ' + image + ' fa-lg\"></i></button>');\n",
       "        button.click(method_name, toolbar_event);\n",
       "        button.mouseover(tooltip, toolbar_mouse_event);\n",
       "        nav_element.append(button);\n",
       "    }\n",
       "\n",
       "    // Add the status bar.\n",
       "    var status_bar = $('<span class=\"mpl-message\" style=\"text-align:right; float: right;\"/>');\n",
       "    nav_element.append(status_bar);\n",
       "    this.message = status_bar[0];\n",
       "\n",
       "    // Add the close button to the window.\n",
       "    var buttongrp = $('<div class=\"btn-group inline pull-right\"></div>');\n",
       "    var button = $('<button class=\"btn btn-mini btn-primary\" href=\"#\" title=\"Stop Interaction\"><i class=\"fa fa-power-off icon-remove icon-large\"></i></button>');\n",
       "    button.click(function (evt) { fig.handle_close(fig, {}); } );\n",
       "    button.mouseover('Stop Interaction', toolbar_mouse_event);\n",
       "    buttongrp.append(button);\n",
       "    var titlebar = this.root.find($('.ui-dialog-titlebar'));\n",
       "    titlebar.prepend(buttongrp);\n",
       "}\n",
       "\n",
       "mpl.figure.prototype._root_extra_style = function(el){\n",
       "    var fig = this\n",
       "    el.on(\"remove\", function(){\n",
       "\tfig.close_ws(fig, {});\n",
       "    });\n",
       "}\n",
       "\n",
       "mpl.figure.prototype._canvas_extra_style = function(el){\n",
       "    // this is important to make the div 'focusable\n",
       "    el.attr('tabindex', 0)\n",
       "    // reach out to IPython and tell the keyboard manager to turn it's self\n",
       "    // off when our div gets focus\n",
       "\n",
       "    // location in version 3\n",
       "    if (IPython.notebook.keyboard_manager) {\n",
       "        IPython.notebook.keyboard_manager.register_events(el);\n",
       "    }\n",
       "    else {\n",
       "        // location in version 2\n",
       "        IPython.keyboard_manager.register_events(el);\n",
       "    }\n",
       "\n",
       "}\n",
       "\n",
       "mpl.figure.prototype._key_event_extra = function(event, name) {\n",
       "    var manager = IPython.notebook.keyboard_manager;\n",
       "    if (!manager)\n",
       "        manager = IPython.keyboard_manager;\n",
       "\n",
       "    // Check for shift+enter\n",
       "    if (event.shiftKey && event.which == 13) {\n",
       "        this.canvas_div.blur();\n",
       "        event.shiftKey = false;\n",
       "        // Send a \"J\" for go to next cell\n",
       "        event.which = 74;\n",
       "        event.keyCode = 74;\n",
       "        manager.command_mode();\n",
       "        manager.handle_keydown(event);\n",
       "    }\n",
       "}\n",
       "\n",
       "mpl.figure.prototype.handle_save = function(fig, msg) {\n",
       "    fig.ondownload(fig, null);\n",
       "}\n",
       "\n",
       "\n",
       "mpl.find_output_cell = function(html_output) {\n",
       "    // Return the cell and output element which can be found *uniquely* in the notebook.\n",
       "    // Note - this is a bit hacky, but it is done because the \"notebook_saving.Notebook\"\n",
       "    // IPython event is triggered only after the cells have been serialised, which for\n",
       "    // our purposes (turning an active figure into a static one), is too late.\n",
       "    var cells = IPython.notebook.get_cells();\n",
       "    var ncells = cells.length;\n",
       "    for (var i=0; i<ncells; i++) {\n",
       "        var cell = cells[i];\n",
       "        if (cell.cell_type === 'code'){\n",
       "            for (var j=0; j<cell.output_area.outputs.length; j++) {\n",
       "                var data = cell.output_area.outputs[j];\n",
       "                if (data.data) {\n",
       "                    // IPython >= 3 moved mimebundle to data attribute of output\n",
       "                    data = data.data;\n",
       "                }\n",
       "                if (data['text/html'] == html_output) {\n",
       "                    return [cell, data, j];\n",
       "                }\n",
       "            }\n",
       "        }\n",
       "    }\n",
       "}\n",
       "\n",
       "// Register the function which deals with the matplotlib target/channel.\n",
       "// The kernel may be null if the page has been refreshed.\n",
       "if (IPython.notebook.kernel != null) {\n",
       "    IPython.notebook.kernel.comm_manager.register_target('matplotlib', mpl.mpl_figure_comm);\n",
       "}\n"
      ],
      "text/plain": [
       "<IPython.core.display.Javascript object>"
      ]
     },
     "metadata": {},
     "output_type": "display_data"
    },
    {
     "data": {
      "text/html": [
       "<img src=\"data:image/png;base64,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\" width=\"640\">"
      ],
      "text/plain": [
       "<IPython.core.display.HTML object>"
      ]
     },
     "metadata": {},
     "output_type": "display_data"
    }
   ],
   "source": [
    "# Por padrão plota uma linha continua\n",
    "%matplotlib notebook\n",
    "import matplotlib.pyplot as plt\n",
    "plt.plot([1, 2, 3, 4],[1, 4, 9, 16])\n",
    "plt.xlabel('Eixo X')\n",
    "plt.ylabel('Eixo Y')\n",
    "plt.show()"
   ]
  },
  {
   "cell_type": "markdown",
   "metadata": {},
   "source": [
    "**Alterando a forma dos pontos**"
   ]
  },
  {
   "cell_type": "code",
   "execution_count": 3,
   "metadata": {},
   "outputs": [
    {
     "data": {
      "image/png": "[encoded data removed]",
      "text/plain": [
       "<Figure size 432x288 with 1 Axes>"
      ]
     },
     "metadata": {
      "needs_background": "light"
     },
     "output_type": "display_data"
    }
   ],
   "source": [
    "%matplotlib inline\n",
    "plt.plot([1, 2, 3, 4], [1, 4, 9, 16], 'o')\n",
    "plt.show()"
   ]
  },
  {
   "cell_type": "markdown",
   "metadata": {},
   "source": [
    "**Definindo limites de visualização dos eixos x e y**"
   ]
  },
  {
   "cell_type": "code",
   "execution_count": 4,
   "metadata": {},
   "outputs": [
    {
     "data": {
      "image/png": "[encoded data removed]",
      "text/plain": [
       "<Figure size 432x288 with 1 Axes>"
      ]
     },
     "metadata": {
      "needs_background": "light"
     },
     "output_type": "display_data"
    }
   ],
   "source": [
    "# Definindo limites de visualização dos eixos x e y\n",
    "%matplotlib inline\n",
    "# plot(x, y)\n",
    "plt.plot([1, 2, 3, 4],[1, 4, 9, 16], 'o')\n",
    "plt.axis([0, 6, 0, 20])  # [xmin, xmax, ymin, ymax]\n",
    "plt.show()"
   ]
  },
  {
   "cell_type": "markdown",
   "metadata": {},
   "source": [
    "**Importa a biblioteca numpy**"
   ]
  },
  {
   "cell_type": "code",
   "execution_count": 5,
   "metadata": {},
   "outputs": [],
   "source": [
    "import numpy as np"
   ]
  },
  {
   "cell_type": "markdown",
   "metadata": {},
   "source": [
    "**Plot de duas Séries de dados, no caso x1, y2, x3 e y4**"
   ]
  },
  {
   "cell_type": "code",
   "execution_count": 10,
   "metadata": {},
   "outputs": [
    {
     "data": {
      "image/png": "[encoded data removed]",
      "text/plain": [
       "<Figure size 432x288 with 1 Axes>"
      ]
     },
     "metadata": {
      "needs_background": "light"
     },
     "output_type": "display_data"
    }
   ],
   "source": [
    "%matplotlib inline\n",
    "x1 = np.array([1,2,3,4,5,6,7,9,11])\n",
    "\n",
    "x2 = x1\n",
    "y2 = x1**2\n",
    "\n",
    "x3=x1\n",
    "y3=x3**3\n",
    "\n",
    "plt.plot(x1, x1, 'r--', x2, y2, 'bs', x3, y3, 'g^')\n",
    "plt.show()"
   ]
  },
  {
   "cell_type": "markdown",
   "metadata": {},
   "source": [
    "# Plotando dados catégoricos"
   ]
  },
  {
   "cell_type": "markdown",
   "metadata": {},
   "source": [
    "* Trabalhando com gráficos de barras\n",
    "* Ideal quando estamos trabalhando com **comparação de valores**\n",
    "* Normalmente quer se visualizar frequência ou percentual de valores"
   ]
  },
  {
   "cell_type": "markdown",
   "metadata": {},
   "source": [
    "**Plotando gráfico de barras verticais o gráfico de colunas**"
   ]
  },
  {
   "cell_type": "code",
   "execution_count": 11,
   "metadata": {},
   "outputs": [
    {
     "data": {
      "image/png": "[encoded data removed]",
      "text/plain": [
       "<Figure size 432x288 with 1 Axes>"
      ]
     },
     "metadata": {
      "needs_background": "light"
     },
     "output_type": "display_data"
    }
   ],
   "source": [
    "%matplotlib inline\n",
    "grupos = ['Produto A', 'Produto B', 'Produto C']\n",
    "valores = [1, 10, 100]\n",
    "\n",
    "plt.bar(grupos, valores)\n",
    "\n",
    "plt.show()"
   ]
  },
  {
   "cell_type": "markdown",
   "metadata": {},
   "source": [
    "**Plota gráficos de Barras juntas**"
   ]
  },
  {
   "cell_type": "code",
   "execution_count": 12,
   "metadata": {},
   "outputs": [],
   "source": [
    "# Importa o numpy\n",
    "import numpy as np"
   ]
  },
  {
   "cell_type": "code",
   "execution_count": 16,
   "metadata": {},
   "outputs": [
    {
     "data": {
      "image/png": "[encoded data removed]",
      "text/plain": [
       "<Figure size 432x288 with 1 Axes>"
      ]
     },
     "metadata": {
      "needs_background": "light"
     },
     "output_type": "display_data"
    }
   ],
   "source": [
    "%matplotlib inline\n",
    "\n",
    "# Quantidade de vendas para o Produto A\n",
    "valores_produto_A = [6, 7, 8, 4, 4]\n",
    "\n",
    "# Quantidade de vendas para o Produto B\n",
    "valores_produto_B = [3, 12, 3, 4.1, 6]\n",
    "\n",
    "# Cria eixo X para produto A e produto N com separação de 0.25 entre as barras\n",
    "x1 = np.arange(len(valores_produto_A))\n",
    "x2 = [x + 0.25 for x in x1]\n",
    "\n",
    "# Plotas as barras\n",
    "plt.bar(x1, valores_produto_A, width=0.25, label='Produto A', color='b')\n",
    "plt.bar(x2, valores_produto_B, width=0.25, label='Produto B', color='y')\n",
    "\n",
    "meses = ['Agosto', 'Setembro', 'Outubro', 'Novembro', 'Dezembro']\n",
    "\n",
    "# Ticks são os traços no eixo x do gráfico.\n",
    "plt.xticks([x + 0.25 for x in range(len(valores_produto_A))], meses)\n",
    "\n",
    "plt.legend()\n",
    "\n",
    "plt.title('Quantidade de Vendas')\n",
    "plt.show()"
   ]
  },
  {
   "cell_type": "markdown",
   "metadata": {},
   "source": [
    "**Gráfico de barras horizontais**"
   ]
  },
  {
   "cell_type": "markdown",
   "metadata": {},
   "source": [
    "* Gráfico muito usado quando queremos fazer **comparações**.\n",
    "* Muito usado em pesquisas eleitorais.\n",
    "* Letura simples e intuitiva.\n",
    "* Funciona bem quando os labels do eixos são grande."
   ]
  },
  {
   "cell_type": "code",
   "execution_count": 18,
   "metadata": {},
   "outputs": [
    {
     "data": {
      "image/png": "[encoded data removed]",
      "text/plain": [
       "<Figure size 432x288 with 1 Axes>"
      ]
     },
     "metadata": {
      "needs_background": "light"
     },
     "output_type": "display_data"
    }
   ],
   "source": [
    "%matplotlib inline\n",
    "\n",
    "grupos = ['Produto A', 'Produto B', 'Produto C']\n",
    "valores = [1, 10, 100]\n",
    "\n",
    "plt.barh(grupos, valores)\n",
    "\n",
    "plt.show()"
   ]
  },
  {
   "cell_type": "markdown",
   "metadata": {},
   "source": [
    "**Rotacionando Labels**"
   ]
  },
  {
   "cell_type": "code",
   "execution_count": 22,
   "metadata": {},
   "outputs": [
    {
     "data": {
      "image/png": "[encoded data removed]",
      "text/plain": [
       "<Figure size 432x288 with 1 Axes>"
      ]
     },
     "metadata": {
      "needs_background": "light"
     },
     "output_type": "display_data"
    }
   ],
   "source": [
    "%matplotlib inline\n",
    "grupos = ['Produto A', 'Produto B', 'Produto C']\n",
    "valores = [1, 10, 100]\n",
    "\n",
    "plt.barh(grupos, valores)\n",
    "plt.barh(grupos, valores)\n",
    "plt.yticks(rotation=45)\n",
    "\n",
    "plt.show()"
   ]
  },
  {
   "cell_type": "markdown",
   "metadata": {},
   "source": [
    "# Gráficos de Pizza"
   ]
  },
  {
   "cell_type": "code",
   "execution_count": 24,
   "metadata": {},
   "outputs": [
    {
     "data": {
      "image/png": "[encoded data removed]",
      "text/plain": [
       "<Figure size 432x288 with 1 Axes>"
      ]
     },
     "metadata": {},
     "output_type": "display_data"
    }
   ],
   "source": [
    "%matplotlib inline\n",
    "\n",
    "vendas = [3000, 2300, 1000, 500]\n",
    "labels = ['Ecomerce', 'Loja Física', 'email','Marketplace']\n",
    "\n",
    "plt.pie(vendas, labels=labels)\n",
    "\n",
    "plt.show()"
   ]
  },
  {
   "cell_type": "markdown",
   "metadata": {},
   "source": [
    "# Customizando gráficos"
   ]
  },
  {
   "cell_type": "markdown",
   "metadata": {},
   "source": [
    "* Adicionando informações de percentual, sombra, separação das partes e legenda"
   ]
  },
  {
   "cell_type": "code",
   "execution_count": 29,
   "metadata": {},
   "outputs": [
    {
     "data": {
      "image/png": "[encoded data removed]",
      "text/plain": [
       "<Figure size 432x288 with 1 Axes>"
      ]
     },
     "metadata": {},
     "output_type": "display_data"
    }
   ],
   "source": [
    " %matplotlib inline\n",
    "\n",
    "vendas = [3000, 2300, 1000, 500]\n",
    "labels = ['Ecomerce', 'Loja Física', 'email','Marketplace']\n",
    "\n",
    "# Define a distância entre as fatias do gráfico\n",
    "explode = [0.1, 0, 0, 0]\n",
    "\n",
    "plt.pie(vendas, labels=labels, shadow=True, autopct='%1.1f%%' ,explode=explode)\n",
    "\n",
    "plt.legend(labels, loc=2)\n",
    "\n",
    "# Define que o gráfico será de pizza\n",
    "plt.axis('equal')\n",
    "plt.show()"
   ]
  },
  {
   "cell_type": "markdown",
   "metadata": {},
   "source": [
    "# Matplot, pyplot, pylab ?"
   ]
  },
  {
   "cell_type": "markdown",
   "metadata": {},
   "source": [
    "* Pyplot é o módulo do pacote matplotlib que gerências a criação de figuras e eixos.\n",
    "* Pylab é outro módulo do matplotlib que import o numpy e o pyplot. Este módulo é projetado para plots com arrays e cálculos matemáticos\n",
    "* Pylab é depreciado"
   ]
  },
  {
   "cell_type": "code",
   "execution_count": 30,
   "metadata": {},
   "outputs": [
    {
     "data": {
      "image/png": "[encoded data removed]",
      "text/plain": [
       "<Figure size 432x288 with 1 Axes>"
      ]
     },
     "metadata": {
      "needs_background": "light"
     },
     "output_type": "display_data"
    }
   ],
   "source": [
    "import matplotlib.pyplot as plt\n",
    "import numpy as np\n",
    "\n",
    "# Cria a figura\n",
    "fig = plt.figure()\n",
    "\n",
    "# Define eixos\n",
    "ax = fig.add_subplot(111)\n",
    "\n",
    "# Scatter plot usando o numpy\n",
    "ax.scatter(np.linspace(0, 1, 5), np.linspace(0, 5, 5))\n",
    "\n",
    "# Show\n",
    "plt.show()"
   ]
  },
  {
   "cell_type": "markdown",
   "metadata": {},
   "source": [
    "# Criando Subplots"
   ]
  },
  {
   "cell_type": "markdown",
   "metadata": {},
   "source": [
    "* Para criar subplots defina o número de linhas de gráficos e números de colunas (quantidade de gráfico em cada linha)\n"
   ]
  },
  {
   "cell_type": "code",
   "execution_count": 31,
   "metadata": {},
   "outputs": [
    {
     "data": {
      "text/plain": [
       "(<Figure size 432x288 with 2 Axes>,\n",
       " array([<matplotlib.axes._subplots.AxesSubplot object at 0x00000286093DE088>,\n",
       "        <matplotlib.axes._subplots.AxesSubplot object at 0x000002860BE32248>],\n",
       "       dtype=object))"
      ]
     },
     "execution_count": 31,
     "metadata": {},
     "output_type": "execute_result"
    },
    {
     "data": {
      "image/png": "[encoded data removed]",
      "text/plain": [
       "<Figure size 432x288 with 2 Axes>"
      ]
     },
     "metadata": {
      "needs_background": "light"
     },
     "output_type": "display_data"
    }
   ],
   "source": [
    "plt.subplots(nrows=1, ncols=2)"
   ]
  },
  {
   "cell_type": "markdown",
   "metadata": {},
   "source": [
    "**1 linha com 3 colunas**"
   ]
  },
  {
   "cell_type": "code",
   "execution_count": 32,
   "metadata": {},
   "outputs": [
    {
     "data": {
      "text/plain": [
       "(<Figure size 432x288 with 3 Axes>,\n",
       " array([<matplotlib.axes._subplots.AxesSubplot object at 0x000002860C1DF408>,\n",
       "        <matplotlib.axes._subplots.AxesSubplot object at 0x000002860BEDE608>,\n",
       "        <matplotlib.axes._subplots.AxesSubplot object at 0x000002860C12D708>],\n",
       "       dtype=object))"
      ]
     },
     "execution_count": 32,
     "metadata": {},
     "output_type": "execute_result"
    },
    {
     "data": {
      "image/png": "[encoded data removed]",
      "text/plain": [
       "<Figure size 432x288 with 3 Axes>"
      ]
     },
     "metadata": {
      "needs_background": "light"
     },
     "output_type": "display_data"
    }
   ],
   "source": [
    "plt.subplots(nrows=1, ncols=3)"
   ]
  },
  {
   "cell_type": "markdown",
   "metadata": {},
   "source": [
    "**2 linha com 2 colunas**"
   ]
  },
  {
   "cell_type": "code",
   "execution_count": 33,
   "metadata": {},
   "outputs": [
    {
     "data": {
      "text/plain": [
       "(<Figure size 432x288 with 4 Axes>,\n",
       " array([[<matplotlib.axes._subplots.AxesSubplot object at 0x000002860C219108>,\n",
       "         <matplotlib.axes._subplots.AxesSubplot object at 0x000002860BDE9748>],\n",
       "        [<matplotlib.axes._subplots.AxesSubplot object at 0x000002860C049808>,\n",
       "         <matplotlib.axes._subplots.AxesSubplot object at 0x000002860948C748>]],\n",
       "       dtype=object))"
      ]
     },
     "execution_count": 33,
     "metadata": {},
     "output_type": "execute_result"
    },
    {
     "data": {
      "image/png": "[encoded data removed]",
      "text/plain": [
       "<Figure size 432x288 with 4 Axes>"
      ]
     },
     "metadata": {
      "needs_background": "light"
     },
     "output_type": "display_data"
    }
   ],
   "source": [
    "plt.subplots(nrows=2, ncols=2)"
   ]
  },
  {
   "cell_type": "markdown",
   "metadata": {},
   "source": [
    "**Para acessar subplots usa-se o método *subplot* (Atenção para o nome correto no singular).**"
   ]
  },
  {
   "cell_type": "code",
   "execution_count": 50,
   "metadata": {},
   "outputs": [
    {
     "data": {
      "text/plain": [
       "[<matplotlib.lines.Line2D at 0x2860ce71e08>]"
      ]
     },
     "execution_count": 50,
     "metadata": {},
     "output_type": "execute_result"
    },
    {
     "data": {
      "image/png": "[encoded data removed]",
      "text/plain": [
       "<Figure size 432x288 with 2 Axes>"
      ]
     },
     "metadata": {
      "needs_background": "light"
     },
     "output_type": "display_data"
    }
   ],
   "source": [
    "x = [1,2,3,4]\n",
    "y = [10,20,25,40]\n",
    "\n",
    "# 3 parametro escolhe o gráfico\n",
    "plt.subplot(1, 2, 1)\n",
    "plt.plot(x, y, 'o')\n",
    "\n",
    "plt.subplot(1, 2, 2)\n",
    "plt.plot(x, y, color='r')"
   ]
  },
  {
   "cell_type": "markdown",
   "metadata": {},
   "source": [
    "**Criação de Instâncias de classes figure** "
   ]
  },
  {
   "cell_type": "markdown",
   "metadata": {},
   "source": [
    "* Aumenta o controle do nível de customização das funções do Matplotlib.\n",
    "* Gera menos código devido a orientação a objetos"
   ]
  },
  {
   "cell_type": "code",
   "execution_count": 39,
   "metadata": {},
   "outputs": [
    {
     "data": {
      "text/plain": [
       "[<matplotlib.lines.Line2D at 0x2860c4f5d48>]"
      ]
     },
     "execution_count": 39,
     "metadata": {},
     "output_type": "execute_result"
    },
    {
     "data": {
      "image/png": "[encoded data removed]",
      "text/plain": [
       "<Figure size 432x288 with 1 Axes>"
      ]
     },
     "metadata": {
      "needs_background": "light"
     },
     "output_type": "display_data"
    }
   ],
   "source": [
    "# Cria um objeto do tipo figure\n",
    "fig = plt.figure()\n",
    "\n",
    "# Define o tamanho em percentual do gráfico\n",
    "# Altura e Largura do eixo na figura\n",
    "\n",
    "axes_a = fig.add_axes([0.1, 0.1, 0.8, 0.8])\n",
    "\n",
    "# Plota o gráfico\n",
    "axes_a.plot(x, y)"
   ]
  },
  {
   "cell_type": "markdown",
   "metadata": {},
   "source": [
    "**Uma figura com dois gráficos de proporções diferentes**"
   ]
  },
  {
   "cell_type": "code",
   "execution_count": 40,
   "metadata": {},
   "outputs": [
    {
     "data": {
      "text/plain": [
       "[<matplotlib.lines.Line2D at 0x2860c5e2648>]"
      ]
     },
     "execution_count": 40,
     "metadata": {},
     "output_type": "execute_result"
    },
    {
     "data": {
      "image/png": "[encoded data removed]",
      "text/plain": [
       "<Figure size 432x288 with 2 Axes>"
      ]
     },
     "metadata": {
      "needs_background": "light"
     },
     "output_type": "display_data"
    }
   ],
   "source": [
    "# Cria um objeto do tipo figure\n",
    "fig = plt.figure()\n",
    "\n",
    "# Define o tamanho em percentual do gráfico\n",
    "# Altura e Largura do eixo na figura\n",
    "                     \n",
    "axes_a = fig.add_axes([0.1, 0.1, 0.8, 0.8])\n",
    "axes_b = fig.add_axes([0.2, 0.5, 0.3, 0.3])\n",
    "\n",
    "# Plota o gráfico\n",
    "# O r-- significa linha tracejada em vermelho(r)\n",
    "\n",
    "axes_a.plot(x, y)\n",
    "axes_b.plot(x, y, 'r--')"
   ]
  },
  {
   "cell_type": "markdown",
   "metadata": {},
   "source": [
    "**É possível customizar a largura ou altura do gráfico para acomodar melhor os seus dados.**"
   ]
  },
  {
   "cell_type": "markdown",
   "metadata": {},
   "source": [
    "* Exemplo: gráficos de dados financeiros em uma granularidade muito baixa(minutos)"
   ]
  },
  {
   "cell_type": "code",
   "execution_count": 46,
   "metadata": {},
   "outputs": [
    {
     "data": {
      "text/plain": [
       "[<matplotlib.lines.Line2D at 0x2860d0a5dc8>]"
      ]
     },
     "execution_count": 46,
     "metadata": {},
     "output_type": "execute_result"
    },
    {
     "data": {
      "image/png": "[encoded data removed]",
      "text/plain": [
       "<Figure size 1440x360 with 1 Axes>"
      ]
     },
     "metadata": {
      "needs_background": "light"
     },
     "output_type": "display_data"
    }
   ],
   "source": [
    "x = [1, 2, 3, 4]\n",
    "y = [10, 20, 25, 40]\n",
    "\n",
    "# Altera a largura e altura do gráfico(width, height)\n",
    "\n",
    "fig, ax = plt.subplots(figsize=(20,5))\n",
    "\n",
    "# Plota o gráfico\n",
    "ax.plot(x, y, 'r--')"
   ]
  },
  {
   "cell_type": "markdown",
   "metadata": {},
   "source": [
    "**Plotando dois gráficos (eixos) na mesma figura**"
   ]
  },
  {
   "cell_type": "code",
   "execution_count": 49,
   "metadata": {},
   "outputs": [
    {
     "data": {
      "image/png": "[encoded data removed]",
      "text/plain": [
       "<Figure size 720x360 with 2 Axes>"
      ]
     },
     "metadata": {
      "needs_background": "light"
     },
     "output_type": "display_data"
    }
   ],
   "source": [
    "# Define as configurações dos plots\n",
    "# Cada plot terá o mesmo tamanho de figuras\n",
    "\n",
    "fig, (ax1, ax2) = plt.subplots(1, 2, figsize=(10, 5))\n",
    "\n",
    "# Dados para cada subplot\n",
    "ax1.bar([1,2,3], [3,4,5])\n",
    "ax2.barh([0.5, 1, 2.5], [0,1,2])\n",
    "\n",
    "plt.show()"
   ]
  },
  {
   "cell_type": "markdown",
   "metadata": {},
   "source": [
    "**Define configurações dos eixos com método \"set()\"**"
   ]
  },
  {
   "cell_type": "code",
   "execution_count": 51,
   "metadata": {},
   "outputs": [
    {
     "data": {
      "text/plain": [
       "[Text(0, 0.5, 'Eixo y'),\n",
       " Text(0.5, 0, 'Eixo x'),\n",
       " Text(0.5, 1.0, 'Gráfico de Barras Horizontais')]"
      ]
     },
     "execution_count": 51,
     "metadata": {},
     "output_type": "execute_result"
    },
    {
     "data": {
      "image/png": "[encoded data removed]",
      "text/plain": [
       "<Figure size 720x360 with 2 Axes>"
      ]
     },
     "metadata": {
      "needs_background": "light"
     },
     "output_type": "display_data"
    }
   ],
   "source": [
    "import matplotlib.pyplot as plt\n",
    "\n",
    "# Define o tamanho das figuras para os eixos\n",
    "fig, (ax1, ax2) = plt.subplots(1, 2, figsize=(10,5))\n",
    "\n",
    "# Dados para cada subplot\n",
    "ax1.bar([1,2,3], [3,4,5])\n",
    "ax2.barh([0.5, 1, 2.5], [0,1,2])\n",
    "\n",
    "# Usa o método set para definir configurações do gráfico.\n",
    "ax1.set(title='Gráfico de Barras Verticais', xlabel='Eixo x', ylabel='Eixo y')\n",
    "ax2.set(title='Gráfico de Barras Horizontais', xlabel='Eixo x', ylabel='Eixo y')\n"
   ]
  },
  {
   "cell_type": "markdown",
   "metadata": {},
   "source": [
    "# Customizando Layouts"
   ]
  },
  {
   "cell_type": "code",
   "execution_count": 52,
   "metadata": {},
   "outputs": [],
   "source": [
    "import matplotlib.pyplot as plt\n",
    "\n",
    "# Define o stilo para ggplot\n",
    "plt.style.use('ggplot')"
   ]
  },
  {
   "cell_type": "code",
   "execution_count": 54,
   "metadata": {},
   "outputs": [
    {
     "data": {
      "image/png": "[encoded data removed]",
      "text/plain": [
       "<Figure size 720x360 with 2 Axes>"
      ]
     },
     "metadata": {},
     "output_type": "display_data"
    }
   ],
   "source": [
    "# Define o tamanho das figuras para os eixos\n",
    "fig, (ax1, ax2) = plt.subplots(1, 2, figsize=(10,5))\n",
    "\n",
    "# Dados para cada subplot\n",
    "ax1.bar([1,2,3], [3,4,5])\n",
    "ax2.barh([0.5, 1, 2.5], [0,1,2])\n",
    "\n",
    "# Usa o método set para definir configurações do gráfico.\n",
    "ax1.set(title='Gráfico de Barras Verticais', xlabel='Eixo x', ylabel='Eixo y')\n",
    "ax2.set(title='Gráfico de Barras Horizontais', xlabel='Eixo x', ylabel='Eixo y')\n",
    "\n",
    "plt.show()"
   ]
  },
  {
   "cell_type": "markdown",
   "metadata": {},
   "source": [
    "**Matplotlib funciona também com cores RGB. Para fazer isso use o parâmetro *color***"
   ]
  },
  {
   "cell_type": "code",
   "execution_count": 56,
   "metadata": {},
   "outputs": [
    {
     "data": {
      "image/png": "[encoded data removed]",
      "text/plain": [
       "<Figure size 720x360 with 2 Axes>"
      ]
     },
     "metadata": {},
     "output_type": "display_data"
    }
   ],
   "source": [
    "# Define o tamanho das figuras para os eixos\n",
    "fig, (ax1, ax2) = plt.subplots(1, 2, figsize=(10,5))\n",
    "\n",
    "# Dados para cada subplot\n",
    "ax1.bar([1,2,3], [3,4,5], color='#00BFFF')\n",
    "ax2.barh([0.5, 1, 2.5], [0,1,2], color='#00FF00')\n",
    "\n",
    "# Usa o método set para definir configurações do gráfico.\n",
    "ax1.set(title='Gráfico de Barras Verticais', xlabel='Eixo x', ylabel='Eixo y')\n",
    "ax2.set(title='Gráfico de Barras Horizontais', xlabel='Eixo x', ylabel='Eixo y')\n",
    "\n",
    "plt.show()"
   ]
  },
  {
   "cell_type": "markdown",
   "metadata": {},
   "source": [
    "# Adicionando textos em gráficos"
   ]
  },
  {
   "cell_type": "code",
   "execution_count": 57,
   "metadata": {},
   "outputs": [],
   "source": [
    "import numpy as np"
   ]
  },
  {
   "cell_type": "code",
   "execution_count": 64,
   "metadata": {},
   "outputs": [
    {
     "data": {
      "image/png": "[encoded data removed]",
      "text/plain": [
       "<Figure size 432x288 with 1 Axes>"
      ]
     },
     "metadata": {
      "needs_background": "light"
     },
     "output_type": "display_data"
    }
   ],
   "source": [
    "%matplotlib inline\n",
    "# 100 valores no intervalo de 0 a 2.\n",
    "x = np.linspace(0, 2, num=100)\n",
    "\n",
    "# define a legenda e tamanho de linhas\n",
    "plt.plot(x, x, label='Linear')\n",
    "\n",
    "plt.plot(x, x**2, label='Quadratico', linewidth=5)\n",
    "\n",
    "plt.xlabel('x label')\n",
    "plt.ylabel('y label')\n",
    "\n",
    "plt.title('Gráfico de linhas simples')\n",
    "\n",
    "# Exibe a legenda por padrão usa o label do plot.\n",
    "plt.legend()\n",
    "\n",
    "# Configurações de texto\n",
    "plt.text(1.00, 1.0, 'Cruzamento das linhas', fontsize=10, horizontalalignment='right')\n",
    "\n",
    "plt.show()"
   ]
  },
  {
   "cell_type": "markdown",
   "metadata": {},
   "source": [
    "# Plotando Histogramas"
   ]
  },
  {
   "cell_type": "markdown",
   "metadata": {},
   "source": [
    "* Histogramas são úteis quando queremos visualizar a distribuição de **uma** variável.\n",
    "* Esse é um gráfico muito utilizado em estatítica descritiva.\n",
    "* Facilita a visualização de dados extremos.\n",
    "* É útil em tarefas de **análise** e **exploração** de dados."
   ]
  },
  {
   "cell_type": "markdown",
   "metadata": {},
   "source": [
    "**Gera dados aleatórios com média em torno de 0 e desvio padrão em torno de 1**"
   ]
  },
  {
   "cell_type": "code",
   "execution_count": 65,
   "metadata": {},
   "outputs": [],
   "source": [
    "d = np.random.normal(0, 1, size=500)"
   ]
  },
  {
   "cell_type": "markdown",
   "metadata": {},
   "source": [
    "**Plota histograma com 10 bins**"
   ]
  },
  {
   "cell_type": "code",
   "execution_count": 74,
   "metadata": {},
   "outputs": [
    {
     "data": {
      "text/plain": [
       "(array([  4.,  12.,  31.,  87., 113., 119.,  75.,  40.,  16.,   3.]),\n",
       " array([-3.23458676, -2.59248187, -1.95037698, -1.30827209, -0.6661672 ,\n",
       "        -0.02406231,  0.61804258,  1.26014747,  1.90225236,  2.54435725,\n",
       "         3.18646214]),\n",
       " <a list of 10 Patch objects>)"
      ]
     },
     "execution_count": 74,
     "metadata": {},
     "output_type": "execute_result"
    },
    {
     "data": {
      "image/png": "[encoded data removed]",
      "text/plain": [
       "<Figure size 432x288 with 1 Axes>"
      ]
     },
     "metadata": {
      "needs_background": "light"
     },
     "output_type": "display_data"
    }
   ],
   "source": [
    "%matplotlib inline\n",
    "plt.hist(d, bins=10, color='r')"
   ]
  },
  {
   "cell_type": "markdown",
   "metadata": {},
   "source": [
    "# Trabalhando com dataframes Pandas"
   ]
  },
  {
   "cell_type": "markdown",
   "metadata": {},
   "source": [
    "* O matplotlib trabalha bem com o Pandas\n",
    "* É possível usar recursos de dataframes usando o parâmetro **data**"
   ]
  },
  {
   "cell_type": "code",
   "execution_count": 75,
   "metadata": {},
   "outputs": [],
   "source": [
    "import pandas as pd"
   ]
  },
  {
   "cell_type": "code",
   "execution_count": 76,
   "metadata": {},
   "outputs": [],
   "source": [
    "data = {'a': np.arange(50),\n",
    "        'c': np.random.randint(0, 50, 50),\n",
    "        'd': np.random.randn(50)\n",
    "       }"
   ]
  },
  {
   "cell_type": "code",
   "execution_count": 77,
   "metadata": {},
   "outputs": [],
   "source": [
    "data = pd.DataFrame(data)"
   ]
  },
  {
   "cell_type": "code",
   "execution_count": 78,
   "metadata": {},
   "outputs": [
    {
     "data": {
      "text/plain": [
       "pandas.core.frame.DataFrame"
      ]
     },
     "execution_count": 78,
     "metadata": {},
     "output_type": "execute_result"
    }
   ],
   "source": [
    "type(data)"
   ]
  },
  {
   "cell_type": "code",
   "execution_count": 79,
   "metadata": {},
   "outputs": [
    {
     "data": {
      "text/html": [
       "<div>\n",
       "<style scoped>\n",
       "    .dataframe tbody tr th:only-of-type {\n",
       "        vertical-align: middle;\n",
       "    }\n",
       "\n",
       "    .dataframe tbody tr th {\n",
       "        vertical-align: top;\n",
       "    }\n",
       "\n",
       "    .dataframe thead th {\n",
       "        text-align: right;\n",
       "    }\n",
       "</style>\n",
       "<table border=\"1\" class=\"dataframe\">\n",
       "  <thead>\n",
       "    <tr style=\"text-align: right;\">\n",
       "      <th></th>\n",
       "      <th>a</th>\n",
       "      <th>c</th>\n",
       "      <th>d</th>\n",
       "    </tr>\n",
       "  </thead>\n",
       "  <tbody>\n",
       "    <tr>\n",
       "      <td>0</td>\n",
       "      <td>0</td>\n",
       "      <td>39</td>\n",
       "      <td>1.016206</td>\n",
       "    </tr>\n",
       "    <tr>\n",
       "      <td>1</td>\n",
       "      <td>1</td>\n",
       "      <td>20</td>\n",
       "      <td>-1.718185</td>\n",
       "    </tr>\n",
       "    <tr>\n",
       "      <td>2</td>\n",
       "      <td>2</td>\n",
       "      <td>49</td>\n",
       "      <td>-1.753308</td>\n",
       "    </tr>\n",
       "    <tr>\n",
       "      <td>3</td>\n",
       "      <td>3</td>\n",
       "      <td>46</td>\n",
       "      <td>0.372114</td>\n",
       "    </tr>\n",
       "    <tr>\n",
       "      <td>4</td>\n",
       "      <td>4</td>\n",
       "      <td>14</td>\n",
       "      <td>-0.356057</td>\n",
       "    </tr>\n",
       "  </tbody>\n",
       "</table>\n",
       "</div>"
      ],
      "text/plain": [
       "   a   c         d\n",
       "0  0  39  1.016206\n",
       "1  1  20 -1.718185\n",
       "2  2  49 -1.753308\n",
       "3  3  46  0.372114\n",
       "4  4  14 -0.356057"
      ]
     },
     "execution_count": 79,
     "metadata": {},
     "output_type": "execute_result"
    }
   ],
   "source": [
    "data.head()"
   ]
  },
  {
   "cell_type": "markdown",
   "metadata": {},
   "source": [
    "**Gerar dados aleatórios para coluna b e d**"
   ]
  },
  {
   "cell_type": "code",
   "execution_count": 80,
   "metadata": {},
   "outputs": [],
   "source": [
    "data['b'] = data['a'] + 10 * np.random.randn(50)\n",
    "data['d'] = np.abs(data['d']) * 200"
   ]
  },
  {
   "cell_type": "code",
   "execution_count": 81,
   "metadata": {},
   "outputs": [
    {
     "data": {
      "text/plain": [
       "0    -0.791533\n",
       "1    -0.431694\n",
       "2    10.923914\n",
       "3    10.477113\n",
       "4     5.158978\n",
       "Name: b, dtype: float64"
      ]
     },
     "execution_count": 81,
     "metadata": {},
     "output_type": "execute_result"
    }
   ],
   "source": [
    "data.b.head()"
   ]
  },
  {
   "cell_type": "markdown",
   "metadata": {},
   "source": [
    "**Dados absolutos**"
   ]
  },
  {
   "cell_type": "code",
   "execution_count": 82,
   "metadata": {},
   "outputs": [
    {
     "data": {
      "text/plain": [
       "0    203.241163\n",
       "1    343.637076\n",
       "2    350.661650\n",
       "3     74.422725\n",
       "4     71.211479\n",
       "Name: d, dtype: float64"
      ]
     },
     "execution_count": 82,
     "metadata": {},
     "output_type": "execute_result"
    }
   ],
   "source": [
    "data.d.head()"
   ]
  },
  {
   "cell_type": "markdown",
   "metadata": {},
   "source": [
    "**Plota gráfico de dispersão usando pandas dataframe**"
   ]
  },
  {
   "cell_type": "code",
   "execution_count": 83,
   "metadata": {},
   "outputs": [
    {
     "data": {
      "image/png": "[encoded data removed]",
      "text/plain": [
       "<Figure size 432x288 with 1 Axes>"
      ]
     },
     "metadata": {
      "needs_background": "light"
     },
     "output_type": "display_data"
    }
   ],
   "source": [
    "\n",
    "                    # color= tamanho dos circulos   \n",
    "plt.scatter('a', 'b', c='c', s='d', data=data)\n",
    "plt.xlabel('entry a')\n",
    "plt.ylabel('entry b')\n",
    "plt.show()"
   ]
  },
  {
   "cell_type": "code",
   "execution_count": null,
   "metadata": {},
   "outputs": [],
   "source": []
  }
 ],
 "metadata": {
  "kernelspec": {
   "display_name": "Python 3",
   "language": "python",
   "name": "python3"
  },
  "language_info": {
   "codemirror_mode": {
    "name": "ipython",
    "version": 3
   },
   "file_extension": ".py",
   "mimetype": "text/x-python",
   "name": "python",
   "nbconvert_exporter": "python",
   "pygments_lexer": "ipython3",
   "version": "3.7.4"
  }
 },
 "nbformat": 4,
 "nbformat_minor": 2
}
