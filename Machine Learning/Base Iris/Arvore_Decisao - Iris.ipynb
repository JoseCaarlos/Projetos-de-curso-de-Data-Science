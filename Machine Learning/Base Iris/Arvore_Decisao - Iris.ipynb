{
 "cells": [
  {
   "cell_type": "markdown",
   "metadata": {},
   "source": [
    "# Arvore de Decisão"
   ]
  },
  {
   "cell_type": "markdown",
   "metadata": {},
   "source": [
    "**Importe as bibliotecas necessárias**"
   ]
  },
  {
   "cell_type": "code",
   "execution_count": 3,
   "metadata": {},
   "outputs": [],
   "source": [
    "import pandas as pd\n",
    "import matplotlib.pyplot as plt\n",
    "import numpy as np\n",
    "from sklearn.tree import export_graphviz\n",
    "from sklearn import tree\n",
    "from sklearn.datasets import load_iris"
   ]
  },
  {
   "cell_type": "markdown",
   "metadata": {},
   "source": [
    "**Carregando a base de dados iris**"
   ]
  },
  {
   "cell_type": "code",
   "execution_count": 6,
   "metadata": {},
   "outputs": [],
   "source": [
    "iris = load_iris()"
   ]
  },
  {
   "cell_type": "markdown",
   "metadata": {},
   "source": [
    "**Verificando a descrição do dataset**"
   ]
  },
  {
   "cell_type": "code",
   "execution_count": 7,
   "metadata": {
    "scrolled": true
   },
   "outputs": [
    {
     "name": "stdout",
     "output_type": "stream",
     "text": [
      ".. _iris_dataset:\n",
      "\n",
      "Iris plants dataset\n",
      "--------------------\n",
      "\n",
      "**Data Set Characteristics:**\n",
      "\n",
      "    :Number of Instances: 150 (50 in each of three classes)\n",
      "    :Number of Attributes: 4 numeric, predictive attributes and the class\n",
      "    :Attribute Information:\n",
      "        - sepal length in cm\n",
      "        - sepal width in cm\n",
      "        - petal length in cm\n",
      "        - petal width in cm\n",
      "        - class:\n",
      "                - Iris-Setosa\n",
      "                - Iris-Versicolour\n",
      "                - Iris-Virginica\n",
      "                \n",
      "    :Summary Statistics:\n",
      "\n",
      "    ============== ==== ==== ======= ===== ====================\n",
      "                    Min  Max   Mean    SD   Class Correlation\n",
      "    ============== ==== ==== ======= ===== ====================\n",
      "    sepal length:   4.3  7.9   5.84   0.83    0.7826\n",
      "    sepal width:    2.0  4.4   3.05   0.43   -0.4194\n",
      "    petal length:   1.0  6.9   3.76   1.76    0.9490  (high!)\n",
      "    petal width:    0.1  2.5   1.20   0.76    0.9565  (high!)\n",
      "    ============== ==== ==== ======= ===== ====================\n",
      "\n",
      "    :Missing Attribute Values: None\n",
      "    :Class Distribution: 33.3% for each of 3 classes.\n",
      "    :Creator: R.A. Fisher\n",
      "    :Donor: Michael Marshall (MARSHALL%PLU@io.arc.nasa.gov)\n",
      "    :Date: July, 1988\n",
      "\n",
      "The famous Iris database, first used by Sir R.A. Fisher. The dataset is taken\n",
      "from Fisher's paper. Note that it's the same as in R, but not as in the UCI\n",
      "Machine Learning Repository, which has two wrong data points.\n",
      "\n",
      "This is perhaps the best known database to be found in the\n",
      "pattern recognition literature.  Fisher's paper is a classic in the field and\n",
      "is referenced frequently to this day.  (See Duda & Hart, for example.)  The\n",
      "data set contains 3 classes of 50 instances each, where each class refers to a\n",
      "type of iris plant.  One class is linearly separable from the other 2; the\n",
      "latter are NOT linearly separable from each other.\n",
      "\n",
      ".. topic:: References\n",
      "\n",
      "   - Fisher, R.A. \"The use of multiple measurements in taxonomic problems\"\n",
      "     Annual Eugenics, 7, Part II, 179-188 (1936); also in \"Contributions to\n",
      "     Mathematical Statistics\" (John Wiley, NY, 1950).\n",
      "   - Duda, R.O., & Hart, P.E. (1973) Pattern Classification and Scene Analysis.\n",
      "     (Q327.D83) John Wiley & Sons.  ISBN 0-471-22361-1.  See page 218.\n",
      "   - Dasarathy, B.V. (1980) \"Nosing Around the Neighborhood: A New System\n",
      "     Structure and Classification Rule for Recognition in Partially Exposed\n",
      "     Environments\".  IEEE Transactions on Pattern Analysis and Machine\n",
      "     Intelligence, Vol. PAMI-2, No. 1, 67-71.\n",
      "   - Gates, G.W. (1972) \"The Reduced Nearest Neighbor Rule\".  IEEE Transactions\n",
      "     on Information Theory, May 1972, 431-433.\n",
      "   - See also: 1988 MLC Proceedings, 54-64.  Cheeseman et al\"s AUTOCLASS II\n",
      "     conceptual clustering system finds 3 classes in the data.\n",
      "   - Many, many more ...\n"
     ]
    }
   ],
   "source": [
    "\n",
    "print(iris.DESCR)"
   ]
  },
  {
   "cell_type": "markdown",
   "metadata": {},
   "source": [
    "**Verificando features_names, target e dados**"
   ]
  },
  {
   "cell_type": "code",
   "execution_count": 8,
   "metadata": {},
   "outputs": [
    {
     "data": {
      "text/plain": [
       "['sepal length (cm)',\n",
       " 'sepal width (cm)',\n",
       " 'petal length (cm)',\n",
       " 'petal width (cm)']"
      ]
     },
     "execution_count": 8,
     "metadata": {},
     "output_type": "execute_result"
    }
   ],
   "source": [
    "iris.feature_names"
   ]
  },
  {
   "cell_type": "code",
   "execution_count": 9,
   "metadata": {},
   "outputs": [
    {
     "data": {
      "text/plain": [
       "array(['setosa', 'versicolor', 'virginica'], dtype='<U10')"
      ]
     },
     "execution_count": 9,
     "metadata": {},
     "output_type": "execute_result"
    }
   ],
   "source": [
    "iris.target_names"
   ]
  },
  {
   "cell_type": "code",
   "execution_count": 10,
   "metadata": {},
   "outputs": [
    {
     "data": {
      "text/plain": [
       "array([[5.1, 3.5, 1.4, 0.2],\n",
       "       [4.9, 3. , 1.4, 0.2],\n",
       "       [4.7, 3.2, 1.3, 0.2],\n",
       "       [4.6, 3.1, 1.5, 0.2],\n",
       "       [5. , 3.6, 1.4, 0.2],\n",
       "       [5.4, 3.9, 1.7, 0.4],\n",
       "       [4.6, 3.4, 1.4, 0.3],\n",
       "       [5. , 3.4, 1.5, 0.2],\n",
       "       [4.4, 2.9, 1.4, 0.2],\n",
       "       [4.9, 3.1, 1.5, 0.1],\n",
       "       [5.4, 3.7, 1.5, 0.2],\n",
       "       [4.8, 3.4, 1.6, 0.2],\n",
       "       [4.8, 3. , 1.4, 0.1],\n",
       "       [4.3, 3. , 1.1, 0.1],\n",
       "       [5.8, 4. , 1.2, 0.2],\n",
       "       [5.7, 4.4, 1.5, 0.4],\n",
       "       [5.4, 3.9, 1.3, 0.4],\n",
       "       [5.1, 3.5, 1.4, 0.3],\n",
       "       [5.7, 3.8, 1.7, 0.3],\n",
       "       [5.1, 3.8, 1.5, 0.3],\n",
       "       [5.4, 3.4, 1.7, 0.2],\n",
       "       [5.1, 3.7, 1.5, 0.4],\n",
       "       [4.6, 3.6, 1. , 0.2],\n",
       "       [5.1, 3.3, 1.7, 0.5],\n",
       "       [4.8, 3.4, 1.9, 0.2],\n",
       "       [5. , 3. , 1.6, 0.2],\n",
       "       [5. , 3.4, 1.6, 0.4],\n",
       "       [5.2, 3.5, 1.5, 0.2],\n",
       "       [5.2, 3.4, 1.4, 0.2],\n",
       "       [4.7, 3.2, 1.6, 0.2],\n",
       "       [4.8, 3.1, 1.6, 0.2],\n",
       "       [5.4, 3.4, 1.5, 0.4],\n",
       "       [5.2, 4.1, 1.5, 0.1],\n",
       "       [5.5, 4.2, 1.4, 0.2],\n",
       "       [4.9, 3.1, 1.5, 0.2],\n",
       "       [5. , 3.2, 1.2, 0.2],\n",
       "       [5.5, 3.5, 1.3, 0.2],\n",
       "       [4.9, 3.6, 1.4, 0.1],\n",
       "       [4.4, 3. , 1.3, 0.2],\n",
       "       [5.1, 3.4, 1.5, 0.2],\n",
       "       [5. , 3.5, 1.3, 0.3],\n",
       "       [4.5, 2.3, 1.3, 0.3],\n",
       "       [4.4, 3.2, 1.3, 0.2],\n",
       "       [5. , 3.5, 1.6, 0.6],\n",
       "       [5.1, 3.8, 1.9, 0.4],\n",
       "       [4.8, 3. , 1.4, 0.3],\n",
       "       [5.1, 3.8, 1.6, 0.2],\n",
       "       [4.6, 3.2, 1.4, 0.2],\n",
       "       [5.3, 3.7, 1.5, 0.2],\n",
       "       [5. , 3.3, 1.4, 0.2],\n",
       "       [7. , 3.2, 4.7, 1.4],\n",
       "       [6.4, 3.2, 4.5, 1.5],\n",
       "       [6.9, 3.1, 4.9, 1.5],\n",
       "       [5.5, 2.3, 4. , 1.3],\n",
       "       [6.5, 2.8, 4.6, 1.5],\n",
       "       [5.7, 2.8, 4.5, 1.3],\n",
       "       [6.3, 3.3, 4.7, 1.6],\n",
       "       [4.9, 2.4, 3.3, 1. ],\n",
       "       [6.6, 2.9, 4.6, 1.3],\n",
       "       [5.2, 2.7, 3.9, 1.4],\n",
       "       [5. , 2. , 3.5, 1. ],\n",
       "       [5.9, 3. , 4.2, 1.5],\n",
       "       [6. , 2.2, 4. , 1. ],\n",
       "       [6.1, 2.9, 4.7, 1.4],\n",
       "       [5.6, 2.9, 3.6, 1.3],\n",
       "       [6.7, 3.1, 4.4, 1.4],\n",
       "       [5.6, 3. , 4.5, 1.5],\n",
       "       [5.8, 2.7, 4.1, 1. ],\n",
       "       [6.2, 2.2, 4.5, 1.5],\n",
       "       [5.6, 2.5, 3.9, 1.1],\n",
       "       [5.9, 3.2, 4.8, 1.8],\n",
       "       [6.1, 2.8, 4. , 1.3],\n",
       "       [6.3, 2.5, 4.9, 1.5],\n",
       "       [6.1, 2.8, 4.7, 1.2],\n",
       "       [6.4, 2.9, 4.3, 1.3],\n",
       "       [6.6, 3. , 4.4, 1.4],\n",
       "       [6.8, 2.8, 4.8, 1.4],\n",
       "       [6.7, 3. , 5. , 1.7],\n",
       "       [6. , 2.9, 4.5, 1.5],\n",
       "       [5.7, 2.6, 3.5, 1. ],\n",
       "       [5.5, 2.4, 3.8, 1.1],\n",
       "       [5.5, 2.4, 3.7, 1. ],\n",
       "       [5.8, 2.7, 3.9, 1.2],\n",
       "       [6. , 2.7, 5.1, 1.6],\n",
       "       [5.4, 3. , 4.5, 1.5],\n",
       "       [6. , 3.4, 4.5, 1.6],\n",
       "       [6.7, 3.1, 4.7, 1.5],\n",
       "       [6.3, 2.3, 4.4, 1.3],\n",
       "       [5.6, 3. , 4.1, 1.3],\n",
       "       [5.5, 2.5, 4. , 1.3],\n",
       "       [5.5, 2.6, 4.4, 1.2],\n",
       "       [6.1, 3. , 4.6, 1.4],\n",
       "       [5.8, 2.6, 4. , 1.2],\n",
       "       [5. , 2.3, 3.3, 1. ],\n",
       "       [5.6, 2.7, 4.2, 1.3],\n",
       "       [5.7, 3. , 4.2, 1.2],\n",
       "       [5.7, 2.9, 4.2, 1.3],\n",
       "       [6.2, 2.9, 4.3, 1.3],\n",
       "       [5.1, 2.5, 3. , 1.1],\n",
       "       [5.7, 2.8, 4.1, 1.3],\n",
       "       [6.3, 3.3, 6. , 2.5],\n",
       "       [5.8, 2.7, 5.1, 1.9],\n",
       "       [7.1, 3. , 5.9, 2.1],\n",
       "       [6.3, 2.9, 5.6, 1.8],\n",
       "       [6.5, 3. , 5.8, 2.2],\n",
       "       [7.6, 3. , 6.6, 2.1],\n",
       "       [4.9, 2.5, 4.5, 1.7],\n",
       "       [7.3, 2.9, 6.3, 1.8],\n",
       "       [6.7, 2.5, 5.8, 1.8],\n",
       "       [7.2, 3.6, 6.1, 2.5],\n",
       "       [6.5, 3.2, 5.1, 2. ],\n",
       "       [6.4, 2.7, 5.3, 1.9],\n",
       "       [6.8, 3. , 5.5, 2.1],\n",
       "       [5.7, 2.5, 5. , 2. ],\n",
       "       [5.8, 2.8, 5.1, 2.4],\n",
       "       [6.4, 3.2, 5.3, 2.3],\n",
       "       [6.5, 3. , 5.5, 1.8],\n",
       "       [7.7, 3.8, 6.7, 2.2],\n",
       "       [7.7, 2.6, 6.9, 2.3],\n",
       "       [6. , 2.2, 5. , 1.5],\n",
       "       [6.9, 3.2, 5.7, 2.3],\n",
       "       [5.6, 2.8, 4.9, 2. ],\n",
       "       [7.7, 2.8, 6.7, 2. ],\n",
       "       [6.3, 2.7, 4.9, 1.8],\n",
       "       [6.7, 3.3, 5.7, 2.1],\n",
       "       [7.2, 3.2, 6. , 1.8],\n",
       "       [6.2, 2.8, 4.8, 1.8],\n",
       "       [6.1, 3. , 4.9, 1.8],\n",
       "       [6.4, 2.8, 5.6, 2.1],\n",
       "       [7.2, 3. , 5.8, 1.6],\n",
       "       [7.4, 2.8, 6.1, 1.9],\n",
       "       [7.9, 3.8, 6.4, 2. ],\n",
       "       [6.4, 2.8, 5.6, 2.2],\n",
       "       [6.3, 2.8, 5.1, 1.5],\n",
       "       [6.1, 2.6, 5.6, 1.4],\n",
       "       [7.7, 3. , 6.1, 2.3],\n",
       "       [6.3, 3.4, 5.6, 2.4],\n",
       "       [6.4, 3.1, 5.5, 1.8],\n",
       "       [6. , 3. , 4.8, 1.8],\n",
       "       [6.9, 3.1, 5.4, 2.1],\n",
       "       [6.7, 3.1, 5.6, 2.4],\n",
       "       [6.9, 3.1, 5.1, 2.3],\n",
       "       [5.8, 2.7, 5.1, 1.9],\n",
       "       [6.8, 3.2, 5.9, 2.3],\n",
       "       [6.7, 3.3, 5.7, 2.5],\n",
       "       [6.7, 3. , 5.2, 2.3],\n",
       "       [6.3, 2.5, 5. , 1.9],\n",
       "       [6.5, 3. , 5.2, 2. ],\n",
       "       [6.2, 3.4, 5.4, 2.3],\n",
       "       [5.9, 3. , 5.1, 1.8]])"
      ]
     },
     "execution_count": 10,
     "metadata": {},
     "output_type": "execute_result"
    }
   ],
   "source": [
    "iris.data"
   ]
  },
  {
   "cell_type": "markdown",
   "metadata": {},
   "source": [
    "**Dividindo os dados em treino e teste**"
   ]
  },
  {
   "cell_type": "code",
   "execution_count": 11,
   "metadata": {},
   "outputs": [],
   "source": [
    "from sklearn.model_selection import train_test_split"
   ]
  },
  {
   "cell_type": "code",
   "execution_count": 12,
   "metadata": {},
   "outputs": [],
   "source": [
    "X_train, X_test, y_train, y_test = train_test_split(iris.data, iris.target, test_size=0.3)"
   ]
  },
  {
   "cell_type": "markdown",
   "metadata": {},
   "source": [
    "**Verificando a forma dos dados**"
   ]
  },
  {
   "cell_type": "code",
   "execution_count": 13,
   "metadata": {},
   "outputs": [
    {
     "data": {
      "text/plain": [
       "((105, 4), (45, 4))"
      ]
     },
     "execution_count": 13,
     "metadata": {},
     "output_type": "execute_result"
    }
   ],
   "source": [
    "X_train.shape, X_test.shape"
   ]
  },
  {
   "cell_type": "markdown",
   "metadata": {},
   "source": [
    "**Instância do classificador**"
   ]
  },
  {
   "cell_type": "code",
   "execution_count": 14,
   "metadata": {},
   "outputs": [],
   "source": [
    "clf = tree.DecisionTreeClassifier()"
   ]
  },
  {
   "cell_type": "markdown",
   "metadata": {},
   "source": [
    "#### Parâmetros do  classificador DecisionTreeClassifier\n",
    "* criterion: medida de qualidade da divisão\n",
    "* splitter: estratégia utilizada para dividir o nó de decisão\n",
    "* max_depth: profundidade máxima da árvore\n",
    "* min_samples_split: número de amostras mínimas para considerar um nó para divisão\n",
    "* min_samples_leaf: número de amostras mínimas no nível folha"
   ]
  },
  {
   "cell_type": "markdown",
   "metadata": {},
   "source": [
    "**Treinando o Modelo**"
   ]
  },
  {
   "cell_type": "code",
   "execution_count": 15,
   "metadata": {},
   "outputs": [],
   "source": [
    "clf = clf.fit(X_train, y_train)"
   ]
  },
  {
   "cell_type": "markdown",
   "metadata": {},
   "source": [
    "**Verificando as features mais importantes para o modelo de arvore de decisão**"
   ]
  },
  {
   "cell_type": "code",
   "execution_count": 16,
   "metadata": {},
   "outputs": [
    {
     "data": {
      "text/plain": [
       "array([0.02777683, 0.01911524, 0.04886925, 0.90423869])"
      ]
     },
     "execution_count": 16,
     "metadata": {},
     "output_type": "execute_result"
    }
   ],
   "source": [
    "clf.feature_importances_"
   ]
  },
  {
   "cell_type": "code",
   "execution_count": 17,
   "metadata": {},
   "outputs": [
    {
     "name": "stdout",
     "output_type": "stream",
     "text": [
      "sepal length (cm):0.027776829601310764\n",
      "sepal width (cm):0.01911523757509558\n",
      "petal length (cm):0.04886924574765924\n",
      "petal width (cm):0.9042386870759344\n"
     ]
    }
   ],
   "source": [
    "for x,y in zip(iris.feature_names, clf.feature_importances_):\n",
    "    print(f'{x}:{y}')"
   ]
  },
  {
   "cell_type": "markdown",
   "metadata": {},
   "source": [
    "**Executando o algoritmo de arvore de decisão com o conjunto de teste**"
   ]
  },
  {
   "cell_type": "code",
   "execution_count": 18,
   "metadata": {},
   "outputs": [
    {
     "data": {
      "text/plain": [
       "array([1, 0, 1, 2, 1, 0, 1, 1, 1, 0, 1, 2, 0, 2, 0, 2, 1, 1, 1, 0, 1, 1,\n",
       "       1, 0, 1, 0, 0, 0, 2, 0, 0, 2, 0, 0, 0, 0, 0, 2, 1, 2, 2, 2, 0, 1,\n",
       "       2])"
      ]
     },
     "execution_count": 18,
     "metadata": {},
     "output_type": "execute_result"
    }
   ],
   "source": [
    "resultado = clf.predict(X_test)\n",
    "resultado"
   ]
  },
  {
   "cell_type": "markdown",
   "metadata": {},
   "source": [
    "**Testando uma nova amostra**"
   ]
  },
  {
   "cell_type": "code",
   "execution_count": 19,
   "metadata": {},
   "outputs": [],
   "source": [
    "teste = np.array([[5.1, 3.5, 1.4, 0.1]])"
   ]
  },
  {
   "cell_type": "code",
   "execution_count": 20,
   "metadata": {},
   "outputs": [
    {
     "data": {
      "text/plain": [
       "array([0])"
      ]
     },
     "execution_count": 20,
     "metadata": {},
     "output_type": "execute_result"
    }
   ],
   "source": [
    "clf.predict(teste)"
   ]
  },
  {
   "cell_type": "markdown",
   "metadata": {},
   "source": [
    "**Verificando a probalidade**"
   ]
  },
  {
   "cell_type": "code",
   "execution_count": 21,
   "metadata": {},
   "outputs": [
    {
     "data": {
      "text/plain": [
       "array([[1., 0., 0.]])"
      ]
     },
     "execution_count": 21,
     "metadata": {},
     "output_type": "execute_result"
    }
   ],
   "source": [
    "clf.predict_proba(teste).round(2)"
   ]
  },
  {
   "cell_type": "code",
   "execution_count": 22,
   "metadata": {},
   "outputs": [
    {
     "name": "stdout",
     "output_type": "stream",
     "text": [
      "              precision    recall  f1-score   support\n",
      "\n",
      "      setosa       1.00      1.00      1.00        18\n",
      "  versicolor       0.94      0.94      0.94        16\n",
      "   virginica       0.91      0.91      0.91        11\n",
      "\n",
      "    accuracy                           0.96        45\n",
      "   macro avg       0.95      0.95      0.95        45\n",
      "weighted avg       0.96      0.96      0.96        45\n",
      "\n"
     ]
    }
   ],
   "source": [
    "from sklearn import metrics\n",
    "print(metrics.classification_report(y_test, resultado,target_names=iris.target_names))"
   ]
  },
  {
   "cell_type": "markdown",
   "metadata": {},
   "source": [
    "**Biblioteca para utilização widgets interativos**"
   ]
  },
  {
   "cell_type": "code",
   "execution_count": 23,
   "metadata": {
    "scrolled": true
   },
   "outputs": [
    {
     "name": "stdout",
     "output_type": "stream",
     "text": [
      "Requirement already satisfied: ipywidgets in d:\\desenvolvimento\\anaconda\\lib\\site-packages (7.5.1)\n",
      "Requirement already satisfied: ipykernel>=4.5.1 in d:\\desenvolvimento\\anaconda\\lib\\site-packages (from ipywidgets) (5.1.2)\n",
      "Requirement already satisfied: traitlets>=4.3.1 in d:\\desenvolvimento\\anaconda\\lib\\site-packages (from ipywidgets) (4.3.3)\n",
      "Requirement already satisfied: widgetsnbextension~=3.5.0 in d:\\desenvolvimento\\anaconda\\lib\\site-packages (from ipywidgets) (3.5.1)\n",
      "Requirement already satisfied: ipython>=4.0.0; python_version >= \"3.3\" in d:\\desenvolvimento\\anaconda\\lib\\site-packages (from ipywidgets) (7.8.0)\n",
      "Requirement already satisfied: nbformat>=4.2.0 in d:\\desenvolvimento\\anaconda\\lib\\site-packages (from ipywidgets) (4.4.0)\n",
      "Requirement already satisfied: tornado>=4.2 in d:\\desenvolvimento\\anaconda\\lib\\site-packages (from ipykernel>=4.5.1->ipywidgets) (6.0.3)\n",
      "Requirement already satisfied: jupyter-client in d:\\desenvolvimento\\anaconda\\lib\\site-packages (from ipykernel>=4.5.1->ipywidgets) (5.3.3)\n",
      "Requirement already satisfied: ipython-genutils in d:\\desenvolvimento\\anaconda\\lib\\site-packages (from traitlets>=4.3.1->ipywidgets) (0.2.0)\n",
      "Requirement already satisfied: six in d:\\desenvolvimento\\anaconda\\lib\\site-packages (from traitlets>=4.3.1->ipywidgets) (1.12.0)\n",
      "Requirement already satisfied: decorator in d:\\desenvolvimento\\anaconda\\lib\\site-packages (from traitlets>=4.3.1->ipywidgets) (4.4.0)\n",
      "Requirement already satisfied: notebook>=4.4.1 in d:\\desenvolvimento\\anaconda\\lib\\site-packages (from widgetsnbextension~=3.5.0->ipywidgets) (6.0.1)\n",
      "Requirement already satisfied: prompt-toolkit<2.1.0,>=2.0.0 in d:\\desenvolvimento\\anaconda\\lib\\site-packages (from ipython>=4.0.0; python_version >= \"3.3\"->ipywidgets) (2.0.10)\n",
      "Requirement already satisfied: colorama; sys_platform == \"win32\" in d:\\desenvolvimento\\anaconda\\lib\\site-packages (from ipython>=4.0.0; python_version >= \"3.3\"->ipywidgets) (0.4.1)\n",
      "Requirement already satisfied: jedi>=0.10 in d:\\desenvolvimento\\anaconda\\lib\\site-packages (from ipython>=4.0.0; python_version >= \"3.3\"->ipywidgets) (0.15.1)\n",
      "Requirement already satisfied: pickleshare in d:\\desenvolvimento\\anaconda\\lib\\site-packages (from ipython>=4.0.0; python_version >= \"3.3\"->ipywidgets) (0.7.5)\n",
      "Requirement already satisfied: backcall in d:\\desenvolvimento\\anaconda\\lib\\site-packages (from ipython>=4.0.0; python_version >= \"3.3\"->ipywidgets) (0.1.0)\n",
      "Requirement already satisfied: setuptools>=18.5 in d:\\desenvolvimento\\anaconda\\lib\\site-packages (from ipython>=4.0.0; python_version >= \"3.3\"->ipywidgets) (41.4.0)\n",
      "Requirement already satisfied: pygments in d:\\desenvolvimento\\anaconda\\lib\\site-packages (from ipython>=4.0.0; python_version >= \"3.3\"->ipywidgets) (2.4.2)\n",
      "Requirement already satisfied: jsonschema!=2.5.0,>=2.4 in d:\\desenvolvimento\\anaconda\\lib\\site-packages (from nbformat>=4.2.0->ipywidgets) (3.0.2)\n",
      "Requirement already satisfied: jupyter-core in d:\\desenvolvimento\\anaconda\\lib\\site-packages (from nbformat>=4.2.0->ipywidgets) (4.5.0)\n",
      "Requirement already satisfied: pyzmq>=13 in d:\\desenvolvimento\\anaconda\\lib\\site-packages (from jupyter-client->ipykernel>=4.5.1->ipywidgets) (18.1.0)\n",
      "Requirement already satisfied: python-dateutil>=2.1 in d:\\desenvolvimento\\anaconda\\lib\\site-packages (from jupyter-client->ipykernel>=4.5.1->ipywidgets) (2.8.0)\n",
      "Requirement already satisfied: pywin32>=1.0; sys_platform == \"win32\" in d:\\desenvolvimento\\anaconda\\lib\\site-packages (from jupyter-client->ipykernel>=4.5.1->ipywidgets) (223)\n",
      "Requirement already satisfied: nbconvert in d:\\desenvolvimento\\anaconda\\lib\\site-packages (from notebook>=4.4.1->widgetsnbextension~=3.5.0->ipywidgets) (5.6.0)\n",
      "Requirement already satisfied: terminado>=0.8.1 in d:\\desenvolvimento\\anaconda\\lib\\site-packages (from notebook>=4.4.1->widgetsnbextension~=3.5.0->ipywidgets) (0.8.2)\n",
      "Requirement already satisfied: jinja2 in d:\\desenvolvimento\\anaconda\\lib\\site-packages (from notebook>=4.4.1->widgetsnbextension~=3.5.0->ipywidgets) (2.10.3)\n",
      "Requirement already satisfied: prometheus-client in d:\\desenvolvimento\\anaconda\\lib\\site-packages (from notebook>=4.4.1->widgetsnbextension~=3.5.0->ipywidgets) (0.7.1)\n",
      "Requirement already satisfied: Send2Trash in d:\\desenvolvimento\\anaconda\\lib\\site-packages (from notebook>=4.4.1->widgetsnbextension~=3.5.0->ipywidgets) (1.5.0)\n",
      "Requirement already satisfied: wcwidth in d:\\desenvolvimento\\anaconda\\lib\\site-packages (from prompt-toolkit<2.1.0,>=2.0.0->ipython>=4.0.0; python_version >= \"3.3\"->ipywidgets) (0.1.7)\n",
      "Requirement already satisfied: parso>=0.5.0 in d:\\desenvolvimento\\anaconda\\lib\\site-packages (from jedi>=0.10->ipython>=4.0.0; python_version >= \"3.3\"->ipywidgets) (0.5.1)\n",
      "Requirement already satisfied: attrs>=17.4.0 in d:\\desenvolvimento\\anaconda\\lib\\site-packages (from jsonschema!=2.5.0,>=2.4->nbformat>=4.2.0->ipywidgets) (19.2.0)\n",
      "Requirement already satisfied: pyrsistent>=0.14.0 in d:\\desenvolvimento\\anaconda\\lib\\site-packages (from jsonschema!=2.5.0,>=2.4->nbformat>=4.2.0->ipywidgets) (0.15.4)\n",
      "Requirement already satisfied: pandocfilters>=1.4.1 in d:\\desenvolvimento\\anaconda\\lib\\site-packages (from nbconvert->notebook>=4.4.1->widgetsnbextension~=3.5.0->ipywidgets) (1.4.2)\n",
      "Requirement already satisfied: testpath in d:\\desenvolvimento\\anaconda\\lib\\site-packages (from nbconvert->notebook>=4.4.1->widgetsnbextension~=3.5.0->ipywidgets) (0.4.2)\n",
      "Requirement already satisfied: defusedxml in d:\\desenvolvimento\\anaconda\\lib\\site-packages (from nbconvert->notebook>=4.4.1->widgetsnbextension~=3.5.0->ipywidgets) (0.6.0)\n",
      "Requirement already satisfied: entrypoints>=0.2.2 in d:\\desenvolvimento\\anaconda\\lib\\site-packages (from nbconvert->notebook>=4.4.1->widgetsnbextension~=3.5.0->ipywidgets) (0.3)\n",
      "Requirement already satisfied: mistune<2,>=0.8.1 in d:\\desenvolvimento\\anaconda\\lib\\site-packages (from nbconvert->notebook>=4.4.1->widgetsnbextension~=3.5.0->ipywidgets) (0.8.4)\n",
      "Requirement already satisfied: bleach in d:\\desenvolvimento\\anaconda\\lib\\site-packages (from nbconvert->notebook>=4.4.1->widgetsnbextension~=3.5.0->ipywidgets) (3.1.0)\n",
      "Requirement already satisfied: MarkupSafe>=0.23 in d:\\desenvolvimento\\anaconda\\lib\\site-packages (from jinja2->notebook>=4.4.1->widgetsnbextension~=3.5.0->ipywidgets) (1.1.1)\n",
      "Requirement already satisfied: webencodings in d:\\desenvolvimento\\anaconda\\lib\\site-packages (from bleach->nbconvert->notebook>=4.4.1->widgetsnbextension~=3.5.0->ipywidgets) (0.5.1)\n"
     ]
    }
   ],
   "source": [
    "!pip install ipywidgets"
   ]
  },
  {
   "cell_type": "markdown",
   "metadata": {},
   "source": [
    "**Bibliotecas para visualização da arvore de decisão**"
   ]
  },
  {
   "cell_type": "code",
   "execution_count": 24,
   "metadata": {},
   "outputs": [
    {
     "name": "stdout",
     "output_type": "stream",
     "text": [
      "Requirement already satisfied: pydot in d:\\desenvolvimento\\anaconda\\lib\\site-packages (1.4.1)\n",
      "Requirement already satisfied: pyparsing>=2.1.4 in d:\\desenvolvimento\\anaconda\\lib\\site-packages (from pydot) (2.4.2)\n"
     ]
    }
   ],
   "source": [
    "!pip install pydot"
   ]
  },
  {
   "cell_type": "code",
   "execution_count": 25,
   "metadata": {},
   "outputs": [
    {
     "name": "stdout",
     "output_type": "stream",
     "text": [
      "Requirement already satisfied: graphviz in d:\\desenvolvimento\\anaconda\\lib\\site-packages (0.13.2)\n"
     ]
    }
   ],
   "source": [
    "!pip install graphviz"
   ]
  },
  {
   "cell_type": "markdown",
   "metadata": {},
   "source": [
    "**Importando as bibliotecas instaladas**"
   ]
  },
  {
   "cell_type": "code",
   "execution_count": 26,
   "metadata": {},
   "outputs": [],
   "source": [
    "import pydot\n",
    "import graphviz\n",
    "from ipywidgets import interactive"
   ]
  },
  {
   "cell_type": "markdown",
   "metadata": {},
   "source": [
    "**Visualizando de forma gráfica a arvore gerada**"
   ]
  },
  {
   "cell_type": "code",
   "execution_count": 27,
   "metadata": {},
   "outputs": [
    {
     "data": {
      "image/svg+xml": [
       "<?xml version=\"1.0\" encoding=\"UTF-8\" standalone=\"no\"?>\r\n",
       "<!DOCTYPE svg PUBLIC \"-//W3C//DTD SVG 1.1//EN\"\r\n",
       " \"http://www.w3.org/Graphics/SVG/1.1/DTD/svg11.dtd\">\r\n",
       "<!-- Generated by graphviz version 2.38.0 (20140413.2041)\r\n",
       " -->\r\n",
       "<!-- Title: Tree Pages: 1 -->\r\n",
       "<svg width=\"1009pt\" height=\"627pt\"\r\n",
       " viewBox=\"0.00 0.00 1009.00 627.00\" xmlns=\"http://www.w3.org/2000/svg\" xmlns:xlink=\"http://www.w3.org/1999/xlink\">\r\n",
       "<g id=\"graph0\" class=\"graph\" transform=\"scale(1 1) rotate(0) translate(4 623)\">\r\n",
       "<title>Tree</title>\r\n",
       "<polygon fill=\"white\" stroke=\"none\" points=\"-4,4 -4,-623 1005,-623 1005,4 -4,4\"/>\r\n",
       "<!-- 0 -->\r\n",
       "<g id=\"node1\" class=\"node\"><title>0</title>\r\n",
       "<path fill=\"#f6f1fd\" stroke=\"black\" d=\"M609.5,-619C609.5,-619 435.5,-619 435.5,-619 429.5,-619 423.5,-613 423.5,-607 423.5,-607 423.5,-533 423.5,-533 423.5,-527 429.5,-521 435.5,-521 435.5,-521 609.5,-521 609.5,-521 615.5,-521 621.5,-527 621.5,-533 621.5,-533 621.5,-607 621.5,-607 621.5,-613 615.5,-619 609.5,-619\"/>\r\n",
       "<text text-anchor=\"start\" x=\"496\" y=\"-603.8\" font-family=\"Helvetica,sans-Serif\" font-size=\"14.00\">node #0</text>\r\n",
       "<text text-anchor=\"start\" x=\"455\" y=\"-588.8\" font-family=\"Helvetica,sans-Serif\" font-size=\"14.00\">petal width (cm) ≤ 0.8</text>\r\n",
       "<text text-anchor=\"start\" x=\"485\" y=\"-573.8\" font-family=\"Helvetica,sans-Serif\" font-size=\"14.00\">gini = 0.664</text>\r\n",
       "<text text-anchor=\"start\" x=\"462.5\" y=\"-558.8\" font-family=\"Helvetica,sans-Serif\" font-size=\"14.00\">samples = 100.0%</text>\r\n",
       "<text text-anchor=\"start\" x=\"431.5\" y=\"-543.8\" font-family=\"Helvetica,sans-Serif\" font-size=\"14.00\">value = [0.305, 0.324, 0.371]</text>\r\n",
       "<text text-anchor=\"start\" x=\"472.5\" y=\"-528.8\" font-family=\"Helvetica,sans-Serif\" font-size=\"14.00\">class = virginica</text>\r\n",
       "</g>\r\n",
       "<!-- 1 -->\r\n",
       "<g id=\"node2\" class=\"node\"><title>1</title>\r\n",
       "<path fill=\"#e58139\" stroke=\"black\" d=\"M493,-477.5C493,-477.5 368,-477.5 368,-477.5 362,-477.5 356,-471.5 356,-465.5 356,-465.5 356,-406.5 356,-406.5 356,-400.5 362,-394.5 368,-394.5 368,-394.5 493,-394.5 493,-394.5 499,-394.5 505,-400.5 505,-406.5 505,-406.5 505,-465.5 505,-465.5 505,-471.5 499,-477.5 493,-477.5\"/>\r\n",
       "<text text-anchor=\"start\" x=\"404\" y=\"-462.3\" font-family=\"Helvetica,sans-Serif\" font-size=\"14.00\">node #1</text>\r\n",
       "<text text-anchor=\"start\" x=\"401.5\" y=\"-447.3\" font-family=\"Helvetica,sans-Serif\" font-size=\"14.00\">gini = 0.0</text>\r\n",
       "<text text-anchor=\"start\" x=\"374.5\" y=\"-432.3\" font-family=\"Helvetica,sans-Serif\" font-size=\"14.00\">samples = 30.5%</text>\r\n",
       "<text text-anchor=\"start\" x=\"364\" y=\"-417.3\" font-family=\"Helvetica,sans-Serif\" font-size=\"14.00\">value = [1.0, 0.0, 0.0]</text>\r\n",
       "<text text-anchor=\"start\" x=\"384.5\" y=\"-402.3\" font-family=\"Helvetica,sans-Serif\" font-size=\"14.00\">class = setosa</text>\r\n",
       "</g>\r\n",
       "<!-- 0&#45;&gt;1 -->\r\n",
       "<g id=\"edge1\" class=\"edge\"><title>0&#45;&gt;1</title>\r\n",
       "<path fill=\"none\" stroke=\"black\" d=\"M489.026,-520.972C481.165,-509.693 472.776,-497.657 464.876,-486.323\"/>\r\n",
       "<polygon fill=\"black\" stroke=\"black\" points=\"467.537,-484.019 458.948,-477.817 461.794,-488.022 467.537,-484.019\"/>\r\n",
       "<text text-anchor=\"middle\" x=\"454.553\" y=\"-498.727\" font-family=\"Helvetica,sans-Serif\" font-size=\"14.00\">True</text>\r\n",
       "</g>\r\n",
       "<!-- 2 -->\r\n",
       "<g id=\"node3\" class=\"node\"><title>2</title>\r\n",
       "<path fill=\"#efe6fc\" stroke=\"black\" d=\"M693.5,-485C693.5,-485 535.5,-485 535.5,-485 529.5,-485 523.5,-479 523.5,-473 523.5,-473 523.5,-399 523.5,-399 523.5,-393 529.5,-387 535.5,-387 535.5,-387 693.5,-387 693.5,-387 699.5,-387 705.5,-393 705.5,-399 705.5,-399 705.5,-473 705.5,-473 705.5,-479 699.5,-485 693.5,-485\"/>\r\n",
       "<text text-anchor=\"start\" x=\"588\" y=\"-469.8\" font-family=\"Helvetica,sans-Serif\" font-size=\"14.00\">node #2</text>\r\n",
       "<text text-anchor=\"start\" x=\"543\" y=\"-454.8\" font-family=\"Helvetica,sans-Serif\" font-size=\"14.00\">petal width (cm) ≤ 1.75</text>\r\n",
       "<text text-anchor=\"start\" x=\"577\" y=\"-439.8\" font-family=\"Helvetica,sans-Serif\" font-size=\"14.00\">gini = 0.498</text>\r\n",
       "<text text-anchor=\"start\" x=\"558.5\" y=\"-424.8\" font-family=\"Helvetica,sans-Serif\" font-size=\"14.00\">samples = 69.5%</text>\r\n",
       "<text text-anchor=\"start\" x=\"531.5\" y=\"-409.8\" font-family=\"Helvetica,sans-Serif\" font-size=\"14.00\">value = [0.0, 0.466, 0.534]</text>\r\n",
       "<text text-anchor=\"start\" x=\"564.5\" y=\"-394.8\" font-family=\"Helvetica,sans-Serif\" font-size=\"14.00\">class = virginica</text>\r\n",
       "</g>\r\n",
       "<!-- 0&#45;&gt;2 -->\r\n",
       "<g id=\"edge2\" class=\"edge\"><title>0&#45;&gt;2</title>\r\n",
       "<path fill=\"none\" stroke=\"black\" d=\"M555.974,-520.972C562.189,-512.054 568.735,-502.663 575.107,-493.52\"/>\r\n",
       "<polygon fill=\"black\" stroke=\"black\" points=\"578.05,-495.419 580.896,-485.214 572.307,-491.417 578.05,-495.419\"/>\r\n",
       "<text text-anchor=\"middle\" x=\"585.291\" y=\"-506.125\" font-family=\"Helvetica,sans-Serif\" font-size=\"14.00\">False</text>\r\n",
       "</g>\r\n",
       "<!-- 3 -->\r\n",
       "<g id=\"node4\" class=\"node\"><title>3</title>\r\n",
       "<path fill=\"#51e890\" stroke=\"black\" d=\"M565.5,-351C565.5,-351 407.5,-351 407.5,-351 401.5,-351 395.5,-345 395.5,-339 395.5,-339 395.5,-265 395.5,-265 395.5,-259 401.5,-253 407.5,-253 407.5,-253 565.5,-253 565.5,-253 571.5,-253 577.5,-259 577.5,-265 577.5,-265 577.5,-339 577.5,-339 577.5,-345 571.5,-351 565.5,-351\"/>\r\n",
       "<text text-anchor=\"start\" x=\"460\" y=\"-335.8\" font-family=\"Helvetica,sans-Serif\" font-size=\"14.00\">node #3</text>\r\n",
       "<text text-anchor=\"start\" x=\"412\" y=\"-320.8\" font-family=\"Helvetica,sans-Serif\" font-size=\"14.00\">petal length (cm) ≤ 4.95</text>\r\n",
       "<text text-anchor=\"start\" x=\"449\" y=\"-305.8\" font-family=\"Helvetica,sans-Serif\" font-size=\"14.00\">gini = 0.193</text>\r\n",
       "<text text-anchor=\"start\" x=\"430.5\" y=\"-290.8\" font-family=\"Helvetica,sans-Serif\" font-size=\"14.00\">samples = 35.2%</text>\r\n",
       "<text text-anchor=\"start\" x=\"403.5\" y=\"-275.8\" font-family=\"Helvetica,sans-Serif\" font-size=\"14.00\">value = [0.0, 0.892, 0.108]</text>\r\n",
       "<text text-anchor=\"start\" x=\"431\" y=\"-260.8\" font-family=\"Helvetica,sans-Serif\" font-size=\"14.00\">class = versicolor</text>\r\n",
       "</g>\r\n",
       "<!-- 2&#45;&gt;3 -->\r\n",
       "<g id=\"edge3\" class=\"edge\"><title>2&#45;&gt;3</title>\r\n",
       "<path fill=\"none\" stroke=\"black\" d=\"M567.927,-386.972C558.927,-377.69 549.429,-367.896 540.223,-358.402\"/>\r\n",
       "<polygon fill=\"black\" stroke=\"black\" points=\"542.727,-355.956 533.253,-351.214 537.702,-360.829 542.727,-355.956\"/>\r\n",
       "</g>\r\n",
       "<!-- 10 -->\r\n",
       "<g id=\"node11\" class=\"node\"><title>10</title>\r\n",
       "<path fill=\"#853fe6\" stroke=\"black\" d=\"M821.5,-351C821.5,-351 663.5,-351 663.5,-351 657.5,-351 651.5,-345 651.5,-339 651.5,-339 651.5,-265 651.5,-265 651.5,-259 657.5,-253 663.5,-253 663.5,-253 821.5,-253 821.5,-253 827.5,-253 833.5,-259 833.5,-265 833.5,-265 833.5,-339 833.5,-339 833.5,-345 827.5,-351 821.5,-351\"/>\r\n",
       "<text text-anchor=\"start\" x=\"712\" y=\"-335.8\" font-family=\"Helvetica,sans-Serif\" font-size=\"14.00\">node #10</text>\r\n",
       "<text text-anchor=\"start\" x=\"668\" y=\"-320.8\" font-family=\"Helvetica,sans-Serif\" font-size=\"14.00\">petal length (cm) ≤ 4.85</text>\r\n",
       "<text text-anchor=\"start\" x=\"705\" y=\"-305.8\" font-family=\"Helvetica,sans-Serif\" font-size=\"14.00\">gini = 0.054</text>\r\n",
       "<text text-anchor=\"start\" x=\"686.5\" y=\"-290.8\" font-family=\"Helvetica,sans-Serif\" font-size=\"14.00\">samples = 34.3%</text>\r\n",
       "<text text-anchor=\"start\" x=\"659.5\" y=\"-275.8\" font-family=\"Helvetica,sans-Serif\" font-size=\"14.00\">value = [0.0, 0.028, 0.972]</text>\r\n",
       "<text text-anchor=\"start\" x=\"692.5\" y=\"-260.8\" font-family=\"Helvetica,sans-Serif\" font-size=\"14.00\">class = virginica</text>\r\n",
       "</g>\r\n",
       "<!-- 2&#45;&gt;10 -->\r\n",
       "<g id=\"edge10\" class=\"edge\"><title>2&#45;&gt;10</title>\r\n",
       "<path fill=\"none\" stroke=\"black\" d=\"M661.073,-386.972C670.073,-377.69 679.571,-367.896 688.777,-358.402\"/>\r\n",
       "<polygon fill=\"black\" stroke=\"black\" points=\"691.298,-360.829 695.747,-351.214 686.273,-355.956 691.298,-360.829\"/>\r\n",
       "</g>\r\n",
       "<!-- 4 -->\r\n",
       "<g id=\"node5\" class=\"node\"><title>4</title>\r\n",
       "<path fill=\"#3fe685\" stroke=\"black\" d=\"M320.5,-217C320.5,-217 162.5,-217 162.5,-217 156.5,-217 150.5,-211 150.5,-205 150.5,-205 150.5,-131 150.5,-131 150.5,-125 156.5,-119 162.5,-119 162.5,-119 320.5,-119 320.5,-119 326.5,-119 332.5,-125 332.5,-131 332.5,-131 332.5,-205 332.5,-205 332.5,-211 326.5,-217 320.5,-217\"/>\r\n",
       "<text text-anchor=\"start\" x=\"215\" y=\"-201.8\" font-family=\"Helvetica,sans-Serif\" font-size=\"14.00\">node #4</text>\r\n",
       "<text text-anchor=\"start\" x=\"165\" y=\"-186.8\" font-family=\"Helvetica,sans-Serif\" font-size=\"14.00\">sepal length (cm) ≤ 4.95</text>\r\n",
       "<text text-anchor=\"start\" x=\"204\" y=\"-171.8\" font-family=\"Helvetica,sans-Serif\" font-size=\"14.00\">gini = 0.061</text>\r\n",
       "<text text-anchor=\"start\" x=\"185.5\" y=\"-156.8\" font-family=\"Helvetica,sans-Serif\" font-size=\"14.00\">samples = 30.5%</text>\r\n",
       "<text text-anchor=\"start\" x=\"158.5\" y=\"-141.8\" font-family=\"Helvetica,sans-Serif\" font-size=\"14.00\">value = [0.0, 0.969, 0.031]</text>\r\n",
       "<text text-anchor=\"start\" x=\"186\" y=\"-126.8\" font-family=\"Helvetica,sans-Serif\" font-size=\"14.00\">class = versicolor</text>\r\n",
       "</g>\r\n",
       "<!-- 3&#45;&gt;4 -->\r\n",
       "<g id=\"edge4\" class=\"edge\"><title>3&#45;&gt;4</title>\r\n",
       "<path fill=\"none\" stroke=\"black\" d=\"M397.356,-252.972C378.694,-242.917 358.914,-232.26 339.937,-222.035\"/>\r\n",
       "<polygon fill=\"black\" stroke=\"black\" points=\"341.452,-218.876 330.988,-217.214 338.131,-225.038 341.452,-218.876\"/>\r\n",
       "</g>\r\n",
       "<!-- 7 -->\r\n",
       "<g id=\"node8\" class=\"node\"><title>7</title>\r\n",
       "<path fill=\"#d5bdf6\" stroke=\"black\" d=\"M554,-217C554,-217 419,-217 419,-217 413,-217 407,-211 407,-205 407,-205 407,-131 407,-131 407,-125 413,-119 419,-119 419,-119 554,-119 554,-119 560,-119 566,-125 566,-131 566,-131 566,-205 566,-205 566,-211 560,-217 554,-217\"/>\r\n",
       "<text text-anchor=\"start\" x=\"460\" y=\"-201.8\" font-family=\"Helvetica,sans-Serif\" font-size=\"14.00\">node #7</text>\r\n",
       "<text text-anchor=\"start\" x=\"415\" y=\"-186.8\" font-family=\"Helvetica,sans-Serif\" font-size=\"14.00\">petal width (cm) ≤ 1.55</text>\r\n",
       "<text text-anchor=\"start\" x=\"453\" y=\"-171.8\" font-family=\"Helvetica,sans-Serif\" font-size=\"14.00\">gini = 0.48</text>\r\n",
       "<text text-anchor=\"start\" x=\"435\" y=\"-156.8\" font-family=\"Helvetica,sans-Serif\" font-size=\"14.00\">samples = 4.8%</text>\r\n",
       "<text text-anchor=\"start\" x=\"420\" y=\"-141.8\" font-family=\"Helvetica,sans-Serif\" font-size=\"14.00\">value = [0.0, 0.4, 0.6]</text>\r\n",
       "<text text-anchor=\"start\" x=\"436.5\" y=\"-126.8\" font-family=\"Helvetica,sans-Serif\" font-size=\"14.00\">class = virginica</text>\r\n",
       "</g>\r\n",
       "<!-- 3&#45;&gt;7 -->\r\n",
       "<g id=\"edge7\" class=\"edge\"><title>3&#45;&gt;7</title>\r\n",
       "<path fill=\"none\" stroke=\"black\" d=\"M486.5,-252.972C486.5,-244.691 486.5,-236.003 486.5,-227.483\"/>\r\n",
       "<polygon fill=\"black\" stroke=\"black\" points=\"490,-227.214 486.5,-217.214 483,-227.214 490,-227.214\"/>\r\n",
       "</g>\r\n",
       "<!-- 5 -->\r\n",
       "<g id=\"node6\" class=\"node\"><title>5</title>\r\n",
       "<path fill=\"#8139e5\" stroke=\"black\" d=\"M137,-83C137,-83 12,-83 12,-83 6,-83 0,-77 0,-71 0,-71 0,-12 0,-12 0,-6 6,-0 12,-0 12,-0 137,-0 137,-0 143,-0 149,-6 149,-12 149,-12 149,-71 149,-71 149,-77 143,-83 137,-83\"/>\r\n",
       "<text text-anchor=\"start\" x=\"48\" y=\"-67.8\" font-family=\"Helvetica,sans-Serif\" font-size=\"14.00\">node #5</text>\r\n",
       "<text text-anchor=\"start\" x=\"45.5\" y=\"-52.8\" font-family=\"Helvetica,sans-Serif\" font-size=\"14.00\">gini = 0.0</text>\r\n",
       "<text text-anchor=\"start\" x=\"23\" y=\"-37.8\" font-family=\"Helvetica,sans-Serif\" font-size=\"14.00\">samples = 1.0%</text>\r\n",
       "<text text-anchor=\"start\" x=\"8\" y=\"-22.8\" font-family=\"Helvetica,sans-Serif\" font-size=\"14.00\">value = [0.0, 0.0, 1.0]</text>\r\n",
       "<text text-anchor=\"start\" x=\"24.5\" y=\"-7.8\" font-family=\"Helvetica,sans-Serif\" font-size=\"14.00\">class = virginica</text>\r\n",
       "</g>\r\n",
       "<!-- 4&#45;&gt;5 -->\r\n",
       "<g id=\"edge5\" class=\"edge\"><title>4&#45;&gt;5</title>\r\n",
       "<path fill=\"none\" stroke=\"black\" d=\"M176.933,-118.865C163.784,-109.062 149.973,-98.7658 136.9,-89.0201\"/>\r\n",
       "<polygon fill=\"black\" stroke=\"black\" points=\"138.978,-86.2034 128.869,-83.0325 134.794,-91.8155 138.978,-86.2034\"/>\r\n",
       "</g>\r\n",
       "<!-- 6 -->\r\n",
       "<g id=\"node7\" class=\"node\"><title>6</title>\r\n",
       "<path fill=\"#39e581\" stroke=\"black\" d=\"M304,-83C304,-83 179,-83 179,-83 173,-83 167,-77 167,-71 167,-71 167,-12 167,-12 167,-6 173,-0 179,-0 179,-0 304,-0 304,-0 310,-0 316,-6 316,-12 316,-12 316,-71 316,-71 316,-77 310,-83 304,-83\"/>\r\n",
       "<text text-anchor=\"start\" x=\"215\" y=\"-67.8\" font-family=\"Helvetica,sans-Serif\" font-size=\"14.00\">node #6</text>\r\n",
       "<text text-anchor=\"start\" x=\"212.5\" y=\"-52.8\" font-family=\"Helvetica,sans-Serif\" font-size=\"14.00\">gini = 0.0</text>\r\n",
       "<text text-anchor=\"start\" x=\"185.5\" y=\"-37.8\" font-family=\"Helvetica,sans-Serif\" font-size=\"14.00\">samples = 29.5%</text>\r\n",
       "<text text-anchor=\"start\" x=\"175\" y=\"-22.8\" font-family=\"Helvetica,sans-Serif\" font-size=\"14.00\">value = [0.0, 1.0, 0.0]</text>\r\n",
       "<text text-anchor=\"start\" x=\"186\" y=\"-7.8\" font-family=\"Helvetica,sans-Serif\" font-size=\"14.00\">class = versicolor</text>\r\n",
       "</g>\r\n",
       "<!-- 4&#45;&gt;6 -->\r\n",
       "<g id=\"edge6\" class=\"edge\"><title>4&#45;&gt;6</title>\r\n",
       "<path fill=\"none\" stroke=\"black\" d=\"M241.5,-118.865C241.5,-110.498 241.5,-101.771 241.5,-93.3346\"/>\r\n",
       "<polygon fill=\"black\" stroke=\"black\" points=\"245,-93.2309 241.5,-83.231 238,-93.231 245,-93.2309\"/>\r\n",
       "</g>\r\n",
       "<!-- 8 -->\r\n",
       "<g id=\"node9\" class=\"node\"><title>8</title>\r\n",
       "<path fill=\"#8139e5\" stroke=\"black\" d=\"M471,-83C471,-83 346,-83 346,-83 340,-83 334,-77 334,-71 334,-71 334,-12 334,-12 334,-6 340,-0 346,-0 346,-0 471,-0 471,-0 477,-0 483,-6 483,-12 483,-12 483,-71 483,-71 483,-77 477,-83 471,-83\"/>\r\n",
       "<text text-anchor=\"start\" x=\"382\" y=\"-67.8\" font-family=\"Helvetica,sans-Serif\" font-size=\"14.00\">node #8</text>\r\n",
       "<text text-anchor=\"start\" x=\"379.5\" y=\"-52.8\" font-family=\"Helvetica,sans-Serif\" font-size=\"14.00\">gini = 0.0</text>\r\n",
       "<text text-anchor=\"start\" x=\"357\" y=\"-37.8\" font-family=\"Helvetica,sans-Serif\" font-size=\"14.00\">samples = 2.9%</text>\r\n",
       "<text text-anchor=\"start\" x=\"342\" y=\"-22.8\" font-family=\"Helvetica,sans-Serif\" font-size=\"14.00\">value = [0.0, 0.0, 1.0]</text>\r\n",
       "<text text-anchor=\"start\" x=\"358.5\" y=\"-7.8\" font-family=\"Helvetica,sans-Serif\" font-size=\"14.00\">class = virginica</text>\r\n",
       "</g>\r\n",
       "<!-- 7&#45;&gt;8 -->\r\n",
       "<g id=\"edge8\" class=\"edge\"><title>7&#45;&gt;8</title>\r\n",
       "<path fill=\"none\" stroke=\"black\" d=\"M456.343,-118.865C450.813,-110.038 445.032,-100.811 439.479,-91.9467\"/>\r\n",
       "<polygon fill=\"black\" stroke=\"black\" points=\"442.293,-89.847 434.018,-83.231 436.361,-93.5634 442.293,-89.847\"/>\r\n",
       "</g>\r\n",
       "<!-- 9 -->\r\n",
       "<g id=\"node10\" class=\"node\"><title>9</title>\r\n",
       "<path fill=\"#39e581\" stroke=\"black\" d=\"M638,-83C638,-83 513,-83 513,-83 507,-83 501,-77 501,-71 501,-71 501,-12 501,-12 501,-6 507,-0 513,-0 513,-0 638,-0 638,-0 644,-0 650,-6 650,-12 650,-12 650,-71 650,-71 650,-77 644,-83 638,-83\"/>\r\n",
       "<text text-anchor=\"start\" x=\"549\" y=\"-67.8\" font-family=\"Helvetica,sans-Serif\" font-size=\"14.00\">node #9</text>\r\n",
       "<text text-anchor=\"start\" x=\"546.5\" y=\"-52.8\" font-family=\"Helvetica,sans-Serif\" font-size=\"14.00\">gini = 0.0</text>\r\n",
       "<text text-anchor=\"start\" x=\"524\" y=\"-37.8\" font-family=\"Helvetica,sans-Serif\" font-size=\"14.00\">samples = 1.9%</text>\r\n",
       "<text text-anchor=\"start\" x=\"509\" y=\"-22.8\" font-family=\"Helvetica,sans-Serif\" font-size=\"14.00\">value = [0.0, 1.0, 0.0]</text>\r\n",
       "<text text-anchor=\"start\" x=\"520\" y=\"-7.8\" font-family=\"Helvetica,sans-Serif\" font-size=\"14.00\">class = versicolor</text>\r\n",
       "</g>\r\n",
       "<!-- 7&#45;&gt;9 -->\r\n",
       "<g id=\"edge9\" class=\"edge\"><title>7&#45;&gt;9</title>\r\n",
       "<path fill=\"none\" stroke=\"black\" d=\"M520.91,-118.865C527.351,-109.854 534.091,-100.427 540.548,-91.3931\"/>\r\n",
       "<polygon fill=\"black\" stroke=\"black\" points=\"543.415,-93.4015 546.383,-83.231 537.72,-89.3307 543.415,-93.4015\"/>\r\n",
       "</g>\r\n",
       "<!-- 11 -->\r\n",
       "<g id=\"node12\" class=\"node\"><title>11</title>\r\n",
       "<path fill=\"#c09cf2\" stroke=\"black\" d=\"M821.5,-217C821.5,-217 663.5,-217 663.5,-217 657.5,-217 651.5,-211 651.5,-205 651.5,-205 651.5,-131 651.5,-131 651.5,-125 657.5,-119 663.5,-119 663.5,-119 821.5,-119 821.5,-119 827.5,-119 833.5,-125 833.5,-131 833.5,-131 833.5,-205 833.5,-205 833.5,-211 827.5,-217 821.5,-217\"/>\r\n",
       "<text text-anchor=\"start\" x=\"712\" y=\"-201.8\" font-family=\"Helvetica,sans-Serif\" font-size=\"14.00\">node #11</text>\r\n",
       "<text text-anchor=\"start\" x=\"673\" y=\"-186.8\" font-family=\"Helvetica,sans-Serif\" font-size=\"14.00\">sepal width (cm) ≤ 3.1</text>\r\n",
       "<text text-anchor=\"start\" x=\"705\" y=\"-171.8\" font-family=\"Helvetica,sans-Serif\" font-size=\"14.00\">gini = 0.444</text>\r\n",
       "<text text-anchor=\"start\" x=\"691\" y=\"-156.8\" font-family=\"Helvetica,sans-Serif\" font-size=\"14.00\">samples = 2.9%</text>\r\n",
       "<text text-anchor=\"start\" x=\"659.5\" y=\"-141.8\" font-family=\"Helvetica,sans-Serif\" font-size=\"14.00\">value = [0.0, 0.333, 0.667]</text>\r\n",
       "<text text-anchor=\"start\" x=\"692.5\" y=\"-126.8\" font-family=\"Helvetica,sans-Serif\" font-size=\"14.00\">class = virginica</text>\r\n",
       "</g>\r\n",
       "<!-- 10&#45;&gt;11 -->\r\n",
       "<g id=\"edge11\" class=\"edge\"><title>10&#45;&gt;11</title>\r\n",
       "<path fill=\"none\" stroke=\"black\" d=\"M742.5,-252.972C742.5,-244.691 742.5,-236.003 742.5,-227.483\"/>\r\n",
       "<polygon fill=\"black\" stroke=\"black\" points=\"746,-227.214 742.5,-217.214 739,-227.214 746,-227.214\"/>\r\n",
       "</g>\r\n",
       "<!-- 14 -->\r\n",
       "<g id=\"node15\" class=\"node\"><title>14</title>\r\n",
       "<path fill=\"#8139e5\" stroke=\"black\" d=\"M989,-209.5C989,-209.5 864,-209.5 864,-209.5 858,-209.5 852,-203.5 852,-197.5 852,-197.5 852,-138.5 852,-138.5 852,-132.5 858,-126.5 864,-126.5 864,-126.5 989,-126.5 989,-126.5 995,-126.5 1001,-132.5 1001,-138.5 1001,-138.5 1001,-197.5 1001,-197.5 1001,-203.5 995,-209.5 989,-209.5\"/>\r\n",
       "<text text-anchor=\"start\" x=\"896\" y=\"-194.3\" font-family=\"Helvetica,sans-Serif\" font-size=\"14.00\">node #14</text>\r\n",
       "<text text-anchor=\"start\" x=\"897.5\" y=\"-179.3\" font-family=\"Helvetica,sans-Serif\" font-size=\"14.00\">gini = 0.0</text>\r\n",
       "<text text-anchor=\"start\" x=\"870.5\" y=\"-164.3\" font-family=\"Helvetica,sans-Serif\" font-size=\"14.00\">samples = 31.4%</text>\r\n",
       "<text text-anchor=\"start\" x=\"860\" y=\"-149.3\" font-family=\"Helvetica,sans-Serif\" font-size=\"14.00\">value = [0.0, 0.0, 1.0]</text>\r\n",
       "<text text-anchor=\"start\" x=\"876.5\" y=\"-134.3\" font-family=\"Helvetica,sans-Serif\" font-size=\"14.00\">class = virginica</text>\r\n",
       "</g>\r\n",
       "<!-- 10&#45;&gt;14 -->\r\n",
       "<g id=\"edge14\" class=\"edge\"><title>10&#45;&gt;14</title>\r\n",
       "<path fill=\"none\" stroke=\"black\" d=\"M809.449,-252.972C826.491,-240.745 844.776,-227.628 861.709,-215.481\"/>\r\n",
       "<polygon fill=\"black\" stroke=\"black\" points=\"863.816,-218.276 869.901,-209.603 859.736,-212.589 863.816,-218.276\"/>\r\n",
       "</g>\r\n",
       "<!-- 12 -->\r\n",
       "<g id=\"node13\" class=\"node\"><title>12</title>\r\n",
       "<path fill=\"#8139e5\" stroke=\"black\" d=\"M805,-83C805,-83 680,-83 680,-83 674,-83 668,-77 668,-71 668,-71 668,-12 668,-12 668,-6 674,-0 680,-0 680,-0 805,-0 805,-0 811,-0 817,-6 817,-12 817,-12 817,-71 817,-71 817,-77 811,-83 805,-83\"/>\r\n",
       "<text text-anchor=\"start\" x=\"712\" y=\"-67.8\" font-family=\"Helvetica,sans-Serif\" font-size=\"14.00\">node #12</text>\r\n",
       "<text text-anchor=\"start\" x=\"713.5\" y=\"-52.8\" font-family=\"Helvetica,sans-Serif\" font-size=\"14.00\">gini = 0.0</text>\r\n",
       "<text text-anchor=\"start\" x=\"691\" y=\"-37.8\" font-family=\"Helvetica,sans-Serif\" font-size=\"14.00\">samples = 1.9%</text>\r\n",
       "<text text-anchor=\"start\" x=\"676\" y=\"-22.8\" font-family=\"Helvetica,sans-Serif\" font-size=\"14.00\">value = [0.0, 0.0, 1.0]</text>\r\n",
       "<text text-anchor=\"start\" x=\"692.5\" y=\"-7.8\" font-family=\"Helvetica,sans-Serif\" font-size=\"14.00\">class = virginica</text>\r\n",
       "</g>\r\n",
       "<!-- 11&#45;&gt;12 -->\r\n",
       "<g id=\"edge12\" class=\"edge\"><title>11&#45;&gt;12</title>\r\n",
       "<path fill=\"none\" stroke=\"black\" d=\"M742.5,-118.865C742.5,-110.498 742.5,-101.771 742.5,-93.3346\"/>\r\n",
       "<polygon fill=\"black\" stroke=\"black\" points=\"746,-93.2309 742.5,-83.231 739,-93.231 746,-93.2309\"/>\r\n",
       "</g>\r\n",
       "<!-- 13 -->\r\n",
       "<g id=\"node14\" class=\"node\"><title>13</title>\r\n",
       "<path fill=\"#39e581\" stroke=\"black\" d=\"M972,-83C972,-83 847,-83 847,-83 841,-83 835,-77 835,-71 835,-71 835,-12 835,-12 835,-6 841,-0 847,-0 847,-0 972,-0 972,-0 978,-0 984,-6 984,-12 984,-12 984,-71 984,-71 984,-77 978,-83 972,-83\"/>\r\n",
       "<text text-anchor=\"start\" x=\"879\" y=\"-67.8\" font-family=\"Helvetica,sans-Serif\" font-size=\"14.00\">node #13</text>\r\n",
       "<text text-anchor=\"start\" x=\"880.5\" y=\"-52.8\" font-family=\"Helvetica,sans-Serif\" font-size=\"14.00\">gini = 0.0</text>\r\n",
       "<text text-anchor=\"start\" x=\"858\" y=\"-37.8\" font-family=\"Helvetica,sans-Serif\" font-size=\"14.00\">samples = 1.0%</text>\r\n",
       "<text text-anchor=\"start\" x=\"843\" y=\"-22.8\" font-family=\"Helvetica,sans-Serif\" font-size=\"14.00\">value = [0.0, 1.0, 0.0]</text>\r\n",
       "<text text-anchor=\"start\" x=\"854\" y=\"-7.8\" font-family=\"Helvetica,sans-Serif\" font-size=\"14.00\">class = versicolor</text>\r\n",
       "</g>\r\n",
       "<!-- 11&#45;&gt;13 -->\r\n",
       "<g id=\"edge13\" class=\"edge\"><title>11&#45;&gt;13</title>\r\n",
       "<path fill=\"none\" stroke=\"black\" d=\"M807.067,-118.865C820.216,-109.062 834.027,-98.7658 847.1,-89.0201\"/>\r\n",
       "<polygon fill=\"black\" stroke=\"black\" points=\"849.206,-91.8155 855.131,-83.0325 845.022,-86.2034 849.206,-91.8155\"/>\r\n",
       "</g>\r\n",
       "</g>\r\n",
       "</svg>\r\n"
      ],
      "text/plain": [
       "<graphviz.files.Source at 0x21f70cfb608>"
      ]
     },
     "execution_count": 27,
     "metadata": {},
     "output_type": "execute_result"
    }
   ],
   "source": [
    "dot_data = tree.export_graphviz(\n",
    "        clf, # Modelo\n",
    "        out_file=None, #Se deseja exporta o arquivo\n",
    "        feature_names=iris.feature_names, # Features do dataset\n",
    "        class_names=iris.target_names, # Alvo do data set\n",
    "        filled=True, # Preencher a caixa em volta\n",
    "        rounded= True, # Borda arredondada\n",
    "        proportion=True, # Proporção das imagens\n",
    "        node_ids=True, # Identificação\n",
    "        rotate=False, # Rodar o gráfico \n",
    "        label='all', # Mostrar todos os labels\n",
    "        special_characters=True # Mostra carácter especiais\n",
    ")\n",
    "\n",
    "graph = graphviz.Source(dot_data)\n",
    "graph"
   ]
  },
  {
   "cell_type": "code",
   "execution_count": 28,
   "metadata": {},
   "outputs": [],
   "source": [
    "from ipywidgets import interactive\n",
    "from IPython.display import SVG, display\n",
    "from graphviz import Source"
   ]
  },
  {
   "cell_type": "markdown",
   "metadata": {},
   "source": [
    "**Realizando a alteração de parâmetro de forma interativa**"
   ]
  },
  {
   "cell_type": "code",
   "execution_count": 29,
   "metadata": {},
   "outputs": [
    {
     "data": {
      "application/vnd.jupyter.widget-view+json": {
       "model_id": "6b73ac88da7a4e64a13aae50976a460d",
       "version_major": 2,
       "version_minor": 0
      },
      "text/plain": [
       "interactive(children=(Dropdown(description='crit', options=('gini', 'entropy'), value='gini'), Dropdown(descri…"
      ]
     },
     "metadata": {},
     "output_type": "display_data"
    }
   ],
   "source": [
    "# load dataset\n",
    "data = load_iris()\n",
    "\n",
    "# feature matrix\n",
    "X = data.data\n",
    "\n",
    "# target vector\n",
    "y = data.target\n",
    "\n",
    "# feature labels\n",
    "features_label = data.feature_names\n",
    "\n",
    "# class label\n",
    "class_label = data.target_names\n",
    "\n",
    "\n",
    "def plot_tree(crit, split, depth, min_split, min_leaf=0.2):\n",
    "    estimator = tree.DecisionTreeClassifier(\n",
    "           random_state = 0 \n",
    "          ,criterion = crit\n",
    "          ,splitter = split\n",
    "          ,max_depth = depth\n",
    "          ,min_samples_split=min_split\n",
    "          ,min_samples_leaf=min_leaf\n",
    "    )\n",
    "\n",
    "    estimator.fit(X, y) # Treino do modelo\n",
    "    graph = Source(tree.export_graphviz(estimator \n",
    "      , out_file=None\n",
    "      , feature_names=features_label\n",
    "      , class_names=class_label\n",
    "      , filled = True))\n",
    "    display(SVG(graph.pipe(format='svg'))) # Exibição do gráfico\n",
    "    return estimator\n",
    "\n",
    "inter=interactive(plot_tree  # Função para plotar a arvore\n",
    "   , crit = [\"gini\", \"entropy\"] # Construção do Menu\n",
    "   , split = [\"best\", \"random\"]\n",
    "   , depth=[1,2,3,4,5]\n",
    "   , min_split=(0.1,1)\n",
    "   , min_leaf=(0.1,0.5))\n",
    "\n",
    "display(inter)"
   ]
  },
  {
   "cell_type": "markdown",
   "metadata": {},
   "source": [
    "**Navegando na estrutura de uma arvore de decisão**"
   ]
  },
  {
   "cell_type": "code",
   "execution_count": 30,
   "metadata": {},
   "outputs": [],
   "source": [
    "iris = load_iris()"
   ]
  },
  {
   "cell_type": "code",
   "execution_count": 31,
   "metadata": {},
   "outputs": [],
   "source": [
    "x = iris.data\n",
    "y = iris.target\n",
    "X_train, X_test, y_train, y_test = train_test_split(x, y, random_state=0)"
   ]
  },
  {
   "cell_type": "code",
   "execution_count": 32,
   "metadata": {},
   "outputs": [
    {
     "data": {
      "text/plain": [
       "DecisionTreeClassifier(class_weight=None, criterion='gini', max_depth=None,\n",
       "                       max_features=None, max_leaf_nodes=3,\n",
       "                       min_impurity_decrease=0.0, min_impurity_split=None,\n",
       "                       min_samples_leaf=1, min_samples_split=2,\n",
       "                       min_weight_fraction_leaf=0.0, presort=False,\n",
       "                       random_state=0, splitter='best')"
      ]
     },
     "execution_count": 32,
     "metadata": {},
     "output_type": "execute_result"
    }
   ],
   "source": [
    "# max_leaf_nodes Numero max de folhas\n",
    "estimator = tree.DecisionTreeClassifier(max_leaf_nodes=3, random_state=0)\n",
    "estimator.fit(X_train, y_train)"
   ]
  },
  {
   "cell_type": "code",
   "execution_count": 33,
   "metadata": {},
   "outputs": [],
   "source": [
    "n_nodes = estimator.tree_.node_count # Quantidade nós da nossa arvore \n",
    "children_left = estimator.tree_.children_left # Indice dos nós a esquerda\n",
    "children_right = estimator.tree_.children_right # Indice dos nós a esquerda\n",
    "feature = estimator.tree_.feature # Caracteristica\n",
    "threshold = estimator.tree_.threshold # Os limites da arvore"
   ]
  },
  {
   "cell_type": "code",
   "execution_count": 34,
   "metadata": {},
   "outputs": [
    {
     "name": "stdout",
     "output_type": "stream",
     "text": [
      "Número de nós: 5\n",
      "Indices a esquerda: [ 1 -1  3 -1 -1]\n",
      "Indices a direita: [ 2 -1  4 -1 -1]\n",
      "Feature: [ 3 -2  2 -2 -2]\n",
      "Limite (threshold: [ 0.80000001 -2.          4.95000005 -2.         -2.        ]\n"
     ]
    }
   ],
   "source": [
    "print(\"Número de nós: {}\".format(n_nodes))\n",
    "print(\"Indices a esquerda: {}\".format(children_left))\n",
    "print(\"Indices a direita: {}\".format(children_right))\n",
    "print(\"Feature: {}\".format(feature))\n",
    "print(\"Limite (threshold: {}\".format(threshold))"
   ]
  },
  {
   "cell_type": "code",
   "execution_count": 35,
   "metadata": {},
   "outputs": [
    {
     "name": "stdout",
     "output_type": "stream",
     "text": [
      "\n",
      "A arvore binária tem 5 nós e a seguinte estrutura: \n",
      "\n",
      "nó=0 (nó teste): vai para o nó 1 se o valor do atributo petal width (cm) <= 0.800000011920929 \n",
      " se não, vai para o nó 2.\n",
      "\tnó=1 (nó folha).\n",
      "\tnó=2 (nó teste): vai para o nó 3 se o valor do atributo petal length (cm) <= 4.950000047683716 \n",
      " se não, vai para o nó 4.\n",
      "\t\tnó=3 (nó folha).\n",
      "\t\tnó=4 (nó folha).\n"
     ]
    }
   ],
   "source": [
    "node_depth = np.zeros(shape=n_nodes, dtype=np.int64)\n",
    "is_leaves = np.zeros(shape=n_nodes, dtype=bool)\n",
    "stack = [(0, -1)]\n",
    "while len(stack) > 0:\n",
    "    node_id, parent_depth = stack.pop()\n",
    "    node_depth[node_id] = parent_depth + 1\n",
    "\n",
    "    if (children_left[node_id] != children_right[node_id]):\n",
    "        stack.append((children_left[node_id], parent_depth + 1))\n",
    "        stack.append((children_right[node_id], parent_depth + 1))\n",
    "    else:\n",
    "        is_leaves[node_id] = True\n",
    "\n",
    "print(\"\\nA arvore binária tem %s nós e a seguinte estrutura: \\n\"\n",
    "      % n_nodes)\n",
    "for i in range(n_nodes):\n",
    "    if is_leaves[i]:\n",
    "        print(\"%snó=%s (nó folha).\" % (node_depth[i] * \"\\t\", i))\n",
    "    else:\n",
    "        print(\"%snó=%s (nó teste): vai para o nó %s se o valor do atributo %s <= %s \\n se não, vai para o \"\n",
    "              \"nó %s.\"\n",
    "              % (node_depth[i] * \"\\t\",\n",
    "                 i,\n",
    "                 children_left[i],\n",
    "                 iris.feature_names[feature[i]],\n",
    "                 threshold[i],\n",
    "                 children_right[i],\n",
    "                 ))"
   ]
  },
  {
   "cell_type": "markdown",
   "metadata": {},
   "source": [
    "#### Extraindo regras da arvore gerada a partir de uma determinada amostra do conjunto de teste X_teste"
   ]
  },
  {
   "cell_type": "code",
   "execution_count": 37,
   "metadata": {},
   "outputs": [],
   "source": [
    "def extrai_regras(sample_id):\n",
    "    node_indicator = estimator.decision_path(X_test) # Caminho da decisão dos no\n",
    "\n",
    "    leave_id = estimator.apply(X_test) # Aplica os dados de teste para arvore\n",
    "\n",
    "    #sample_id = sample\n",
    "    node_index = node_indicator.indices[node_indicator.indptr[sample_id]:\n",
    "                                        node_indicator.indptr[sample_id + 1]]\n",
    "\n",
    "    print('\\nRegras usadas para predizer a amostra %s' % (sample_id))\n",
    "\n",
    "    for f,v in zip(iris.feature_names,X_test[sample_id]):\n",
    "        print('%s = %s'%(f,v))\n",
    "\n",
    "    print('\\n')      \n",
    "    for node_id in node_index:\n",
    "        if leave_id[sample_id] == node_id:\n",
    "            continue\n",
    "\n",
    "        if (X_test[sample_id, feature[node_id]] <= threshold[node_id]):\n",
    "            threshold_sign = \"<=\"\n",
    "        else:\n",
    "            threshold_sign = \">\"\n",
    "\n",
    "        print(\"id do nó de decisão %s : (atributo %s com valor = %s %s %s)\"\n",
    "              % (node_id,\n",
    "                 iris.feature_names[node_id],\n",
    "                 X_test[sample_id, feature[node_id]],\n",
    "                 threshold_sign,\n",
    "                 threshold[node_id]))\n",
    "    pred =estimator.predict(X_test[sample_id].reshape(1, -1)) \n",
    "    print(\"\\tClasse => %s\" %iris.target_names[pred])"
   ]
  },
  {
   "cell_type": "code",
   "execution_count": 40,
   "metadata": {},
   "outputs": [
    {
     "name": "stdout",
     "output_type": "stream",
     "text": [
      "\n",
      "Regras usadas para predizer a amostra 2\n",
      "sepal length (cm) = 5.5\n",
      "sepal width (cm) = 4.2\n",
      "petal length (cm) = 1.4\n",
      "petal width (cm) = 0.2\n",
      "\n",
      "\n",
      "id do nó de decisão 0 : (atributo sepal length (cm) com valor = 0.2 <= 0.800000011920929)\n",
      "\tClasse => ['setosa']\n"
     ]
    }
   ],
   "source": [
    "extrai_regras(2)"
   ]
  },
  {
   "cell_type": "markdown",
   "metadata": {},
   "source": [
    "**Instalação da biblioteca mlextend para visualização das fronteiras de complexidade**"
   ]
  },
  {
   "cell_type": "code",
   "execution_count": 42,
   "metadata": {},
   "outputs": [
    {
     "name": "stdout",
     "output_type": "stream",
     "text": [
      "Requirement already satisfied: mlxtend in d:\\desenvolvimento\\anaconda\\lib\\site-packages (0.17.2)\n",
      "Requirement already satisfied: numpy>=1.16.2 in d:\\desenvolvimento\\anaconda\\lib\\site-packages (from mlxtend) (1.16.5)\n",
      "Requirement already satisfied: scikit-learn>=0.20.3 in d:\\desenvolvimento\\anaconda\\lib\\site-packages (from mlxtend) (0.21.3)\n",
      "Requirement already satisfied: pandas>=0.24.2 in d:\\desenvolvimento\\anaconda\\lib\\site-packages (from mlxtend) (0.25.1)\n",
      "Requirement already satisfied: matplotlib>=3.0.0 in d:\\desenvolvimento\\anaconda\\lib\\site-packages (from mlxtend) (3.1.1)\n",
      "Requirement already satisfied: scipy>=1.2.1 in d:\\desenvolvimento\\anaconda\\lib\\site-packages (from mlxtend) (1.3.1)\n",
      "Requirement already satisfied: setuptools in d:\\desenvolvimento\\anaconda\\lib\\site-packages (from mlxtend) (41.4.0)\n",
      "Requirement already satisfied: joblib>=0.13.2 in d:\\desenvolvimento\\anaconda\\lib\\site-packages (from mlxtend) (0.13.2)\n",
      "Requirement already satisfied: pytz>=2017.2 in d:\\desenvolvimento\\anaconda\\lib\\site-packages (from pandas>=0.24.2->mlxtend) (2019.3)\n",
      "Requirement already satisfied: python-dateutil>=2.6.1 in d:\\desenvolvimento\\anaconda\\lib\\site-packages (from pandas>=0.24.2->mlxtend) (2.8.0)\n",
      "Requirement already satisfied: cycler>=0.10 in d:\\desenvolvimento\\anaconda\\lib\\site-packages (from matplotlib>=3.0.0->mlxtend) (0.10.0)\n",
      "Requirement already satisfied: kiwisolver>=1.0.1 in d:\\desenvolvimento\\anaconda\\lib\\site-packages (from matplotlib>=3.0.0->mlxtend) (1.1.0)\n",
      "Requirement already satisfied: pyparsing!=2.0.4,!=2.1.2,!=2.1.6,>=2.0.1 in d:\\desenvolvimento\\anaconda\\lib\\site-packages (from matplotlib>=3.0.0->mlxtend) (2.4.2)\n",
      "Requirement already satisfied: six>=1.5 in d:\\desenvolvimento\\anaconda\\lib\\site-packages (from python-dateutil>=2.6.1->pandas>=0.24.2->mlxtend) (1.12.0)\n"
     ]
    }
   ],
   "source": [
    "!pip install mlxtend"
   ]
  },
  {
   "cell_type": "markdown",
   "metadata": {},
   "source": [
    "**Entendendo o parâmetro min-samples-split para criação do modelo de arvore de decisão**"
   ]
  },
  {
   "cell_type": "code",
   "execution_count": 43,
   "metadata": {},
   "outputs": [
    {
     "data": {
      "image/png": "[encoded data removed]",
      "text/plain": [
       "<IPython.core.display.Image object>"
      ]
     },
     "execution_count": 43,
     "metadata": {},
     "output_type": "execute_result"
    }
   ],
   "source": [
    "from IPython.display import Image\n",
    "Image(filename='./arvore-decisao-materiais-apoio/imagens/min-samples-split.png')"
   ]
  },
  {
   "cell_type": "markdown",
   "metadata": {},
   "source": [
    "**Visualizando as fronteiras criadas pela arvore**"
   ]
  },
  {
   "cell_type": "code",
   "execution_count": 45,
   "metadata": {},
   "outputs": [],
   "source": [
    "from mlxtend.plotting import plot_decision_regions\n",
    "import matplotlib.pyplot as plt"
   ]
  },
  {
   "cell_type": "code",
   "execution_count": 56,
   "metadata": {},
   "outputs": [],
   "source": [
    "def visualize_fronteiras(msamples_split):\n",
    "    X = iris.data[:,[0,2]]\n",
    "    y = iris.target\n",
    "    \n",
    "    clf = tree.DecisionTreeClassifier(min_samples_split=msamples_split)\n",
    "    tree_model = clf.fit(X,y)\n",
    "    \n",
    "    plt.Figure(figsize=(8,5))\n",
    "    plot_decision_regions(X,y,clf=tree_model, legend=2)\n",
    "    \n",
    "    plt.xlabel('sepal length [cm]')\n",
    "    plt.ylabel('petal length [cm]')\n",
    "    plt.title('Decision Tree on Iris')\n",
    "    plt.show()"
   ]
  },
  {
   "cell_type": "code",
   "execution_count": 57,
   "metadata": {},
   "outputs": [
    {
     "data": {
      "image/png": "[encoded data removed]",
      "text/plain": [
       "<Figure size 432x288 with 1 Axes>"
      ]
     },
     "metadata": {
      "needs_background": "light"
     },
     "output_type": "display_data"
    }
   ],
   "source": [
    "visualize_fronteiras(2)"
   ]
  },
  {
   "cell_type": "code",
   "execution_count": 64,
   "metadata": {},
   "outputs": [
    {
     "data": {
      "image/png": "[encoded data removed]",
      "text/plain": [
       "<Figure size 432x288 with 1 Axes>"
      ]
     },
     "metadata": {
      "needs_background": "light"
     },
     "output_type": "display_data"
    }
   ],
   "source": [
    "visualize_fronteiras(10)"
   ]
  },
  {
   "cell_type": "code",
   "execution_count": null,
   "metadata": {},
   "outputs": [],
   "source": []
  }
 ],
 "metadata": {
  "kernelspec": {
   "display_name": "Python 3",
   "language": "python",
   "name": "python3"
  },
  "language_info": {
   "codemirror_mode": {
    "name": "ipython",
    "version": 3
   },
   "file_extension": ".py",
   "mimetype": "text/x-python",
   "name": "python",
   "nbconvert_exporter": "python",
   "pygments_lexer": "ipython3",
   "version": "3.7.4"
  }
 },
 "nbformat": 4,
 "nbformat_minor": 2
}
