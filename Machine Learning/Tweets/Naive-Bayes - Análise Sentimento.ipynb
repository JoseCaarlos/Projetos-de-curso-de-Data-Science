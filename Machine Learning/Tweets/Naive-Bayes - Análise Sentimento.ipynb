{
 "cells": [
  {
   "cell_type": "markdown",
   "metadata": {},
   "source": [
    "# Naive Bayes"
   ]
  },
  {
   "cell_type": "markdown",
   "metadata": {},
   "source": [
    "# Análise de Sentimentos"
   ]
  },
  {
   "cell_type": "code",
   "execution_count": 2,
   "metadata": {},
   "outputs": [],
   "source": [
    "import nltk\n",
    "import re\n",
    "import pandas as pd\n",
    "from sklearn.feature_extraction.text import CountVectorizer\n",
    "from sklearn.naive_bayes import MultinomialNB\n",
    "from sklearn import metrics\n",
    "from sklearn.model_selection import cross_val_predict"
   ]
  },
  {
   "cell_type": "markdown",
   "metadata": {},
   "source": [
    "**Ler o arquivo de dados e conta a quantidade de linhas**"
   ]
  },
  {
   "cell_type": "code",
   "execution_count": 1,
   "metadata": {},
   "outputs": [
    {
     "ename": "NameError",
     "evalue": "name 'pd' is not defined",
     "output_type": "error",
     "traceback": [
      "\u001b[1;31m---------------------------------------------------------------------------\u001b[0m",
      "\u001b[1;31mNameError\u001b[0m                                 Traceback (most recent call last)",
      "\u001b[1;32m<ipython-input-1-344f39eaacd3>\u001b[0m in \u001b[0;36m<module>\u001b[1;34m\u001b[0m\n\u001b[1;32m----> 1\u001b[1;33m \u001b[0mdf\u001b[0m \u001b[1;33m=\u001b[0m \u001b[0mpd\u001b[0m\u001b[1;33m.\u001b[0m\u001b[0mread_csv\u001b[0m\u001b[1;33m(\u001b[0m\u001b[1;34m'./datasets/Tweets_Mg.csv'\u001b[0m\u001b[1;33m,\u001b[0m \u001b[0mencoding\u001b[0m\u001b[1;33m=\u001b[0m\u001b[1;34m'utf-8'\u001b[0m\u001b[1;33m)\u001b[0m\u001b[1;33m\u001b[0m\u001b[1;33m\u001b[0m\u001b[0m\n\u001b[0m",
      "\u001b[1;31mNameError\u001b[0m: name 'pd' is not defined"
     ]
    }
   ],
   "source": [
    "df = pd.read_csv('./datasets/Tweets_Mg.csv', encoding='utf-8')"
   ]
  },
  {
   "cell_type": "code",
   "execution_count": 6,
   "metadata": {
    "collapsed": true
   },
   "outputs": [
    {
     "name": "stdout",
     "output_type": "stream",
     "text": [
      "<class 'pandas.core.frame.DataFrame'>\n",
      "RangeIndex: 8199 entries, 0 to 8198\n",
      "Data columns (total 26 columns):\n",
      "Unnamed: 0                   8199 non-null int64\n",
      "Created At                   8199 non-null object\n",
      "Text                         8199 non-null object\n",
      "Geo Coordinates.latitude     104 non-null float64\n",
      "Geo Coordinates.longitude    104 non-null float64\n",
      "User Location                5489 non-null object\n",
      "Username                     8199 non-null object\n",
      "User Screen Name             8199 non-null object\n",
      "Retweet Count                8199 non-null int64\n",
      "Classificacao                8199 non-null object\n",
      "Observação                   1 non-null object\n",
      "Unnamed: 10                  0 non-null float64\n",
      "Unnamed: 11                  0 non-null float64\n",
      "Unnamed: 12                  0 non-null float64\n",
      "Unnamed: 13                  0 non-null float64\n",
      "Unnamed: 14                  0 non-null float64\n",
      "Unnamed: 15                  0 non-null float64\n",
      "Unnamed: 16                  0 non-null float64\n",
      "Unnamed: 17                  0 non-null float64\n",
      "Unnamed: 18                  0 non-null float64\n",
      "Unnamed: 19                  0 non-null float64\n",
      "Unnamed: 20                  0 non-null float64\n",
      "Unnamed: 21                  0 non-null float64\n",
      "Unnamed: 22                  0 non-null float64\n",
      "Unnamed: 23                  0 non-null float64\n",
      "Unnamed: 24                  0 non-null float64\n",
      "dtypes: float64(17), int64(2), object(7)\n",
      "memory usage: 1.6+ MB\n"
     ]
    }
   ],
   "source": [
    "df.info()"
   ]
  },
  {
   "cell_type": "code",
   "execution_count": 7,
   "metadata": {},
   "outputs": [
    {
     "data": {
      "text/plain": [
       "0     ���⛪ @ Catedral de Santo Antônio - Governador Valadares/MG https://t.co/JSbKamIqUJ                                                         \n",
       "1     � @ Governador Valadares, Minas Gerais https://t.co/B3ThIDJCSf                                                                             \n",
       "2     �� @ Governador Valadares, Minas Gerais https://t.co/dPkgzVR2Qw                                                                            \n",
       "3     ��� https://t.co/BnDsO34qK0                                                                                                                \n",
       "4     ��� PSOL vai questionar aumento de vereadores e prefeito de BH na Justiça - Politica - Estado de Minas https://t.co/DMg7BGsek5             \n",
       "                                                                   ...                                                                           \n",
       "95    #noticiasdorenan Uso de depósitos judiciais pelo governo tem nova polêmica em MG: O Banco… https://t.co/kHuZpKQaj5                         \n",
       "96    #OperacaoBetaLab #TimBeta #Beta #BetaLab #BetaAjudaBeta #BetaSegueBeta UOL: Desastre ambiental em MG: Empresas ped… https://t.co/kwyeKjhtcI\n",
       "97    #OperacaoBetaLab #TimBeta #Beta #BetaLab #BetaAjudaBeta #BetaSegueBeta UOL: Governo em calamidade financeira: BB a… https://t.co/1rWaHUACqt\n",
       "98    #OperacaoBetaLab #TimBeta #Beta #BetaLab #BetaAjudaBeta #BetaSegueBeta UOL: Polêmica com filho de Pimentel: Govern… https://t.co/E1EhSA9Ti3\n",
       "99    #operacaobetalab BB avisa Justiça que governo de MG não tem recursos em conta judicial https://t.co/W6AoFMMsvA #rt #sdv                    \n",
       "Name: Text, Length: 100, dtype: object"
      ]
     },
     "execution_count": 7,
     "metadata": {},
     "output_type": "execute_result"
    }
   ],
   "source": [
    "# Expande o tamanho de exibição de coluna de texto\n",
    "pd.set_option('display.max_colwidth', -1)\n",
    "df.Text.head(100)"
   ]
  },
  {
   "cell_type": "markdown",
   "metadata": {},
   "source": [
    "**Excluindo linhas duplicados**"
   ]
  },
  {
   "cell_type": "code",
   "execution_count": 9,
   "metadata": {},
   "outputs": [],
   "source": [
    "df.drop_duplicates('Text', inplace=True)"
   ]
  },
  {
   "cell_type": "code",
   "execution_count": 10,
   "metadata": {},
   "outputs": [
    {
     "data": {
      "text/plain": [
       "Unnamed: 0                   5765\n",
       "Created At                   5765\n",
       "Text                         5765\n",
       "Geo Coordinates.latitude     104 \n",
       "Geo Coordinates.longitude    104 \n",
       "User Location                3851\n",
       "Username                     5765\n",
       "User Screen Name             5765\n",
       "Retweet Count                5765\n",
       "Classificacao                5765\n",
       "Observação                   1   \n",
       "Unnamed: 10                  0   \n",
       "Unnamed: 11                  0   \n",
       "Unnamed: 12                  0   \n",
       "Unnamed: 13                  0   \n",
       "Unnamed: 14                  0   \n",
       "Unnamed: 15                  0   \n",
       "Unnamed: 16                  0   \n",
       "Unnamed: 17                  0   \n",
       "Unnamed: 18                  0   \n",
       "Unnamed: 19                  0   \n",
       "Unnamed: 20                  0   \n",
       "Unnamed: 21                  0   \n",
       "Unnamed: 22                  0   \n",
       "Unnamed: 23                  0   \n",
       "Unnamed: 24                  0   \n",
       "dtype: int64"
      ]
     },
     "execution_count": 10,
     "metadata": {},
     "output_type": "execute_result"
    }
   ],
   "source": [
    "df.count()"
   ]
  },
  {
   "cell_type": "markdown",
   "metadata": {},
   "source": [
    "**Romovendo colunas desnecessárias**"
   ]
  },
  {
   "cell_type": "code",
   "execution_count": 18,
   "metadata": {},
   "outputs": [
    {
     "name": "stdout",
     "output_type": "stream",
     "text": [
      "Colunas deletadasUnnamed: 0\n",
      "Colunas deletadasUnnamed: 10\n",
      "Colunas deletadasUnnamed: 11\n",
      "Colunas deletadasUnnamed: 12\n",
      "Colunas deletadasUnnamed: 13\n",
      "Colunas deletadasUnnamed: 14\n",
      "Colunas deletadasUnnamed: 15\n",
      "Colunas deletadasUnnamed: 16\n",
      "Colunas deletadasUnnamed: 17\n",
      "Colunas deletadasUnnamed: 18\n",
      "Colunas deletadasUnnamed: 19\n",
      "Colunas deletadasUnnamed: 20\n",
      "Colunas deletadasUnnamed: 21\n",
      "Colunas deletadasUnnamed: 22\n",
      "Colunas deletadasUnnamed: 23\n",
      "Colunas deletadasUnnamed: 24\n"
     ]
    }
   ],
   "source": [
    "for i in df.columns.values:\n",
    "    if i.startswith('Unnamed'):\n",
    "        df.drop(i, axis=1, inplace=True)\n",
    "        print(f'Colunas deletadas{i}')"
   ]
  },
  {
   "cell_type": "code",
   "execution_count": 19,
   "metadata": {},
   "outputs": [
    {
     "data": {
      "text/plain": [
       "Created At                   5765\n",
       "Text                         5765\n",
       "Geo Coordinates.latitude     104 \n",
       "Geo Coordinates.longitude    104 \n",
       "User Location                3851\n",
       "Username                     5765\n",
       "User Screen Name             5765\n",
       "Retweet Count                5765\n",
       "Classificacao                5765\n",
       "Observação                   1   \n",
       "dtype: int64"
      ]
     },
     "execution_count": 19,
     "metadata": {},
     "output_type": "execute_result"
    }
   ],
   "source": [
    "# Visualizando as colunas\n",
    "df.count()"
   ]
  },
  {
   "cell_type": "markdown",
   "metadata": {},
   "source": [
    "**Distribuição das classes neutros, positivos e negativos**"
   ]
  },
  {
   "cell_type": "code",
   "execution_count": 24,
   "metadata": {},
   "outputs": [
    {
     "data": {
      "text/plain": [
       "<matplotlib.axes._subplots.AxesSubplot at 0x1a358010548>"
      ]
     },
     "execution_count": 24,
     "metadata": {},
     "output_type": "execute_result"
    },
    {
     "data": {
      "image/png": "[encoded data removed]",
      "text/plain": [
       "<Figure size 432x288 with 1 Axes>"
      ]
     },
     "metadata": {
      "needs_background": "light"
     },
     "output_type": "display_data"
    }
   ],
   "source": [
    "%matplotlib inline\n",
    "df.Classificacao.value_counts().plot(kind='bar') # Distruibuição das classes"
   ]
  },
  {
   "cell_type": "code",
   "execution_count": 25,
   "metadata": {},
   "outputs": [
    {
     "data": {
      "text/plain": [
       "0       Neutro  \n",
       "1       Neutro  \n",
       "2       Neutro  \n",
       "3       Neutro  \n",
       "4       Negativo\n",
       "          ...   \n",
       "8194    Positivo\n",
       "8195    Positivo\n",
       "8196    Positivo\n",
       "8197    Positivo\n",
       "8198    Positivo\n",
       "Name: Classificacao, Length: 5765, dtype: object"
      ]
     },
     "execution_count": 25,
     "metadata": {},
     "output_type": "execute_result"
    }
   ],
   "source": [
    "df.Classificacao"
   ]
  },
  {
   "cell_type": "markdown",
   "metadata": {},
   "source": [
    "**Separado Tweet e suas Classes**"
   ]
  },
  {
   "cell_type": "code",
   "execution_count": 29,
   "metadata": {},
   "outputs": [],
   "source": [
    "tweets = df['Text']\n",
    "classes = df['Classificacao']"
   ]
  },
  {
   "cell_type": "code",
   "execution_count": 32,
   "metadata": {},
   "outputs": [
    {
     "data": {
      "text/plain": [
       "0    Neutro  \n",
       "1    Neutro  \n",
       "2    Neutro  \n",
       "3    Neutro  \n",
       "4    Negativo\n",
       "Name: Classificacao, dtype: object"
      ]
     },
     "execution_count": 32,
     "metadata": {},
     "output_type": "execute_result"
    }
   ],
   "source": [
    "classes.head()"
   ]
  },
  {
   "cell_type": "markdown",
   "metadata": {},
   "source": [
    "**Gerando o modelo**"
   ]
  },
  {
   "cell_type": "code",
   "execution_count": 48,
   "metadata": {},
   "outputs": [],
   "source": [
    "# Transforma o texto em uma lista de vetores das frases\n",
    "vectorizer = CountVectorizer(analyzer='word')\n",
    "freq_tweets = vectorizer.fit_transform(tweets) # Treina o nosso vetor de palavras com os tweets"
   ]
  },
  {
   "cell_type": "code",
   "execution_count": 36,
   "metadata": {},
   "outputs": [
    {
     "data": {
      "text/plain": [
       "scipy.sparse.csr.csr_matrix"
      ]
     },
     "execution_count": 36,
     "metadata": {},
     "output_type": "execute_result"
    }
   ],
   "source": [
    "type(freq_tweets) # Matriz da relação de palavras em cada frases"
   ]
  },
  {
   "cell_type": "code",
   "execution_count": 37,
   "metadata": {},
   "outputs": [
    {
     "data": {
      "text/plain": [
       "(5765, 13029)"
      ]
     },
     "execution_count": 37,
     "metadata": {},
     "output_type": "execute_result"
    }
   ],
   "source": [
    "freq_tweets.shape"
   ]
  },
  {
   "cell_type": "code",
   "execution_count": 38,
   "metadata": {},
   "outputs": [
    {
     "data": {
      "text/plain": [
       "array([[0, 0, 0, ..., 0, 0, 0],\n",
       "       [0, 0, 0, ..., 0, 0, 0],\n",
       "       [0, 0, 0, ..., 0, 0, 0],\n",
       "       ...,\n",
       "       [0, 0, 0, ..., 0, 0, 0],\n",
       "       [0, 0, 0, ..., 0, 0, 0],\n",
       "       [0, 0, 0, ..., 0, 0, 0]], dtype=int64)"
      ]
     },
     "execution_count": 38,
     "metadata": {},
     "output_type": "execute_result"
    }
   ],
   "source": [
    "freq_tweets.A"
   ]
  },
  {
   "cell_type": "markdown",
   "metadata": {},
   "source": [
    "**Cria um modelo usando Naive Bayes Multinomial**"
   ]
  },
  {
   "cell_type": "code",
   "execution_count": 42,
   "metadata": {},
   "outputs": [
    {
     "data": {
      "text/plain": [
       "MultinomialNB(alpha=1.0, class_prior=None, fit_prior=True)"
      ]
     },
     "execution_count": 42,
     "metadata": {},
     "output_type": "execute_result"
    }
   ],
   "source": [
    "# Criando o modelo \n",
    "modelo = MultinomialNB() # Alpha - A interferência de valores neutros no algoritmo \n",
    "modelo.fit(freq_tweets,classes) # Passo como parâmetro os tweets e as previsões deste tweets"
   ]
  },
  {
   "cell_type": "markdown",
   "metadata": {},
   "source": [
    "**Testando o modelo com algumas instâncias simples**"
   ]
  },
  {
   "cell_type": "code",
   "execution_count": 44,
   "metadata": {},
   "outputs": [],
   "source": [
    "# Defina instâncias de teste dentro de uma lista\n",
    "testes = ['Esse governo está no início, vamos ver o que vai dar',\n",
    "          'Estou muito feliz com o governo de Minas esse ano',\n",
    "          'O estado de Minas Gerais decretou calamidade financeira!!!',\n",
    "          'A segurança desse país está deixando a desejar',\n",
    "          'O governador de Minas é mais uma vez do PT']"
   ]
  },
  {
   "cell_type": "code",
   "execution_count": 50,
   "metadata": {},
   "outputs": [],
   "source": [
    "# Transforma os dados de teste em vetores de palavras\n",
    "freq_testes = vectorizer.transform(testes)"
   ]
  },
  {
   "cell_type": "code",
   "execution_count": 52,
   "metadata": {
    "scrolled": true
   },
   "outputs": [
    {
     "name": "stdout",
     "output_type": "stream",
     "text": [
      "Esse governo está no início, vamos ver o que vai dar , Neutro\n",
      "Estou muito feliz com o governo de Minas esse ano , Neutro\n",
      "O estado de Minas Gerais decretou calamidade financeira!!! , Negativo\n",
      "A segurança desse país está deixando a desejar , Neutro\n",
      "O governador de Minas é mais uma vez do PT , Neutro\n"
     ]
    }
   ],
   "source": [
    "# Fazendo a classficação com o modelo treinado\n",
    "# Não efetuar testes do modelos com teste arbitrário.\n",
    "for t, c in zip(testes, modelo.predict(freq_testes)):\n",
    "    print(f'{t} , {c}')"
   ]
  },
  {
   "cell_type": "code",
   "execution_count": 62,
   "metadata": {},
   "outputs": [
    {
     "name": "stdout",
     "output_type": "stream",
     "text": [
      "Esse governo está no início, vamos ver o que vai dar , Neutro\n",
      "Estou muito feliz com o governo de Minas esse ano , Neutro\n",
      "O estado de Minas Gerais decretou calamidade financeira!!! , Negativo\n",
      "A segurança desse país está deixando a desejar , Neutro\n",
      "O governador de Minas é mais uma vez do PT , Neutro\n"
     ]
    }
   ],
   "source": [
    "# Fazendo a classficação com o modelo treinado\n",
    "# Não efetuar testes do modelos com teste arbitrário.\n",
    "for t, c in zip(testes, modelo.predict(freq_testes)):\n",
    "    print(f'{t} , {c}')"
   ]
  },
  {
   "cell_type": "code",
   "execution_count": 63,
   "metadata": {},
   "outputs": [
    {
     "name": "stdout",
     "output_type": "stream",
     "text": [
      "['Negativo' 'Neutro' 'Positivo']\n"
     ]
    },
    {
     "data": {
      "text/plain": [
       "array([[0.18, 0.82, 0.  ],\n",
       "       [0.02, 0.98, 0.  ],\n",
       "       [0.99, 0.01, 0.  ],\n",
       "       [0.1 , 0.89, 0.01],\n",
       "       [0.15, 0.85, 0.  ]])"
      ]
     },
     "execution_count": 63,
     "metadata": {},
     "output_type": "execute_result"
    }
   ],
   "source": [
    "# Probabilidade de cada Classe\n",
    "print(modelo.classes_)\n",
    "modelo.predict_proba(freq_testes).round(2)"
   ]
  },
  {
   "cell_type": "code",
   "execution_count": 53,
   "metadata": {},
   "outputs": [
    {
     "name": "stdout",
     "output_type": "stream",
     "text": [
      "['Negativo' 'Neutro' 'Positivo']\n"
     ]
    },
    {
     "data": {
      "text/plain": [
       "array([[0.18, 0.82, 0.  ],\n",
       "       [0.02, 0.98, 0.  ],\n",
       "       [0.99, 0.01, 0.  ],\n",
       "       [0.1 , 0.89, 0.01],\n",
       "       [0.15, 0.85, 0.  ]])"
      ]
     },
     "execution_count": 53,
     "metadata": {},
     "output_type": "execute_result"
    }
   ],
   "source": [
    "# Probabilidade de cada classe\n",
    "print(modelo.classes_)\n",
    "modelo.predict_proba(freq_testes).round(2)"
   ]
  },
  {
   "cell_type": "markdown",
   "metadata": {},
   "source": [
    "## Avaliação do Modelo"
   ]
  },
  {
   "cell_type": "markdown",
   "metadata": {},
   "source": [
    "* Usaremos a técnica de Cross Validation para avaliação dos modelos.\n",
    "* Está técnica será usada com 10 folds"
   ]
  },
  {
   "cell_type": "code",
   "execution_count": 54,
   "metadata": {},
   "outputs": [],
   "source": [
    "resultado = cross_val_predict(modelo, freq_tweets, classes, cv=10) # O modelo é treinado com 10 partes do dados."
   ]
  },
  {
   "cell_type": "code",
   "execution_count": 56,
   "metadata": {},
   "outputs": [
    {
     "data": {
      "text/html": [
       "<div>\n",
       "<style scoped>\n",
       "    .dataframe tbody tr th:only-of-type {\n",
       "        vertical-align: middle;\n",
       "    }\n",
       "\n",
       "    .dataframe tbody tr th {\n",
       "        vertical-align: top;\n",
       "    }\n",
       "\n",
       "    .dataframe thead th {\n",
       "        text-align: right;\n",
       "    }\n",
       "</style>\n",
       "<table border=\"1\" class=\"dataframe\">\n",
       "  <thead>\n",
       "    <tr style=\"text-align: right;\">\n",
       "      <th>Predito</th>\n",
       "      <th>Negativo</th>\n",
       "      <th>Neutro</th>\n",
       "      <th>Positivo</th>\n",
       "      <th>All</th>\n",
       "    </tr>\n",
       "    <tr>\n",
       "      <th>Real</th>\n",
       "      <th></th>\n",
       "      <th></th>\n",
       "      <th></th>\n",
       "      <th></th>\n",
       "    </tr>\n",
       "  </thead>\n",
       "  <tbody>\n",
       "    <tr>\n",
       "      <td>Negativo</td>\n",
       "      <td>846</td>\n",
       "      <td>100</td>\n",
       "      <td>5</td>\n",
       "      <td>951</td>\n",
       "    </tr>\n",
       "    <tr>\n",
       "      <td>Neutro</td>\n",
       "      <td>206</td>\n",
       "      <td>1656</td>\n",
       "      <td>112</td>\n",
       "      <td>1974</td>\n",
       "    </tr>\n",
       "    <tr>\n",
       "      <td>Positivo</td>\n",
       "      <td>53</td>\n",
       "      <td>294</td>\n",
       "      <td>2493</td>\n",
       "      <td>2840</td>\n",
       "    </tr>\n",
       "    <tr>\n",
       "      <td>All</td>\n",
       "      <td>1105</td>\n",
       "      <td>2050</td>\n",
       "      <td>2610</td>\n",
       "      <td>5765</td>\n",
       "    </tr>\n",
       "  </tbody>\n",
       "</table>\n",
       "</div>"
      ],
      "text/plain": [
       "Predito   Negativo  Neutro  Positivo   All\n",
       "Real                                      \n",
       "Negativo  846       100     5         951 \n",
       "Neutro    206       1656    112       1974\n",
       "Positivo  53        294     2493      2840\n",
       "All       1105      2050    2610      5765"
      ]
     },
     "execution_count": 56,
     "metadata": {},
     "output_type": "execute_result"
    }
   ],
   "source": [
    "# Matriz de confusão\n",
    "pd.crosstab(classes, resultado, rownames=['Real'], colnames=['Predito'], margins=True)"
   ]
  },
  {
   "cell_type": "markdown",
   "metadata": {},
   "source": [
    "**Métricas de validação do modelo**"
   ]
  },
  {
   "cell_type": "code",
   "execution_count": 60,
   "metadata": {},
   "outputs": [
    {
     "name": "stdout",
     "output_type": "stream",
     "text": [
      "              precision    recall  f1-score   support\n",
      "\n",
      "    Positivo       0.96      0.88      0.91      2840\n",
      "    Negativo       0.77      0.89      0.82       951\n",
      "      Neutro       0.81      0.84      0.82      1974\n",
      "\n",
      "    accuracy                           0.87      5765\n",
      "   macro avg       0.84      0.87      0.85      5765\n",
      "weighted avg       0.87      0.87      0.87      5765\n",
      "\n"
     ]
    }
   ],
   "source": [
    "sentimento = ['Positivo', 'Negativo', 'Neutro']\n",
    "print(metrics.classification_report(classes, resultado, sentimento))"
   ]
  },
  {
   "cell_type": "markdown",
   "metadata": {},
   "source": [
    "## Tunning do Naive Bayes"
   ]
  },
  {
   "cell_type": "code",
   "execution_count": 64,
   "metadata": {},
   "outputs": [],
   "source": [
    "from sklearn.model_selection import GridSearchCV"
   ]
  },
  {
   "cell_type": "markdown",
   "metadata": {},
   "source": [
    "**Defina uma lista de valores de Alpha**"
   ]
  },
  {
   "cell_type": "code",
   "execution_count": 67,
   "metadata": {},
   "outputs": [
    {
     "data": {
      "text/plain": [
       "[1, 2, 3, 4, 5, 6, 7, 8, 9, 10]"
      ]
     },
     "execution_count": 67,
     "metadata": {},
     "output_type": "execute_result"
    }
   ],
   "source": [
    "lista_alpha = list(range(1,11)) # Sensibilidade com valores neutros\n",
    "lista_alpha"
   ]
  },
  {
   "cell_type": "markdown",
   "metadata": {},
   "source": [
    "**Cria um dicionario com o nome do parâmetro e a lista de valores**"
   ]
  },
  {
   "cell_type": "code",
   "execution_count": 69,
   "metadata": {},
   "outputs": [],
   "source": [
    "parametros_grid = dict(alpha=lista_alpha)"
   ]
  },
  {
   "cell_type": "markdown",
   "metadata": {},
   "source": [
    "**Instância do Método**"
   ]
  },
  {
   "cell_type": "code",
   "execution_count": 71,
   "metadata": {},
   "outputs": [],
   "source": [
    "nv = MultinomialNB()"
   ]
  },
  {
   "cell_type": "markdown",
   "metadata": {},
   "source": [
    "**Cria o objeto GridSearch**"
   ]
  },
  {
   "cell_type": "code",
   "execution_count": 72,
   "metadata": {},
   "outputs": [],
   "source": [
    "grid = GridSearchCV(nv, parametros_grid, cv=10, scoring='accuracy')"
   ]
  },
  {
   "cell_type": "markdown",
   "metadata": {},
   "source": [
    "**Roda o grid**"
   ]
  },
  {
   "cell_type": "code",
   "execution_count": 73,
   "metadata": {},
   "outputs": [
    {
     "data": {
      "text/plain": [
       "GridSearchCV(cv=10, error_score='raise-deprecating',\n",
       "             estimator=MultinomialNB(alpha=1.0, class_prior=None,\n",
       "                                     fit_prior=True),\n",
       "             iid='warn', n_jobs=None,\n",
       "             param_grid={'alpha': [1, 2, 3, 4, 5, 6, 7, 8, 9, 10]},\n",
       "             pre_dispatch='2*n_jobs', refit=True, return_train_score=False,\n",
       "             scoring='accuracy', verbose=0)"
      ]
     },
     "execution_count": 73,
     "metadata": {},
     "output_type": "execute_result"
    }
   ],
   "source": [
    "freq_tweets = vectorizer.fit_transform(tweets)\n",
    "grid.fit(freq_tweets, classes)"
   ]
  },
  {
   "cell_type": "markdown",
   "metadata": {},
   "source": [
    "**Melhores Scores**"
   ]
  },
  {
   "cell_type": "code",
   "execution_count": 79,
   "metadata": {},
   "outputs": [
    {
     "data": {
      "text/plain": [
       "{'mean_fit_time': array([0.00997336, 0.00987344, 0.01007304, 0.00992398, 0.00997329,\n",
       "        0.00992401, 0.00992386, 0.0102725 , 0.01002376, 0.00997329]),\n",
       " 'std_fit_time': array([3.70125167e-07, 2.99072475e-04, 2.99183612e-04, 5.67242333e-04,\n",
       "        4.46168416e-04, 3.50013384e-04, 1.47796254e-04, 4.56955029e-04,\n",
       "        4.71291095e-04, 4.46061792e-04]),\n",
       " 'mean_score_time': array([0.00089755, 0.00089769, 0.00069809, 0.00039902, 0.00069818,\n",
       "        0.00069828, 0.0006983 , 0.00049868, 0.00079801, 0.00049863]),\n",
       " 'std_score_time': array([0.00029918, 0.00029923, 0.00045701, 0.00048869, 0.00045707,\n",
       "        0.00045713, 0.00045715, 0.00049868, 0.00039901, 0.00049863]),\n",
       " 'param_alpha': masked_array(data=[1, 2, 3, 4, 5, 6, 7, 8, 9, 10],\n",
       "              mask=[False, False, False, False, False, False, False, False,\n",
       "                    False, False],\n",
       "        fill_value='?',\n",
       "             dtype=object),\n",
       " 'params': [{'alpha': 1},\n",
       "  {'alpha': 2},\n",
       "  {'alpha': 3},\n",
       "  {'alpha': 4},\n",
       "  {'alpha': 5},\n",
       "  {'alpha': 6},\n",
       "  {'alpha': 7},\n",
       "  {'alpha': 8},\n",
       "  {'alpha': 9},\n",
       "  {'alpha': 10}],\n",
       " 'split0_test_score': array([0.50346021, 0.50519031, 0.52422145, 0.52249135, 0.51903114,\n",
       "        0.52076125, 0.51730104, 0.52595156, 0.53287197, 0.53114187]),\n",
       " 'split1_test_score': array([0.86655113, 0.89948007, 0.90641248, 0.89948007, 0.89774697,\n",
       "        0.89428076, 0.89254766, 0.89254766, 0.88908146, 0.88388215]),\n",
       " 'split2_test_score': array([0.82322357, 0.82149047, 0.80935875, 0.80762565, 0.79896014,\n",
       "        0.91334489, 0.90294627, 0.78856153, 0.78336222, 0.78336222]),\n",
       " 'split3_test_score': array([0.91854419, 0.90294627, 0.89601386, 0.88561525, 0.88388215,\n",
       "        0.87868284, 0.87694974, 0.87521664, 0.87001733, 0.87001733]),\n",
       " 'split4_test_score': array([0.9375    , 0.93402778, 0.921875  , 0.92013889, 0.91666667,\n",
       "        0.91666667, 0.91145833, 0.90625   , 0.90277778, 0.89583333]),\n",
       " 'split5_test_score': array([0.96875   , 0.94618056, 0.94097222, 0.93576389, 0.93576389,\n",
       "        0.93402778, 0.93229167, 0.92708333, 0.92708333, 0.92361111]),\n",
       " 'split6_test_score': array([0.91840278, 0.91493056, 0.92013889, 0.90277778, 0.87847222,\n",
       "        0.86458333, 0.86111111, 0.85590278, 0.85069444, 0.82465278]),\n",
       " 'split7_test_score': array([0.89756944, 0.91319444, 0.91145833, 0.90277778, 0.90277778,\n",
       "        0.89756944, 0.89236111, 0.890625  , 0.88888889, 0.88194444]),\n",
       " 'split8_test_score': array([0.91666667, 0.89756944, 0.88194444, 0.88020833, 0.875     ,\n",
       "        0.87326389, 0.86979167, 0.86458333, 0.86111111, 0.85590278]),\n",
       " 'split9_test_score': array([0.91493056, 0.90972222, 0.90798611, 0.89756944, 0.88888889,\n",
       "        0.88541667, 0.88368056, 0.875     , 0.87152778, 0.86805556]),\n",
       " 'mean_test_score': array([0.86643539, 0.86435386, 0.86192541, 0.85533391, 0.84960971,\n",
       "        0.85776236, 0.85394623, 0.84006938, 0.83764094, 0.83174328]),\n",
       " 'std_test_score': array([0.12677652, 0.12390986, 0.11766113, 0.11566185, 0.11549032,\n",
       "        0.11429878, 0.11408169, 0.11051671, 0.10793342, 0.10683222]),\n",
       " 'rank_test_score': array([ 1,  2,  3,  5,  7,  4,  6,  8,  9, 10])}"
      ]
     },
     "execution_count": 79,
     "metadata": {},
     "output_type": "execute_result"
    }
   ],
   "source": [
    "grid.cv_results_"
   ]
  },
  {
   "cell_type": "markdown",
   "metadata": {},
   "source": [
    "**Melhores Parâmetros**"
   ]
  },
  {
   "cell_type": "code",
   "execution_count": 80,
   "metadata": {},
   "outputs": [
    {
     "data": {
      "text/plain": [
       "{'alpha': 1}"
      ]
     },
     "execution_count": 80,
     "metadata": {},
     "output_type": "execute_result"
    }
   ],
   "source": [
    "grid.best_params_"
   ]
  },
  {
   "cell_type": "code",
   "execution_count": 81,
   "metadata": {},
   "outputs": [
    {
     "data": {
      "text/plain": [
       "0.8664353859496965"
      ]
     },
     "execution_count": 81,
     "metadata": {},
     "output_type": "execute_result"
    }
   ],
   "source": [
    "grid.best_score_"
   ]
  },
  {
   "cell_type": "markdown",
   "metadata": {},
   "source": [
    "**Validando tunning do Algoritmo**"
   ]
  },
  {
   "cell_type": "code",
   "execution_count": 82,
   "metadata": {},
   "outputs": [
    {
     "data": {
      "text/plain": [
       "MultinomialNB(alpha=5, class_prior=None, fit_prior=True)"
      ]
     },
     "execution_count": 82,
     "metadata": {},
     "output_type": "execute_result"
    }
   ],
   "source": [
    "vectorizer = CountVectorizer(analyzer='word')\n",
    "freq_tweets = vectorizer.fit_transform(tweets)\n",
    "modelo = MultinomialNB(alpha=5)\n",
    "modelo.fit(freq_tweets, classes)"
   ]
  },
  {
   "cell_type": "code",
   "execution_count": 83,
   "metadata": {},
   "outputs": [],
   "source": [
    "freq_teste = vectorizer.transform(testes)"
   ]
  },
  {
   "cell_type": "code",
   "execution_count": 85,
   "metadata": {},
   "outputs": [
    {
     "data": {
      "text/plain": [
       "array(['Neutro', 'Neutro', 'Negativo', 'Neutro', 'Neutro'], dtype='<U8')"
      ]
     },
     "execution_count": 85,
     "metadata": {},
     "output_type": "execute_result"
    }
   ],
   "source": [
    "# Fazendo a classificação com o modelo treinado\n",
    "modelo.predict(freq_teste)"
   ]
  },
  {
   "cell_type": "code",
   "execution_count": 90,
   "metadata": {},
   "outputs": [],
   "source": [
    "resultados = cross_val_predict(modelo, freq_tweets, classes, cv=10)"
   ]
  },
  {
   "cell_type": "code",
   "execution_count": 91,
   "metadata": {},
   "outputs": [
    {
     "name": "stdout",
     "output_type": "stream",
     "text": [
      "              precision    recall  f1-score   support\n",
      "\n",
      "    Negativo       0.77      0.89      0.82       951\n",
      "      Neutro       0.81      0.84      0.82      1974\n",
      "    Positivo       0.96      0.88      0.91      2840\n",
      "\n",
      "    accuracy                           0.87      5765\n",
      "   macro avg       0.84      0.87      0.85      5765\n",
      "weighted avg       0.87      0.87      0.87      5765\n",
      "\n"
     ]
    }
   ],
   "source": [
    "sentimento = ['Positivo', 'Negativo', 'Neutro']\n",
    "print(metrics.classification_report(classes, resultado))"
   ]
  },
  {
   "cell_type": "markdown",
   "metadata": {},
   "source": [
    "**Considerações Finais**"
   ]
  },
  {
   "cell_type": "markdown",
   "metadata": {},
   "source": [
    "* Considere aumentar a quantidade de dados de treino.\n",
    "\n",
    "* Pela sua simplicidade o Naive Bayes pode ser usado perfeitamente como um algoritmo de Baseline.\n",
    "\n",
    "* Considere alterar os parâmetros do algoritmo.\n",
    "\n",
    "* Em tarefas de classificação de textos considere utilizar outras modelagens como Bigrams por exemplo.\n",
    "\n",
    "* Em tarefas envolvendo textos outras técnicas como stemming ou remoção de stoptowords podem dar bons resultados.\n"
   ]
  },
  {
   "cell_type": "code",
   "execution_count": null,
   "metadata": {},
   "outputs": [],
   "source": []
  }
 ],
 "metadata": {
  "kernelspec": {
   "display_name": "Python 3",
   "language": "python",
   "name": "python3"
  },
  "language_info": {
   "codemirror_mode": {
    "name": "ipython",
    "version": 3
   },
   "file_extension": ".py",
   "mimetype": "text/x-python",
   "name": "python",
   "nbconvert_exporter": "python",
   "pygments_lexer": "ipython3",
   "version": "3.7.4"
  }
 },
 "nbformat": 4,
 "nbformat_minor": 2
}
